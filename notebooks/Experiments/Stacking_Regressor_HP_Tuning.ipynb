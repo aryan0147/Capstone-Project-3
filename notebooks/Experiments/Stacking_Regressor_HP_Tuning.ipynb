{
  "cells": [
    {
      "cell_type": "code",
      "execution_count": 1,
      "metadata": {
        "id": "Kje27pyKIlRO"
      },
      "outputs": [],
      "source": [
        "import numpy as np\n",
        "import pandas as pd\n",
        "import data_clean_utils\n",
        "from sklearn.pipeline import Pipeline\n",
        "from sklearn.compose import ColumnTransformer\n",
        "from sklearn.impute import SimpleImputer, KNNImputer, MissingIndicator\n",
        "from sklearn.preprocessing import OneHotEncoder, StandardScaler, LabelEncoder, MinMaxScaler, PowerTransformer, OrdinalEncoder\n",
        "from sklearn.model_selection import train_test_split"
      ]
    },
    {
      "cell_type": "code",
      "execution_count": 2,
      "metadata": {
        "colab": {
          "base_uri": "https://localhost:8080/",
          "height": 50
        },
        "id": "RslgFwABsa6k",
        "outputId": "df30b32d-8a37-413d-f0b5-816ab998c594"
      },
      "outputs": [
        {
          "data": {
            "text/html": [
              "<pre style=\"white-space:pre;overflow-x:auto;line-height:normal;font-family:Menlo,'DejaVu Sans Mono',consolas,'Courier New',monospace\">Accessing as aryan0147\n",
              "</pre>\n"
            ],
            "text/plain": [
              "Accessing as aryan0147\n"
            ]
          },
          "metadata": {},
          "output_type": "display_data"
        },
        {
          "data": {
            "text/html": [
              "<pre style=\"white-space:pre;overflow-x:auto;line-height:normal;font-family:Menlo,'DejaVu Sans Mono',consolas,'Courier New',monospace\">Initialized MLflow to track repo <span style=\"color: #008000; text-decoration-color: #008000\">\"aryan0147/Capstone-Project-3\"</span>\n",
              "</pre>\n"
            ],
            "text/plain": [
              "Initialized MLflow to track repo \u001b[32m\"aryan0147/Capstone-Project-3\"\u001b[0m\n"
            ]
          },
          "metadata": {},
          "output_type": "display_data"
        },
        {
          "data": {
            "text/html": [
              "<pre style=\"white-space:pre;overflow-x:auto;line-height:normal;font-family:Menlo,'DejaVu Sans Mono',consolas,'Courier New',monospace\">Repository aryan0147/Capstone-Project-<span style=\"color: #008080; text-decoration-color: #008080; font-weight: bold\">3</span> initialized!\n",
              "</pre>\n"
            ],
            "text/plain": [
              "Repository aryan0147/Capstone-Project-\u001b[1;36m3\u001b[0m initialized!\n"
            ]
          },
          "metadata": {},
          "output_type": "display_data"
        }
      ],
      "source": [
        "import dagshub\n",
        "dagshub.init(repo_owner='aryan0147', repo_name='Capstone-Project-3', mlflow=True)"
      ]
    },
    {
      "cell_type": "code",
      "execution_count": 3,
      "metadata": {
        "id": "Z_BcwFkgsyht"
      },
      "outputs": [],
      "source": [
        "import mlflow"
      ]
    },
    {
      "cell_type": "code",
      "execution_count": 4,
      "metadata": {
        "id": "jB813z9Zsu3S"
      },
      "outputs": [],
      "source": [
        "\n",
        "mlflow.set_tracking_uri(\"https://dagshub.com/aryan0147/Capstone-Project-3.mlflow\")"
      ]
    },
    {
      "cell_type": "code",
      "execution_count": 5,
      "metadata": {
        "colab": {
          "base_uri": "https://localhost:8080/"
        },
        "id": "kGIckb5ws2jb",
        "outputId": "a16b7284-cb3a-41ed-9f90-bb21cc14469e"
      },
      "outputs": [
        {
          "name": "stderr",
          "output_type": "stream",
          "text": [
            "2025/02/13 12:54:24 INFO mlflow.tracking.fluent: Experiment with name 'Exp 5 - Stacking Regressor' does not exist. Creating a new experiment.\n"
          ]
        },
        {
          "data": {
            "text/plain": [
              "<Experiment: artifact_location='mlflow-artifacts:/266ce6c97dd24849ad2153a473290413', creation_time=1739431467053, experiment_id='4', last_update_time=1739431467053, lifecycle_stage='active', name='Exp 5 - Stacking Regressor', tags={}>"
            ]
          },
          "execution_count": 5,
          "metadata": {},
          "output_type": "execute_result"
        }
      ],
      "source": [
        "# mlflow experiment\n",
        "\n",
        "mlflow.set_experiment(\"Exp 5 - Stacking Regressor\")"
      ]
    },
    {
      "cell_type": "code",
      "execution_count": 6,
      "metadata": {
        "id": "r7eob7mfjxgl"
      },
      "outputs": [],
      "source": [
        "from sklearn import set_config\n",
        "\n",
        "set_config(transform_output=\"pandas\")"
      ]
    },
    {
      "cell_type": "markdown",
      "metadata": {
        "id": "1vFGURsDVtnH"
      },
      "source": [
        "# Load the Data"
      ]
    },
    {
      "cell_type": "code",
      "execution_count": 7,
      "metadata": {
        "colab": {
          "base_uri": "https://localhost:8080/",
          "height": 443
        },
        "id": "I0fKq6d3Y2W2",
        "outputId": "880ff278-5e59-4b44-9da3-35c20330732d"
      },
      "outputs": [
        {
          "data": {
            "text/html": [
              "<div>\n",
              "<style scoped>\n",
              "    .dataframe tbody tr th:only-of-type {\n",
              "        vertical-align: middle;\n",
              "    }\n",
              "\n",
              "    .dataframe tbody tr th {\n",
              "        vertical-align: top;\n",
              "    }\n",
              "\n",
              "    .dataframe thead th {\n",
              "        text-align: right;\n",
              "    }\n",
              "</style>\n",
              "<table border=\"1\" class=\"dataframe\">\n",
              "  <thead>\n",
              "    <tr style=\"text-align: right;\">\n",
              "      <th></th>\n",
              "      <th>rider_id</th>\n",
              "      <th>age</th>\n",
              "      <th>ratings</th>\n",
              "      <th>restaurant_latitude</th>\n",
              "      <th>restaurant_longitude</th>\n",
              "      <th>delivery_latitude</th>\n",
              "      <th>delivery_longitude</th>\n",
              "      <th>order_date</th>\n",
              "      <th>weather</th>\n",
              "      <th>traffic</th>\n",
              "      <th>...</th>\n",
              "      <th>city_name</th>\n",
              "      <th>order_day</th>\n",
              "      <th>order_month</th>\n",
              "      <th>order_day_of_week</th>\n",
              "      <th>is_weekend</th>\n",
              "      <th>pickup_time_minutes</th>\n",
              "      <th>order_time_hour</th>\n",
              "      <th>order_time_of_day</th>\n",
              "      <th>distance</th>\n",
              "      <th>distance_type</th>\n",
              "    </tr>\n",
              "  </thead>\n",
              "  <tbody>\n",
              "    <tr>\n",
              "      <th>0</th>\n",
              "      <td>INDORES13DEL02</td>\n",
              "      <td>37.0</td>\n",
              "      <td>4.9</td>\n",
              "      <td>22.745049</td>\n",
              "      <td>75.892471</td>\n",
              "      <td>22.765049</td>\n",
              "      <td>75.912471</td>\n",
              "      <td>2022-03-19</td>\n",
              "      <td>sunny</td>\n",
              "      <td>high</td>\n",
              "      <td>...</td>\n",
              "      <td>INDO</td>\n",
              "      <td>19</td>\n",
              "      <td>3</td>\n",
              "      <td>saturday</td>\n",
              "      <td>1</td>\n",
              "      <td>15.0</td>\n",
              "      <td>11.0</td>\n",
              "      <td>morning</td>\n",
              "      <td>3.025149</td>\n",
              "      <td>short</td>\n",
              "    </tr>\n",
              "    <tr>\n",
              "      <th>1</th>\n",
              "      <td>BANGRES18DEL02</td>\n",
              "      <td>34.0</td>\n",
              "      <td>4.5</td>\n",
              "      <td>12.913041</td>\n",
              "      <td>77.683237</td>\n",
              "      <td>13.043041</td>\n",
              "      <td>77.813237</td>\n",
              "      <td>2022-03-25</td>\n",
              "      <td>stormy</td>\n",
              "      <td>jam</td>\n",
              "      <td>...</td>\n",
              "      <td>BANG</td>\n",
              "      <td>25</td>\n",
              "      <td>3</td>\n",
              "      <td>friday</td>\n",
              "      <td>0</td>\n",
              "      <td>5.0</td>\n",
              "      <td>19.0</td>\n",
              "      <td>evening</td>\n",
              "      <td>20.183530</td>\n",
              "      <td>very_long</td>\n",
              "    </tr>\n",
              "    <tr>\n",
              "      <th>2</th>\n",
              "      <td>BANGRES19DEL01</td>\n",
              "      <td>23.0</td>\n",
              "      <td>4.4</td>\n",
              "      <td>12.914264</td>\n",
              "      <td>77.678400</td>\n",
              "      <td>12.924264</td>\n",
              "      <td>77.688400</td>\n",
              "      <td>2022-03-19</td>\n",
              "      <td>sandstorms</td>\n",
              "      <td>low</td>\n",
              "      <td>...</td>\n",
              "      <td>BANG</td>\n",
              "      <td>19</td>\n",
              "      <td>3</td>\n",
              "      <td>saturday</td>\n",
              "      <td>1</td>\n",
              "      <td>15.0</td>\n",
              "      <td>8.0</td>\n",
              "      <td>morning</td>\n",
              "      <td>1.552758</td>\n",
              "      <td>short</td>\n",
              "    </tr>\n",
              "    <tr>\n",
              "      <th>3</th>\n",
              "      <td>COIMBRES13DEL02</td>\n",
              "      <td>38.0</td>\n",
              "      <td>4.7</td>\n",
              "      <td>11.003669</td>\n",
              "      <td>76.976494</td>\n",
              "      <td>11.053669</td>\n",
              "      <td>77.026494</td>\n",
              "      <td>2022-04-05</td>\n",
              "      <td>sunny</td>\n",
              "      <td>medium</td>\n",
              "      <td>...</td>\n",
              "      <td>COIMB</td>\n",
              "      <td>5</td>\n",
              "      <td>4</td>\n",
              "      <td>tuesday</td>\n",
              "      <td>0</td>\n",
              "      <td>10.0</td>\n",
              "      <td>18.0</td>\n",
              "      <td>evening</td>\n",
              "      <td>7.790401</td>\n",
              "      <td>medium</td>\n",
              "    </tr>\n",
              "    <tr>\n",
              "      <th>4</th>\n",
              "      <td>CHENRES12DEL01</td>\n",
              "      <td>32.0</td>\n",
              "      <td>4.6</td>\n",
              "      <td>12.972793</td>\n",
              "      <td>80.249982</td>\n",
              "      <td>13.012793</td>\n",
              "      <td>80.289982</td>\n",
              "      <td>2022-03-26</td>\n",
              "      <td>cloudy</td>\n",
              "      <td>high</td>\n",
              "      <td>...</td>\n",
              "      <td>CHEN</td>\n",
              "      <td>26</td>\n",
              "      <td>3</td>\n",
              "      <td>saturday</td>\n",
              "      <td>1</td>\n",
              "      <td>15.0</td>\n",
              "      <td>13.0</td>\n",
              "      <td>afternoon</td>\n",
              "      <td>6.210138</td>\n",
              "      <td>medium</td>\n",
              "    </tr>\n",
              "    <tr>\n",
              "      <th>...</th>\n",
              "      <td>...</td>\n",
              "      <td>...</td>\n",
              "      <td>...</td>\n",
              "      <td>...</td>\n",
              "      <td>...</td>\n",
              "      <td>...</td>\n",
              "      <td>...</td>\n",
              "      <td>...</td>\n",
              "      <td>...</td>\n",
              "      <td>...</td>\n",
              "      <td>...</td>\n",
              "      <td>...</td>\n",
              "      <td>...</td>\n",
              "      <td>...</td>\n",
              "      <td>...</td>\n",
              "      <td>...</td>\n",
              "      <td>...</td>\n",
              "      <td>...</td>\n",
              "      <td>...</td>\n",
              "      <td>...</td>\n",
              "      <td>...</td>\n",
              "    </tr>\n",
              "    <tr>\n",
              "      <th>45497</th>\n",
              "      <td>JAPRES04DEL01</td>\n",
              "      <td>30.0</td>\n",
              "      <td>4.8</td>\n",
              "      <td>26.902328</td>\n",
              "      <td>75.794257</td>\n",
              "      <td>26.912328</td>\n",
              "      <td>75.804257</td>\n",
              "      <td>2022-03-24</td>\n",
              "      <td>windy</td>\n",
              "      <td>high</td>\n",
              "      <td>...</td>\n",
              "      <td>JAP</td>\n",
              "      <td>24</td>\n",
              "      <td>3</td>\n",
              "      <td>thursday</td>\n",
              "      <td>0</td>\n",
              "      <td>10.0</td>\n",
              "      <td>11.0</td>\n",
              "      <td>morning</td>\n",
              "      <td>1.489846</td>\n",
              "      <td>short</td>\n",
              "    </tr>\n",
              "    <tr>\n",
              "      <th>45498</th>\n",
              "      <td>AGRRES16DEL01</td>\n",
              "      <td>21.0</td>\n",
              "      <td>4.6</td>\n",
              "      <td>NaN</td>\n",
              "      <td>NaN</td>\n",
              "      <td>NaN</td>\n",
              "      <td>NaN</td>\n",
              "      <td>2022-02-16</td>\n",
              "      <td>windy</td>\n",
              "      <td>jam</td>\n",
              "      <td>...</td>\n",
              "      <td>AGR</td>\n",
              "      <td>16</td>\n",
              "      <td>2</td>\n",
              "      <td>wednesday</td>\n",
              "      <td>0</td>\n",
              "      <td>15.0</td>\n",
              "      <td>19.0</td>\n",
              "      <td>evening</td>\n",
              "      <td>NaN</td>\n",
              "      <td>NaN</td>\n",
              "    </tr>\n",
              "    <tr>\n",
              "      <th>45499</th>\n",
              "      <td>CHENRES08DEL03</td>\n",
              "      <td>30.0</td>\n",
              "      <td>4.9</td>\n",
              "      <td>13.022394</td>\n",
              "      <td>80.242439</td>\n",
              "      <td>13.052394</td>\n",
              "      <td>80.272439</td>\n",
              "      <td>2022-03-11</td>\n",
              "      <td>cloudy</td>\n",
              "      <td>low</td>\n",
              "      <td>...</td>\n",
              "      <td>CHEN</td>\n",
              "      <td>11</td>\n",
              "      <td>3</td>\n",
              "      <td>friday</td>\n",
              "      <td>0</td>\n",
              "      <td>15.0</td>\n",
              "      <td>23.0</td>\n",
              "      <td>night</td>\n",
              "      <td>4.657195</td>\n",
              "      <td>short</td>\n",
              "    </tr>\n",
              "    <tr>\n",
              "      <th>45500</th>\n",
              "      <td>COIMBRES11DEL01</td>\n",
              "      <td>20.0</td>\n",
              "      <td>4.7</td>\n",
              "      <td>11.001753</td>\n",
              "      <td>76.986241</td>\n",
              "      <td>11.041753</td>\n",
              "      <td>77.026241</td>\n",
              "      <td>2022-03-07</td>\n",
              "      <td>cloudy</td>\n",
              "      <td>high</td>\n",
              "      <td>...</td>\n",
              "      <td>COIMB</td>\n",
              "      <td>7</td>\n",
              "      <td>3</td>\n",
              "      <td>monday</td>\n",
              "      <td>0</td>\n",
              "      <td>5.0</td>\n",
              "      <td>13.0</td>\n",
              "      <td>afternoon</td>\n",
              "      <td>6.232393</td>\n",
              "      <td>medium</td>\n",
              "    </tr>\n",
              "    <tr>\n",
              "      <th>45501</th>\n",
              "      <td>RANCHIRES09DEL02</td>\n",
              "      <td>23.0</td>\n",
              "      <td>4.9</td>\n",
              "      <td>23.351058</td>\n",
              "      <td>85.325731</td>\n",
              "      <td>23.431058</td>\n",
              "      <td>85.405731</td>\n",
              "      <td>2022-03-02</td>\n",
              "      <td>fog</td>\n",
              "      <td>medium</td>\n",
              "      <td>...</td>\n",
              "      <td>RANCHI</td>\n",
              "      <td>2</td>\n",
              "      <td>3</td>\n",
              "      <td>wednesday</td>\n",
              "      <td>0</td>\n",
              "      <td>5.0</td>\n",
              "      <td>17.0</td>\n",
              "      <td>afternoon</td>\n",
              "      <td>12.074396</td>\n",
              "      <td>long</td>\n",
              "    </tr>\n",
              "  </tbody>\n",
              "</table>\n",
              "<p>45502 rows × 27 columns</p>\n",
              "</div>"
            ],
            "text/plain": [
              "                rider_id   age  ratings  restaurant_latitude  \\\n",
              "0        INDORES13DEL02   37.0      4.9            22.745049   \n",
              "1        BANGRES18DEL02   34.0      4.5            12.913041   \n",
              "2        BANGRES19DEL01   23.0      4.4            12.914264   \n",
              "3       COIMBRES13DEL02   38.0      4.7            11.003669   \n",
              "4        CHENRES12DEL01   32.0      4.6            12.972793   \n",
              "...                  ...   ...      ...                  ...   \n",
              "45497     JAPRES04DEL01   30.0      4.8            26.902328   \n",
              "45498     AGRRES16DEL01   21.0      4.6                  NaN   \n",
              "45499    CHENRES08DEL03   30.0      4.9            13.022394   \n",
              "45500   COIMBRES11DEL01   20.0      4.7            11.001753   \n",
              "45501  RANCHIRES09DEL02   23.0      4.9            23.351058   \n",
              "\n",
              "       restaurant_longitude  delivery_latitude  delivery_longitude  \\\n",
              "0                 75.892471          22.765049           75.912471   \n",
              "1                 77.683237          13.043041           77.813237   \n",
              "2                 77.678400          12.924264           77.688400   \n",
              "3                 76.976494          11.053669           77.026494   \n",
              "4                 80.249982          13.012793           80.289982   \n",
              "...                     ...                ...                 ...   \n",
              "45497             75.794257          26.912328           75.804257   \n",
              "45498                   NaN                NaN                 NaN   \n",
              "45499             80.242439          13.052394           80.272439   \n",
              "45500             76.986241          11.041753           77.026241   \n",
              "45501             85.325731          23.431058           85.405731   \n",
              "\n",
              "       order_date     weather traffic  ...  city_name order_day order_month  \\\n",
              "0      2022-03-19       sunny    high  ...       INDO        19           3   \n",
              "1      2022-03-25      stormy     jam  ...       BANG        25           3   \n",
              "2      2022-03-19  sandstorms     low  ...       BANG        19           3   \n",
              "3      2022-04-05       sunny  medium  ...      COIMB         5           4   \n",
              "4      2022-03-26      cloudy    high  ...       CHEN        26           3   \n",
              "...           ...         ...     ...  ...        ...       ...         ...   \n",
              "45497  2022-03-24       windy    high  ...        JAP        24           3   \n",
              "45498  2022-02-16       windy     jam  ...        AGR        16           2   \n",
              "45499  2022-03-11      cloudy     low  ...       CHEN        11           3   \n",
              "45500  2022-03-07      cloudy    high  ...      COIMB         7           3   \n",
              "45501  2022-03-02         fog  medium  ...     RANCHI         2           3   \n",
              "\n",
              "       order_day_of_week is_weekend pickup_time_minutes  order_time_hour  \\\n",
              "0               saturday          1                15.0             11.0   \n",
              "1                 friday          0                 5.0             19.0   \n",
              "2               saturday          1                15.0              8.0   \n",
              "3                tuesday          0                10.0             18.0   \n",
              "4               saturday          1                15.0             13.0   \n",
              "...                  ...        ...                 ...              ...   \n",
              "45497           thursday          0                10.0             11.0   \n",
              "45498          wednesday          0                15.0             19.0   \n",
              "45499             friday          0                15.0             23.0   \n",
              "45500             monday          0                 5.0             13.0   \n",
              "45501          wednesday          0                 5.0             17.0   \n",
              "\n",
              "      order_time_of_day   distance  distance_type  \n",
              "0               morning   3.025149          short  \n",
              "1               evening  20.183530      very_long  \n",
              "2               morning   1.552758          short  \n",
              "3               evening   7.790401         medium  \n",
              "4             afternoon   6.210138         medium  \n",
              "...                 ...        ...            ...  \n",
              "45497           morning   1.489846          short  \n",
              "45498           evening        NaN            NaN  \n",
              "45499             night   4.657195          short  \n",
              "45500         afternoon   6.232393         medium  \n",
              "45501         afternoon  12.074396           long  \n",
              "\n",
              "[45502 rows x 27 columns]"
            ]
          },
          "execution_count": 7,
          "metadata": {},
          "output_type": "execute_result"
        }
      ],
      "source": [
        "# load the cleaned data\n",
        "\n",
        "df = pd.read_csv('swiggy_cleaned.csv')\n",
        "\n",
        "df"
      ]
    },
    {
      "cell_type": "code",
      "execution_count": 8,
      "metadata": {
        "colab": {
          "base_uri": "https://localhost:8080/"
        },
        "id": "06VhmH7Lb4xz",
        "outputId": "9257c9ac-62d6-452a-d4c2-ed3e3447f012"
      },
      "outputs": [
        {
          "data": {
            "text/plain": [
              "Index(['rider_id', 'age', 'ratings', 'restaurant_latitude',\n",
              "       'restaurant_longitude', 'delivery_latitude', 'delivery_longitude',\n",
              "       'order_date', 'weather', 'traffic', 'vehicle_condition',\n",
              "       'type_of_order', 'type_of_vehicle', 'multiple_deliveries', 'festival',\n",
              "       'city_type', 'time_taken', 'city_name', 'order_day', 'order_month',\n",
              "       'order_day_of_week', 'is_weekend', 'pickup_time_minutes',\n",
              "       'order_time_hour', 'order_time_of_day', 'distance', 'distance_type'],\n",
              "      dtype='object')"
            ]
          },
          "execution_count": 8,
          "metadata": {},
          "output_type": "execute_result"
        }
      ],
      "source": [
        "df.columns"
      ]
    },
    {
      "cell_type": "code",
      "execution_count": 9,
      "metadata": {
        "colab": {
          "base_uri": "https://localhost:8080/",
          "height": 443
        },
        "id": "R-UYeFPobyeh",
        "outputId": "95925450-021e-4a81-81b6-9042c2238052"
      },
      "outputs": [
        {
          "data": {
            "text/html": [
              "<div>\n",
              "<style scoped>\n",
              "    .dataframe tbody tr th:only-of-type {\n",
              "        vertical-align: middle;\n",
              "    }\n",
              "\n",
              "    .dataframe tbody tr th {\n",
              "        vertical-align: top;\n",
              "    }\n",
              "\n",
              "    .dataframe thead th {\n",
              "        text-align: right;\n",
              "    }\n",
              "</style>\n",
              "<table border=\"1\" class=\"dataframe\">\n",
              "  <thead>\n",
              "    <tr style=\"text-align: right;\">\n",
              "      <th></th>\n",
              "      <th>age</th>\n",
              "      <th>ratings</th>\n",
              "      <th>weather</th>\n",
              "      <th>traffic</th>\n",
              "      <th>vehicle_condition</th>\n",
              "      <th>type_of_order</th>\n",
              "      <th>type_of_vehicle</th>\n",
              "      <th>multiple_deliveries</th>\n",
              "      <th>festival</th>\n",
              "      <th>city_type</th>\n",
              "      <th>time_taken</th>\n",
              "      <th>is_weekend</th>\n",
              "      <th>pickup_time_minutes</th>\n",
              "      <th>order_time_of_day</th>\n",
              "      <th>distance</th>\n",
              "      <th>distance_type</th>\n",
              "    </tr>\n",
              "  </thead>\n",
              "  <tbody>\n",
              "    <tr>\n",
              "      <th>0</th>\n",
              "      <td>37.0</td>\n",
              "      <td>4.9</td>\n",
              "      <td>sunny</td>\n",
              "      <td>high</td>\n",
              "      <td>2</td>\n",
              "      <td>snack</td>\n",
              "      <td>motorcycle</td>\n",
              "      <td>0.0</td>\n",
              "      <td>no</td>\n",
              "      <td>urban</td>\n",
              "      <td>24</td>\n",
              "      <td>1</td>\n",
              "      <td>15.0</td>\n",
              "      <td>morning</td>\n",
              "      <td>3.025149</td>\n",
              "      <td>short</td>\n",
              "    </tr>\n",
              "    <tr>\n",
              "      <th>1</th>\n",
              "      <td>34.0</td>\n",
              "      <td>4.5</td>\n",
              "      <td>stormy</td>\n",
              "      <td>jam</td>\n",
              "      <td>2</td>\n",
              "      <td>snack</td>\n",
              "      <td>scooter</td>\n",
              "      <td>1.0</td>\n",
              "      <td>no</td>\n",
              "      <td>metropolitian</td>\n",
              "      <td>33</td>\n",
              "      <td>0</td>\n",
              "      <td>5.0</td>\n",
              "      <td>evening</td>\n",
              "      <td>20.183530</td>\n",
              "      <td>very_long</td>\n",
              "    </tr>\n",
              "    <tr>\n",
              "      <th>2</th>\n",
              "      <td>23.0</td>\n",
              "      <td>4.4</td>\n",
              "      <td>sandstorms</td>\n",
              "      <td>low</td>\n",
              "      <td>0</td>\n",
              "      <td>drinks</td>\n",
              "      <td>motorcycle</td>\n",
              "      <td>1.0</td>\n",
              "      <td>no</td>\n",
              "      <td>urban</td>\n",
              "      <td>26</td>\n",
              "      <td>1</td>\n",
              "      <td>15.0</td>\n",
              "      <td>morning</td>\n",
              "      <td>1.552758</td>\n",
              "      <td>short</td>\n",
              "    </tr>\n",
              "    <tr>\n",
              "      <th>3</th>\n",
              "      <td>38.0</td>\n",
              "      <td>4.7</td>\n",
              "      <td>sunny</td>\n",
              "      <td>medium</td>\n",
              "      <td>0</td>\n",
              "      <td>buffet</td>\n",
              "      <td>motorcycle</td>\n",
              "      <td>1.0</td>\n",
              "      <td>no</td>\n",
              "      <td>metropolitian</td>\n",
              "      <td>21</td>\n",
              "      <td>0</td>\n",
              "      <td>10.0</td>\n",
              "      <td>evening</td>\n",
              "      <td>7.790401</td>\n",
              "      <td>medium</td>\n",
              "    </tr>\n",
              "    <tr>\n",
              "      <th>4</th>\n",
              "      <td>32.0</td>\n",
              "      <td>4.6</td>\n",
              "      <td>cloudy</td>\n",
              "      <td>high</td>\n",
              "      <td>1</td>\n",
              "      <td>snack</td>\n",
              "      <td>scooter</td>\n",
              "      <td>1.0</td>\n",
              "      <td>no</td>\n",
              "      <td>metropolitian</td>\n",
              "      <td>30</td>\n",
              "      <td>1</td>\n",
              "      <td>15.0</td>\n",
              "      <td>afternoon</td>\n",
              "      <td>6.210138</td>\n",
              "      <td>medium</td>\n",
              "    </tr>\n",
              "    <tr>\n",
              "      <th>...</th>\n",
              "      <td>...</td>\n",
              "      <td>...</td>\n",
              "      <td>...</td>\n",
              "      <td>...</td>\n",
              "      <td>...</td>\n",
              "      <td>...</td>\n",
              "      <td>...</td>\n",
              "      <td>...</td>\n",
              "      <td>...</td>\n",
              "      <td>...</td>\n",
              "      <td>...</td>\n",
              "      <td>...</td>\n",
              "      <td>...</td>\n",
              "      <td>...</td>\n",
              "      <td>...</td>\n",
              "      <td>...</td>\n",
              "    </tr>\n",
              "    <tr>\n",
              "      <th>45497</th>\n",
              "      <td>30.0</td>\n",
              "      <td>4.8</td>\n",
              "      <td>windy</td>\n",
              "      <td>high</td>\n",
              "      <td>1</td>\n",
              "      <td>meal</td>\n",
              "      <td>motorcycle</td>\n",
              "      <td>0.0</td>\n",
              "      <td>no</td>\n",
              "      <td>metropolitian</td>\n",
              "      <td>32</td>\n",
              "      <td>0</td>\n",
              "      <td>10.0</td>\n",
              "      <td>morning</td>\n",
              "      <td>1.489846</td>\n",
              "      <td>short</td>\n",
              "    </tr>\n",
              "    <tr>\n",
              "      <th>45498</th>\n",
              "      <td>21.0</td>\n",
              "      <td>4.6</td>\n",
              "      <td>windy</td>\n",
              "      <td>jam</td>\n",
              "      <td>0</td>\n",
              "      <td>buffet</td>\n",
              "      <td>motorcycle</td>\n",
              "      <td>1.0</td>\n",
              "      <td>no</td>\n",
              "      <td>metropolitian</td>\n",
              "      <td>36</td>\n",
              "      <td>0</td>\n",
              "      <td>15.0</td>\n",
              "      <td>evening</td>\n",
              "      <td>NaN</td>\n",
              "      <td>NaN</td>\n",
              "    </tr>\n",
              "    <tr>\n",
              "      <th>45499</th>\n",
              "      <td>30.0</td>\n",
              "      <td>4.9</td>\n",
              "      <td>cloudy</td>\n",
              "      <td>low</td>\n",
              "      <td>1</td>\n",
              "      <td>drinks</td>\n",
              "      <td>scooter</td>\n",
              "      <td>0.0</td>\n",
              "      <td>no</td>\n",
              "      <td>metropolitian</td>\n",
              "      <td>16</td>\n",
              "      <td>0</td>\n",
              "      <td>15.0</td>\n",
              "      <td>night</td>\n",
              "      <td>4.657195</td>\n",
              "      <td>short</td>\n",
              "    </tr>\n",
              "    <tr>\n",
              "      <th>45500</th>\n",
              "      <td>20.0</td>\n",
              "      <td>4.7</td>\n",
              "      <td>cloudy</td>\n",
              "      <td>high</td>\n",
              "      <td>0</td>\n",
              "      <td>snack</td>\n",
              "      <td>motorcycle</td>\n",
              "      <td>1.0</td>\n",
              "      <td>no</td>\n",
              "      <td>metropolitian</td>\n",
              "      <td>26</td>\n",
              "      <td>0</td>\n",
              "      <td>5.0</td>\n",
              "      <td>afternoon</td>\n",
              "      <td>6.232393</td>\n",
              "      <td>medium</td>\n",
              "    </tr>\n",
              "    <tr>\n",
              "      <th>45501</th>\n",
              "      <td>23.0</td>\n",
              "      <td>4.9</td>\n",
              "      <td>fog</td>\n",
              "      <td>medium</td>\n",
              "      <td>2</td>\n",
              "      <td>snack</td>\n",
              "      <td>scooter</td>\n",
              "      <td>1.0</td>\n",
              "      <td>no</td>\n",
              "      <td>metropolitian</td>\n",
              "      <td>36</td>\n",
              "      <td>0</td>\n",
              "      <td>5.0</td>\n",
              "      <td>afternoon</td>\n",
              "      <td>12.074396</td>\n",
              "      <td>long</td>\n",
              "    </tr>\n",
              "  </tbody>\n",
              "</table>\n",
              "<p>45502 rows × 16 columns</p>\n",
              "</div>"
            ],
            "text/plain": [
              "        age  ratings     weather traffic  vehicle_condition type_of_order  \\\n",
              "0      37.0      4.9       sunny    high                  2         snack   \n",
              "1      34.0      4.5      stormy     jam                  2         snack   \n",
              "2      23.0      4.4  sandstorms     low                  0        drinks   \n",
              "3      38.0      4.7       sunny  medium                  0        buffet   \n",
              "4      32.0      4.6      cloudy    high                  1         snack   \n",
              "...     ...      ...         ...     ...                ...           ...   \n",
              "45497  30.0      4.8       windy    high                  1          meal   \n",
              "45498  21.0      4.6       windy     jam                  0        buffet   \n",
              "45499  30.0      4.9      cloudy     low                  1        drinks   \n",
              "45500  20.0      4.7      cloudy    high                  0         snack   \n",
              "45501  23.0      4.9         fog  medium                  2         snack   \n",
              "\n",
              "      type_of_vehicle  multiple_deliveries festival      city_type  \\\n",
              "0          motorcycle                  0.0       no          urban   \n",
              "1             scooter                  1.0       no  metropolitian   \n",
              "2          motorcycle                  1.0       no          urban   \n",
              "3          motorcycle                  1.0       no  metropolitian   \n",
              "4             scooter                  1.0       no  metropolitian   \n",
              "...               ...                  ...      ...            ...   \n",
              "45497      motorcycle                  0.0       no  metropolitian   \n",
              "45498      motorcycle                  1.0       no  metropolitian   \n",
              "45499         scooter                  0.0       no  metropolitian   \n",
              "45500      motorcycle                  1.0       no  metropolitian   \n",
              "45501         scooter                  1.0       no  metropolitian   \n",
              "\n",
              "       time_taken  is_weekend  pickup_time_minutes order_time_of_day  \\\n",
              "0              24           1                 15.0           morning   \n",
              "1              33           0                  5.0           evening   \n",
              "2              26           1                 15.0           morning   \n",
              "3              21           0                 10.0           evening   \n",
              "4              30           1                 15.0         afternoon   \n",
              "...           ...         ...                  ...               ...   \n",
              "45497          32           0                 10.0           morning   \n",
              "45498          36           0                 15.0           evening   \n",
              "45499          16           0                 15.0             night   \n",
              "45500          26           0                  5.0         afternoon   \n",
              "45501          36           0                  5.0         afternoon   \n",
              "\n",
              "        distance distance_type  \n",
              "0       3.025149         short  \n",
              "1      20.183530     very_long  \n",
              "2       1.552758         short  \n",
              "3       7.790401        medium  \n",
              "4       6.210138        medium  \n",
              "...          ...           ...  \n",
              "45497   1.489846         short  \n",
              "45498        NaN           NaN  \n",
              "45499   4.657195         short  \n",
              "45500   6.232393        medium  \n",
              "45501  12.074396          long  \n",
              "\n",
              "[45502 rows x 16 columns]"
            ]
          },
          "execution_count": 9,
          "metadata": {},
          "output_type": "execute_result"
        }
      ],
      "source": [
        "# drop columns not required for model input\n",
        "\n",
        "columns_to_drop =  ['rider_id',\n",
        "                    'restaurant_latitude',\n",
        "                    'restaurant_longitude',\n",
        "                    'delivery_latitude',\n",
        "                    'delivery_longitude',\n",
        "                    'order_date',\n",
        "                    \"order_time_hour\",\n",
        "                    \"order_day\",\n",
        "                    \"city_name\",\n",
        "                    \"order_day_of_week\",\n",
        "                    \"order_month\"]\n",
        "\n",
        "df.drop(columns=columns_to_drop, inplace=True)\n",
        "\n",
        "df"
      ]
    },
    {
      "cell_type": "code",
      "execution_count": 10,
      "metadata": {
        "colab": {
          "base_uri": "https://localhost:8080/",
          "height": 585
        },
        "id": "IiOq4IO6cX4q",
        "outputId": "3589a783-0398-49fd-b6a6-8d159e51691d"
      },
      "outputs": [
        {
          "data": {
            "text/plain": [
              "age                    1854\n",
              "ratings                1908\n",
              "weather                 525\n",
              "traffic                 510\n",
              "vehicle_condition         0\n",
              "type_of_order             0\n",
              "type_of_vehicle           0\n",
              "multiple_deliveries     993\n",
              "festival                228\n",
              "city_type              1198\n",
              "time_taken                0\n",
              "is_weekend                0\n",
              "pickup_time_minutes    1640\n",
              "order_time_of_day      2070\n",
              "distance               3630\n",
              "distance_type          3630\n",
              "dtype: int64"
            ]
          },
          "execution_count": 10,
          "metadata": {},
          "output_type": "execute_result"
        }
      ],
      "source": [
        "# check for missing values\n",
        "\n",
        "df.isna().sum()"
      ]
    },
    {
      "cell_type": "code",
      "execution_count": 11,
      "metadata": {
        "colab": {
          "base_uri": "https://localhost:8080/"
        },
        "id": "iHMDE9Mdcxno",
        "outputId": "9f273070-f16d-4ed7-d79a-380d034ccf02"
      },
      "outputs": [
        {
          "data": {
            "text/plain": [
              "0"
            ]
          },
          "execution_count": 11,
          "metadata": {},
          "output_type": "execute_result"
        }
      ],
      "source": [
        "# check for duplicates\n",
        "\n",
        "df.duplicated().sum()"
      ]
    },
    {
      "cell_type": "code",
      "execution_count": 12,
      "metadata": {
        "colab": {
          "base_uri": "https://localhost:8080/",
          "height": 572
        },
        "id": "Q7bSLKIEc5-E",
        "outputId": "ab650200-4ad9-4b59-aa8b-eb1255640019"
      },
      "outputs": [
        {
          "data": {
            "text/plain": [
              "<Axes: >"
            ]
          },
          "execution_count": 12,
          "metadata": {},
          "output_type": "execute_result"
        },
        {
          "data": {
            "image/png": "[encoded data removed]",
            "text/plain": [
              "<Figure size 2500x1000 with 2 Axes>"
            ]
          },
          "metadata": {},
          "output_type": "display_data"
        }
      ],
      "source": [
        "import missingno as msno\n",
        "\n",
        "msno.matrix(df)"
      ]
    },
    {
      "cell_type": "code",
      "execution_count": 13,
      "metadata": {
        "colab": {
          "base_uri": "https://localhost:8080/"
        },
        "id": "eAWElUOCi4Zk",
        "outputId": "b63de866-8b64-4f26-aef5-00d596006bd7"
      },
      "outputs": [
        {
          "data": {
            "text/plain": [
              "Index(['age', 'ratings', 'weather', 'traffic', 'multiple_deliveries',\n",
              "       'festival', 'city_type', 'pickup_time_minutes', 'order_time_of_day',\n",
              "       'distance', 'distance_type'],\n",
              "      dtype='object')"
            ]
          },
          "execution_count": 13,
          "metadata": {},
          "output_type": "execute_result"
        }
      ],
      "source": [
        "# columns that have missing values\n",
        "\n",
        "missing_cols = (\n",
        "                    df\n",
        "                    .isna()\n",
        "                    .any(axis=0)\n",
        "                    .loc[lambda x: x]\n",
        "                    .index\n",
        "                )\n",
        "\n",
        "missing_cols"
      ]
    },
    {
      "cell_type": "markdown",
      "metadata": {
        "id": "A5BZQeJgkJAz"
      },
      "source": [
        "# Drop Missing values"
      ]
    },
    {
      "cell_type": "code",
      "execution_count": 14,
      "metadata": {
        "id": "lo0g_AwrRelP"
      },
      "outputs": [],
      "source": [
        "temp_df = df.copy().dropna()"
      ]
    },
    {
      "cell_type": "code",
      "execution_count": 15,
      "metadata": {
        "colab": {
          "base_uri": "https://localhost:8080/",
          "height": 443
        },
        "id": "usqGURjWRelQ",
        "outputId": "8c24284c-d879-4beb-bb03-70cebd96eb24"
      },
      "outputs": [
        {
          "data": {
            "text/html": [
              "<div>\n",
              "<style scoped>\n",
              "    .dataframe tbody tr th:only-of-type {\n",
              "        vertical-align: middle;\n",
              "    }\n",
              "\n",
              "    .dataframe tbody tr th {\n",
              "        vertical-align: top;\n",
              "    }\n",
              "\n",
              "    .dataframe thead th {\n",
              "        text-align: right;\n",
              "    }\n",
              "</style>\n",
              "<table border=\"1\" class=\"dataframe\">\n",
              "  <thead>\n",
              "    <tr style=\"text-align: right;\">\n",
              "      <th></th>\n",
              "      <th>age</th>\n",
              "      <th>ratings</th>\n",
              "      <th>weather</th>\n",
              "      <th>traffic</th>\n",
              "      <th>vehicle_condition</th>\n",
              "      <th>type_of_order</th>\n",
              "      <th>type_of_vehicle</th>\n",
              "      <th>multiple_deliveries</th>\n",
              "      <th>festival</th>\n",
              "      <th>city_type</th>\n",
              "      <th>is_weekend</th>\n",
              "      <th>pickup_time_minutes</th>\n",
              "      <th>order_time_of_day</th>\n",
              "      <th>distance</th>\n",
              "      <th>distance_type</th>\n",
              "    </tr>\n",
              "  </thead>\n",
              "  <tbody>\n",
              "    <tr>\n",
              "      <th>0</th>\n",
              "      <td>37.0</td>\n",
              "      <td>4.9</td>\n",
              "      <td>sunny</td>\n",
              "      <td>high</td>\n",
              "      <td>2</td>\n",
              "      <td>snack</td>\n",
              "      <td>motorcycle</td>\n",
              "      <td>0.0</td>\n",
              "      <td>no</td>\n",
              "      <td>urban</td>\n",
              "      <td>1</td>\n",
              "      <td>15.0</td>\n",
              "      <td>morning</td>\n",
              "      <td>3.025149</td>\n",
              "      <td>short</td>\n",
              "    </tr>\n",
              "    <tr>\n",
              "      <th>1</th>\n",
              "      <td>34.0</td>\n",
              "      <td>4.5</td>\n",
              "      <td>stormy</td>\n",
              "      <td>jam</td>\n",
              "      <td>2</td>\n",
              "      <td>snack</td>\n",
              "      <td>scooter</td>\n",
              "      <td>1.0</td>\n",
              "      <td>no</td>\n",
              "      <td>metropolitian</td>\n",
              "      <td>0</td>\n",
              "      <td>5.0</td>\n",
              "      <td>evening</td>\n",
              "      <td>20.183530</td>\n",
              "      <td>very_long</td>\n",
              "    </tr>\n",
              "    <tr>\n",
              "      <th>2</th>\n",
              "      <td>23.0</td>\n",
              "      <td>4.4</td>\n",
              "      <td>sandstorms</td>\n",
              "      <td>low</td>\n",
              "      <td>0</td>\n",
              "      <td>drinks</td>\n",
              "      <td>motorcycle</td>\n",
              "      <td>1.0</td>\n",
              "      <td>no</td>\n",
              "      <td>urban</td>\n",
              "      <td>1</td>\n",
              "      <td>15.0</td>\n",
              "      <td>morning</td>\n",
              "      <td>1.552758</td>\n",
              "      <td>short</td>\n",
              "    </tr>\n",
              "    <tr>\n",
              "      <th>3</th>\n",
              "      <td>38.0</td>\n",
              "      <td>4.7</td>\n",
              "      <td>sunny</td>\n",
              "      <td>medium</td>\n",
              "      <td>0</td>\n",
              "      <td>buffet</td>\n",
              "      <td>motorcycle</td>\n",
              "      <td>1.0</td>\n",
              "      <td>no</td>\n",
              "      <td>metropolitian</td>\n",
              "      <td>0</td>\n",
              "      <td>10.0</td>\n",
              "      <td>evening</td>\n",
              "      <td>7.790401</td>\n",
              "      <td>medium</td>\n",
              "    </tr>\n",
              "    <tr>\n",
              "      <th>4</th>\n",
              "      <td>32.0</td>\n",
              "      <td>4.6</td>\n",
              "      <td>cloudy</td>\n",
              "      <td>high</td>\n",
              "      <td>1</td>\n",
              "      <td>snack</td>\n",
              "      <td>scooter</td>\n",
              "      <td>1.0</td>\n",
              "      <td>no</td>\n",
              "      <td>metropolitian</td>\n",
              "      <td>1</td>\n",
              "      <td>15.0</td>\n",
              "      <td>afternoon</td>\n",
              "      <td>6.210138</td>\n",
              "      <td>medium</td>\n",
              "    </tr>\n",
              "    <tr>\n",
              "      <th>...</th>\n",
              "      <td>...</td>\n",
              "      <td>...</td>\n",
              "      <td>...</td>\n",
              "      <td>...</td>\n",
              "      <td>...</td>\n",
              "      <td>...</td>\n",
              "      <td>...</td>\n",
              "      <td>...</td>\n",
              "      <td>...</td>\n",
              "      <td>...</td>\n",
              "      <td>...</td>\n",
              "      <td>...</td>\n",
              "      <td>...</td>\n",
              "      <td>...</td>\n",
              "      <td>...</td>\n",
              "    </tr>\n",
              "    <tr>\n",
              "      <th>45496</th>\n",
              "      <td>35.0</td>\n",
              "      <td>4.2</td>\n",
              "      <td>windy</td>\n",
              "      <td>jam</td>\n",
              "      <td>2</td>\n",
              "      <td>drinks</td>\n",
              "      <td>motorcycle</td>\n",
              "      <td>1.0</td>\n",
              "      <td>no</td>\n",
              "      <td>metropolitian</td>\n",
              "      <td>0</td>\n",
              "      <td>10.0</td>\n",
              "      <td>night</td>\n",
              "      <td>16.600272</td>\n",
              "      <td>very_long</td>\n",
              "    </tr>\n",
              "    <tr>\n",
              "      <th>45497</th>\n",
              "      <td>30.0</td>\n",
              "      <td>4.8</td>\n",
              "      <td>windy</td>\n",
              "      <td>high</td>\n",
              "      <td>1</td>\n",
              "      <td>meal</td>\n",
              "      <td>motorcycle</td>\n",
              "      <td>0.0</td>\n",
              "      <td>no</td>\n",
              "      <td>metropolitian</td>\n",
              "      <td>0</td>\n",
              "      <td>10.0</td>\n",
              "      <td>morning</td>\n",
              "      <td>1.489846</td>\n",
              "      <td>short</td>\n",
              "    </tr>\n",
              "    <tr>\n",
              "      <th>45499</th>\n",
              "      <td>30.0</td>\n",
              "      <td>4.9</td>\n",
              "      <td>cloudy</td>\n",
              "      <td>low</td>\n",
              "      <td>1</td>\n",
              "      <td>drinks</td>\n",
              "      <td>scooter</td>\n",
              "      <td>0.0</td>\n",
              "      <td>no</td>\n",
              "      <td>metropolitian</td>\n",
              "      <td>0</td>\n",
              "      <td>15.0</td>\n",
              "      <td>night</td>\n",
              "      <td>4.657195</td>\n",
              "      <td>short</td>\n",
              "    </tr>\n",
              "    <tr>\n",
              "      <th>45500</th>\n",
              "      <td>20.0</td>\n",
              "      <td>4.7</td>\n",
              "      <td>cloudy</td>\n",
              "      <td>high</td>\n",
              "      <td>0</td>\n",
              "      <td>snack</td>\n",
              "      <td>motorcycle</td>\n",
              "      <td>1.0</td>\n",
              "      <td>no</td>\n",
              "      <td>metropolitian</td>\n",
              "      <td>0</td>\n",
              "      <td>5.0</td>\n",
              "      <td>afternoon</td>\n",
              "      <td>6.232393</td>\n",
              "      <td>medium</td>\n",
              "    </tr>\n",
              "    <tr>\n",
              "      <th>45501</th>\n",
              "      <td>23.0</td>\n",
              "      <td>4.9</td>\n",
              "      <td>fog</td>\n",
              "      <td>medium</td>\n",
              "      <td>2</td>\n",
              "      <td>snack</td>\n",
              "      <td>scooter</td>\n",
              "      <td>1.0</td>\n",
              "      <td>no</td>\n",
              "      <td>metropolitian</td>\n",
              "      <td>0</td>\n",
              "      <td>5.0</td>\n",
              "      <td>afternoon</td>\n",
              "      <td>12.074396</td>\n",
              "      <td>long</td>\n",
              "    </tr>\n",
              "  </tbody>\n",
              "</table>\n",
              "<p>37695 rows × 15 columns</p>\n",
              "</div>"
            ],
            "text/plain": [
              "        age  ratings     weather traffic  vehicle_condition type_of_order  \\\n",
              "0      37.0      4.9       sunny    high                  2         snack   \n",
              "1      34.0      4.5      stormy     jam                  2         snack   \n",
              "2      23.0      4.4  sandstorms     low                  0        drinks   \n",
              "3      38.0      4.7       sunny  medium                  0        buffet   \n",
              "4      32.0      4.6      cloudy    high                  1         snack   \n",
              "...     ...      ...         ...     ...                ...           ...   \n",
              "45496  35.0      4.2       windy     jam                  2        drinks   \n",
              "45497  30.0      4.8       windy    high                  1          meal   \n",
              "45499  30.0      4.9      cloudy     low                  1        drinks   \n",
              "45500  20.0      4.7      cloudy    high                  0         snack   \n",
              "45501  23.0      4.9         fog  medium                  2         snack   \n",
              "\n",
              "      type_of_vehicle  multiple_deliveries festival      city_type  \\\n",
              "0          motorcycle                  0.0       no          urban   \n",
              "1             scooter                  1.0       no  metropolitian   \n",
              "2          motorcycle                  1.0       no          urban   \n",
              "3          motorcycle                  1.0       no  metropolitian   \n",
              "4             scooter                  1.0       no  metropolitian   \n",
              "...               ...                  ...      ...            ...   \n",
              "45496      motorcycle                  1.0       no  metropolitian   \n",
              "45497      motorcycle                  0.0       no  metropolitian   \n",
              "45499         scooter                  0.0       no  metropolitian   \n",
              "45500      motorcycle                  1.0       no  metropolitian   \n",
              "45501         scooter                  1.0       no  metropolitian   \n",
              "\n",
              "       is_weekend  pickup_time_minutes order_time_of_day   distance  \\\n",
              "0               1                 15.0           morning   3.025149   \n",
              "1               0                  5.0           evening  20.183530   \n",
              "2               1                 15.0           morning   1.552758   \n",
              "3               0                 10.0           evening   7.790401   \n",
              "4               1                 15.0         afternoon   6.210138   \n",
              "...           ...                  ...               ...        ...   \n",
              "45496           0                 10.0             night  16.600272   \n",
              "45497           0                 10.0           morning   1.489846   \n",
              "45499           0                 15.0             night   4.657195   \n",
              "45500           0                  5.0         afternoon   6.232393   \n",
              "45501           0                  5.0         afternoon  12.074396   \n",
              "\n",
              "      distance_type  \n",
              "0             short  \n",
              "1         very_long  \n",
              "2             short  \n",
              "3            medium  \n",
              "4            medium  \n",
              "...             ...  \n",
              "45496     very_long  \n",
              "45497         short  \n",
              "45499         short  \n",
              "45500        medium  \n",
              "45501          long  \n",
              "\n",
              "[37695 rows x 15 columns]"
            ]
          },
          "execution_count": 15,
          "metadata": {},
          "output_type": "execute_result"
        }
      ],
      "source": [
        "# split into X and y\n",
        "\n",
        "X = temp_df.drop(columns='time_taken')\n",
        "y = temp_df['time_taken']\n",
        "\n",
        "X"
      ]
    },
    {
      "cell_type": "code",
      "execution_count": 16,
      "metadata": {
        "id": "UcJAkX63RelS"
      },
      "outputs": [],
      "source": [
        "# train test split\n",
        "\n",
        "X_train, X_test, y_train, y_test = train_test_split(X,y,test_size=0.2,random_state=42)"
      ]
    },
    {
      "cell_type": "code",
      "execution_count": 17,
      "metadata": {
        "colab": {
          "base_uri": "https://localhost:8080/"
        },
        "id": "uL9NQizbRelT",
        "outputId": "57afbe16-13cb-4dd1-a46d-682d05e8fc54"
      },
      "outputs": [
        {
          "name": "stdout",
          "output_type": "stream",
          "text": [
            "The size of train data is (30156, 15)\n",
            "The shape of test data is (7539, 15)\n"
          ]
        }
      ],
      "source": [
        "print(\"The size of train data is\",X_train.shape)\n",
        "print(\"The shape of test data is\",X_test.shape)"
      ]
    },
    {
      "cell_type": "code",
      "execution_count": 18,
      "metadata": {
        "colab": {
          "base_uri": "https://localhost:8080/",
          "height": 554
        },
        "id": "DJzsaTRmR7XJ",
        "outputId": "90ca4350-23f0-4c98-d6a9-efe3a10c7593"
      },
      "outputs": [
        {
          "data": {
            "text/plain": [
              "age                    0\n",
              "ratings                0\n",
              "weather                0\n",
              "traffic                0\n",
              "vehicle_condition      0\n",
              "type_of_order          0\n",
              "type_of_vehicle        0\n",
              "multiple_deliveries    0\n",
              "festival               0\n",
              "city_type              0\n",
              "is_weekend             0\n",
              "pickup_time_minutes    0\n",
              "order_time_of_day      0\n",
              "distance               0\n",
              "distance_type          0\n",
              "dtype: int64"
            ]
          },
          "execution_count": 18,
          "metadata": {},
          "output_type": "execute_result"
        }
      ],
      "source": [
        "# missing values in train data\n",
        "\n",
        "X_train.isna().sum()"
      ]
    },
    {
      "cell_type": "code",
      "execution_count": 19,
      "metadata": {
        "id": "6FSRQQo_RelT"
      },
      "outputs": [],
      "source": [
        "# transform target column\n",
        "\n",
        "pt = PowerTransformer()\n",
        "\n",
        "y_train_pt = pt.fit_transform(y_train.values.reshape(-1,1))\n",
        "y_test_pt = pt.transform(y_test.values.reshape(-1,1))"
      ]
    },
    {
      "cell_type": "code",
      "execution_count": 20,
      "metadata": {
        "colab": {
          "base_uri": "https://localhost:8080/"
        },
        "id": "TWPzIQCUj_74",
        "outputId": "316f5963-6719-4935-dd28-42034da4a115"
      },
      "outputs": [
        {
          "data": {
            "text/plain": [
              "Index(['age', 'ratings', 'weather', 'traffic', 'multiple_deliveries',\n",
              "       'festival', 'city_type', 'pickup_time_minutes', 'order_time_of_day',\n",
              "       'distance', 'distance_type'],\n",
              "      dtype='object')"
            ]
          },
          "execution_count": 20,
          "metadata": {},
          "output_type": "execute_result"
        }
      ],
      "source": [
        "missing_cols"
      ]
    },
    {
      "cell_type": "code",
      "execution_count": 21,
      "metadata": {
        "colab": {
          "base_uri": "https://localhost:8080/"
        },
        "id": "SaXhVBXJu6mO",
        "outputId": "9595417c-e189-4a9d-90e0-aab2fab33dc9"
      },
      "outputs": [
        {
          "data": {
            "text/plain": [
              "0.0"
            ]
          },
          "execution_count": 21,
          "metadata": {},
          "output_type": "execute_result"
        }
      ],
      "source": [
        "# percentage of rows in data having missing values\n",
        "\n",
        "(\n",
        "    X_train\n",
        "    .isna()\n",
        "    .any(axis=1)\n",
        "    .mean()\n",
        "    .round(2) * 100\n",
        ")\n"
      ]
    },
    {
      "cell_type": "markdown",
      "metadata": {
        "id": "QgGmD3bUeZNu"
      },
      "source": [
        "# Pre-Processing Pipeline"
      ]
    },
    {
      "cell_type": "code",
      "execution_count": 22,
      "metadata": {
        "id": "84BqkPZdMlq8"
      },
      "outputs": [],
      "source": [
        "num_cols = [\"age\",\"ratings\",\"pickup_time_minutes\",\"distance\"]\n",
        "\n",
        "nominal_cat_cols = ['weather',\n",
        "                    'type_of_order',\n",
        "                    'type_of_vehicle',\n",
        "                    \"festival\",\n",
        "                    \"city_type\",\n",
        "                    \"is_weekend\",\n",
        "                    \"order_time_of_day\"]\n",
        "\n",
        "ordinal_cat_cols = [\"traffic\",\"distance_type\"]"
      ]
    },
    {
      "cell_type": "code",
      "execution_count": 23,
      "metadata": {
        "colab": {
          "base_uri": "https://localhost:8080/"
        },
        "id": "fPXnF6NUlGRB",
        "outputId": "8c7f89fe-836d-4951-8a21-4b09bcabad7f"
      },
      "outputs": [
        {
          "data": {
            "text/plain": [
              "['weather',\n",
              " 'type_of_order',\n",
              " 'type_of_vehicle',\n",
              " 'festival',\n",
              " 'city_type',\n",
              " 'is_weekend',\n",
              " 'order_time_of_day']"
            ]
          },
          "execution_count": 23,
          "metadata": {},
          "output_type": "execute_result"
        }
      ],
      "source": [
        "nominal_cat_cols"
      ]
    },
    {
      "cell_type": "code",
      "execution_count": 24,
      "metadata": {
        "colab": {
          "base_uri": "https://localhost:8080/",
          "height": 554
        },
        "id": "oUYxye7koxEk",
        "outputId": "9dc1b5c9-46d9-49ed-9197-7efdcb878e1e"
      },
      "outputs": [
        {
          "data": {
            "text/plain": [
              "age                    0\n",
              "ratings                0\n",
              "weather                0\n",
              "traffic                0\n",
              "vehicle_condition      0\n",
              "type_of_order          0\n",
              "type_of_vehicle        0\n",
              "multiple_deliveries    0\n",
              "festival               0\n",
              "city_type              0\n",
              "is_weekend             0\n",
              "pickup_time_minutes    0\n",
              "order_time_of_day      0\n",
              "distance               0\n",
              "distance_type          0\n",
              "dtype: int64"
            ]
          },
          "execution_count": 24,
          "metadata": {},
          "output_type": "execute_result"
        }
      ],
      "source": [
        "X_train.isna().sum()"
      ]
    },
    {
      "cell_type": "code",
      "execution_count": 25,
      "metadata": {
        "id": "CxotCZQykGzV"
      },
      "outputs": [],
      "source": [
        "# do basic preprocessing\n",
        "\n",
        "num_cols = [\"age\",\"ratings\",\"pickup_time_minutes\",\"distance\"]\n",
        "\n",
        "nominal_cat_cols = ['weather','type_of_order',\n",
        "                    'type_of_vehicle',\"festival\",\n",
        "                    \"city_type\",\n",
        "                    \"is_weekend\",\n",
        "                    \"order_time_of_day\"]\n",
        "\n",
        "ordinal_cat_cols = [\"traffic\",\"distance_type\"]"
      ]
    },
    {
      "cell_type": "code",
      "execution_count": 26,
      "metadata": {
        "id": "1vXEw79MkGzW"
      },
      "outputs": [],
      "source": [
        "# generate order for ordinal encoding\n",
        "\n",
        "traffic_order = [\"low\",\"medium\",\"high\",\"jam\"]\n",
        "\n",
        "distance_type_order = [\"short\",\"medium\",\"long\",\"very_long\"]"
      ]
    },
    {
      "cell_type": "code",
      "execution_count": 27,
      "metadata": {
        "colab": {
          "base_uri": "https://localhost:8080/"
        },
        "id": "Zdqxf1Kinfde",
        "outputId": "f058eadf-5ac8-4190-9484-ee0b5d7d5aed"
      },
      "outputs": [
        {
          "name": "stdout",
          "output_type": "stream",
          "text": [
            "traffic ['jam' 'medium' 'high' 'low']\n",
            "distance_type ['medium' 'short' 'long' 'very_long']\n"
          ]
        }
      ],
      "source": [
        "# unique categories the ordinal columns\n",
        "\n",
        "for col in ordinal_cat_cols:\n",
        "    print(col,X_train[col].unique())"
      ]
    },
    {
      "cell_type": "code",
      "execution_count": 28,
      "metadata": {
        "colab": {
          "base_uri": "https://localhost:8080/",
          "height": 135
        },
        "id": "IkSOLqvBkGzW",
        "outputId": "0991a3ba-a497-4041-a50c-42a4570121ab"
      },
      "outputs": [
        {
          "data": {
            "text/html": [
              "<style>#sk-container-id-1 {\n",
              "  /* Definition of color scheme common for light and dark mode */\n",
              "  --sklearn-color-text: black;\n",
              "  --sklearn-color-line: gray;\n",
              "  /* Definition of color scheme for unfitted estimators */\n",
              "  --sklearn-color-unfitted-level-0: #fff5e6;\n",
              "  --sklearn-color-unfitted-level-1: #f6e4d2;\n",
              "  --sklearn-color-unfitted-level-2: #ffe0b3;\n",
              "  --sklearn-color-unfitted-level-3: chocolate;\n",
              "  /* Definition of color scheme for fitted estimators */\n",
              "  --sklearn-color-fitted-level-0: #f0f8ff;\n",
              "  --sklearn-color-fitted-level-1: #d4ebff;\n",
              "  --sklearn-color-fitted-level-2: #b3dbfd;\n",
              "  --sklearn-color-fitted-level-3: cornflowerblue;\n",
              "\n",
              "  /* Specific color for light theme */\n",
              "  --sklearn-color-text-on-default-background: var(--sg-text-color, var(--theme-code-foreground, var(--jp-content-font-color1, black)));\n",
              "  --sklearn-color-background: var(--sg-background-color, var(--theme-background, var(--jp-layout-color0, white)));\n",
              "  --sklearn-color-border-box: var(--sg-text-color, var(--theme-code-foreground, var(--jp-content-font-color1, black)));\n",
              "  --sklearn-color-icon: #696969;\n",
              "\n",
              "  @media (prefers-color-scheme: dark) {\n",
              "    /* Redefinition of color scheme for dark theme */\n",
              "    --sklearn-color-text-on-default-background: var(--sg-text-color, var(--theme-code-foreground, var(--jp-content-font-color1, white)));\n",
              "    --sklearn-color-background: var(--sg-background-color, var(--theme-background, var(--jp-layout-color0, #111)));\n",
              "    --sklearn-color-border-box: var(--sg-text-color, var(--theme-code-foreground, var(--jp-content-font-color1, white)));\n",
              "    --sklearn-color-icon: #878787;\n",
              "  }\n",
              "}\n",
              "\n",
              "#sk-container-id-1 {\n",
              "  color: var(--sklearn-color-text);\n",
              "}\n",
              "\n",
              "#sk-container-id-1 pre {\n",
              "  padding: 0;\n",
              "}\n",
              "\n",
              "#sk-container-id-1 input.sk-hidden--visually {\n",
              "  border: 0;\n",
              "  clip: rect(1px 1px 1px 1px);\n",
              "  clip: rect(1px, 1px, 1px, 1px);\n",
              "  height: 1px;\n",
              "  margin: -1px;\n",
              "  overflow: hidden;\n",
              "  padding: 0;\n",
              "  position: absolute;\n",
              "  width: 1px;\n",
              "}\n",
              "\n",
              "#sk-container-id-1 div.sk-dashed-wrapped {\n",
              "  border: 1px dashed var(--sklearn-color-line);\n",
              "  margin: 0 0.4em 0.5em 0.4em;\n",
              "  box-sizing: border-box;\n",
              "  padding-bottom: 0.4em;\n",
              "  background-color: var(--sklearn-color-background);\n",
              "}\n",
              "\n",
              "#sk-container-id-1 div.sk-container {\n",
              "  /* jupyter's `normalize.less` sets `[hidden] { display: none; }`\n",
              "     but bootstrap.min.css set `[hidden] { display: none !important; }`\n",
              "     so we also need the `!important` here to be able to override the\n",
              "     default hidden behavior on the sphinx rendered scikit-learn.org.\n",
              "     See: https://github.com/scikit-learn/scikit-learn/issues/21755 */\n",
              "  display: inline-block !important;\n",
              "  position: relative;\n",
              "}\n",
              "\n",
              "#sk-container-id-1 div.sk-text-repr-fallback {\n",
              "  display: none;\n",
              "}\n",
              "\n",
              "div.sk-parallel-item,\n",
              "div.sk-serial,\n",
              "div.sk-item {\n",
              "  /* draw centered vertical line to link estimators */\n",
              "  background-image: linear-gradient(var(--sklearn-color-text-on-default-background), var(--sklearn-color-text-on-default-background));\n",
              "  background-size: 2px 100%;\n",
              "  background-repeat: no-repeat;\n",
              "  background-position: center center;\n",
              "}\n",
              "\n",
              "/* Parallel-specific style estimator block */\n",
              "\n",
              "#sk-container-id-1 div.sk-parallel-item::after {\n",
              "  content: \"\";\n",
              "  width: 100%;\n",
              "  border-bottom: 2px solid var(--sklearn-color-text-on-default-background);\n",
              "  flex-grow: 1;\n",
              "}\n",
              "\n",
              "#sk-container-id-1 div.sk-parallel {\n",
              "  display: flex;\n",
              "  align-items: stretch;\n",
              "  justify-content: center;\n",
              "  background-color: var(--sklearn-color-background);\n",
              "  position: relative;\n",
              "}\n",
              "\n",
              "#sk-container-id-1 div.sk-parallel-item {\n",
              "  display: flex;\n",
              "  flex-direction: column;\n",
              "}\n",
              "\n",
              "#sk-container-id-1 div.sk-parallel-item:first-child::after {\n",
              "  align-self: flex-end;\n",
              "  width: 50%;\n",
              "}\n",
              "\n",
              "#sk-container-id-1 div.sk-parallel-item:last-child::after {\n",
              "  align-self: flex-start;\n",
              "  width: 50%;\n",
              "}\n",
              "\n",
              "#sk-container-id-1 div.sk-parallel-item:only-child::after {\n",
              "  width: 0;\n",
              "}\n",
              "\n",
              "/* Serial-specific style estimator block */\n",
              "\n",
              "#sk-container-id-1 div.sk-serial {\n",
              "  display: flex;\n",
              "  flex-direction: column;\n",
              "  align-items: center;\n",
              "  background-color: var(--sklearn-color-background);\n",
              "  padding-right: 1em;\n",
              "  padding-left: 1em;\n",
              "}\n",
              "\n",
              "\n",
              "/* Toggleable style: style used for estimator/Pipeline/ColumnTransformer box that is\n",
              "clickable and can be expanded/collapsed.\n",
              "- Pipeline and ColumnTransformer use this feature and define the default style\n",
              "- Estimators will overwrite some part of the style using the `sk-estimator` class\n",
              "*/\n",
              "\n",
              "/* Pipeline and ColumnTransformer style (default) */\n",
              "\n",
              "#sk-container-id-1 div.sk-toggleable {\n",
              "  /* Default theme specific background. It is overwritten whether we have a\n",
              "  specific estimator or a Pipeline/ColumnTransformer */\n",
              "  background-color: var(--sklearn-color-background);\n",
              "}\n",
              "\n",
              "/* Toggleable label */\n",
              "#sk-container-id-1 label.sk-toggleable__label {\n",
              "  cursor: pointer;\n",
              "  display: block;\n",
              "  width: 100%;\n",
              "  margin-bottom: 0;\n",
              "  padding: 0.5em;\n",
              "  box-sizing: border-box;\n",
              "  text-align: center;\n",
              "}\n",
              "\n",
              "#sk-container-id-1 label.sk-toggleable__label-arrow:before {\n",
              "  /* Arrow on the left of the label */\n",
              "  content: \"▸\";\n",
              "  float: left;\n",
              "  margin-right: 0.25em;\n",
              "  color: var(--sklearn-color-icon);\n",
              "}\n",
              "\n",
              "#sk-container-id-1 label.sk-toggleable__label-arrow:hover:before {\n",
              "  color: var(--sklearn-color-text);\n",
              "}\n",
              "\n",
              "/* Toggleable content - dropdown */\n",
              "\n",
              "#sk-container-id-1 div.sk-toggleable__content {\n",
              "  max-height: 0;\n",
              "  max-width: 0;\n",
              "  overflow: hidden;\n",
              "  text-align: left;\n",
              "  /* unfitted */\n",
              "  background-color: var(--sklearn-color-unfitted-level-0);\n",
              "}\n",
              "\n",
              "#sk-container-id-1 div.sk-toggleable__content.fitted {\n",
              "  /* fitted */\n",
              "  background-color: var(--sklearn-color-fitted-level-0);\n",
              "}\n",
              "\n",
              "#sk-container-id-1 div.sk-toggleable__content pre {\n",
              "  margin: 0.2em;\n",
              "  border-radius: 0.25em;\n",
              "  color: var(--sklearn-color-text);\n",
              "  /* unfitted */\n",
              "  background-color: var(--sklearn-color-unfitted-level-0);\n",
              "}\n",
              "\n",
              "#sk-container-id-1 div.sk-toggleable__content.fitted pre {\n",
              "  /* unfitted */\n",
              "  background-color: var(--sklearn-color-fitted-level-0);\n",
              "}\n",
              "\n",
              "#sk-container-id-1 input.sk-toggleable__control:checked~div.sk-toggleable__content {\n",
              "  /* Expand drop-down */\n",
              "  max-height: 200px;\n",
              "  max-width: 100%;\n",
              "  overflow: auto;\n",
              "}\n",
              "\n",
              "#sk-container-id-1 input.sk-toggleable__control:checked~label.sk-toggleable__label-arrow:before {\n",
              "  content: \"▾\";\n",
              "}\n",
              "\n",
              "/* Pipeline/ColumnTransformer-specific style */\n",
              "\n",
              "#sk-container-id-1 div.sk-label input.sk-toggleable__control:checked~label.sk-toggleable__label {\n",
              "  color: var(--sklearn-color-text);\n",
              "  background-color: var(--sklearn-color-unfitted-level-2);\n",
              "}\n",
              "\n",
              "#sk-container-id-1 div.sk-label.fitted input.sk-toggleable__control:checked~label.sk-toggleable__label {\n",
              "  background-color: var(--sklearn-color-fitted-level-2);\n",
              "}\n",
              "\n",
              "/* Estimator-specific style */\n",
              "\n",
              "/* Colorize estimator box */\n",
              "#sk-container-id-1 div.sk-estimator input.sk-toggleable__control:checked~label.sk-toggleable__label {\n",
              "  /* unfitted */\n",
              "  background-color: var(--sklearn-color-unfitted-level-2);\n",
              "}\n",
              "\n",
              "#sk-container-id-1 div.sk-estimator.fitted input.sk-toggleable__control:checked~label.sk-toggleable__label {\n",
              "  /* fitted */\n",
              "  background-color: var(--sklearn-color-fitted-level-2);\n",
              "}\n",
              "\n",
              "#sk-container-id-1 div.sk-label label.sk-toggleable__label,\n",
              "#sk-container-id-1 div.sk-label label {\n",
              "  /* The background is the default theme color */\n",
              "  color: var(--sklearn-color-text-on-default-background);\n",
              "}\n",
              "\n",
              "/* On hover, darken the color of the background */\n",
              "#sk-container-id-1 div.sk-label:hover label.sk-toggleable__label {\n",
              "  color: var(--sklearn-color-text);\n",
              "  background-color: var(--sklearn-color-unfitted-level-2);\n",
              "}\n",
              "\n",
              "/* Label box, darken color on hover, fitted */\n",
              "#sk-container-id-1 div.sk-label.fitted:hover label.sk-toggleable__label.fitted {\n",
              "  color: var(--sklearn-color-text);\n",
              "  background-color: var(--sklearn-color-fitted-level-2);\n",
              "}\n",
              "\n",
              "/* Estimator label */\n",
              "\n",
              "#sk-container-id-1 div.sk-label label {\n",
              "  font-family: monospace;\n",
              "  font-weight: bold;\n",
              "  display: inline-block;\n",
              "  line-height: 1.2em;\n",
              "}\n",
              "\n",
              "#sk-container-id-1 div.sk-label-container {\n",
              "  text-align: center;\n",
              "}\n",
              "\n",
              "/* Estimator-specific */\n",
              "#sk-container-id-1 div.sk-estimator {\n",
              "  font-family: monospace;\n",
              "  border: 1px dotted var(--sklearn-color-border-box);\n",
              "  border-radius: 0.25em;\n",
              "  box-sizing: border-box;\n",
              "  margin-bottom: 0.5em;\n",
              "  /* unfitted */\n",
              "  background-color: var(--sklearn-color-unfitted-level-0);\n",
              "}\n",
              "\n",
              "#sk-container-id-1 div.sk-estimator.fitted {\n",
              "  /* fitted */\n",
              "  background-color: var(--sklearn-color-fitted-level-0);\n",
              "}\n",
              "\n",
              "/* on hover */\n",
              "#sk-container-id-1 div.sk-estimator:hover {\n",
              "  /* unfitted */\n",
              "  background-color: var(--sklearn-color-unfitted-level-2);\n",
              "}\n",
              "\n",
              "#sk-container-id-1 div.sk-estimator.fitted:hover {\n",
              "  /* fitted */\n",
              "  background-color: var(--sklearn-color-fitted-level-2);\n",
              "}\n",
              "\n",
              "/* Specification for estimator info (e.g. \"i\" and \"?\") */\n",
              "\n",
              "/* Common style for \"i\" and \"?\" */\n",
              "\n",
              ".sk-estimator-doc-link,\n",
              "a:link.sk-estimator-doc-link,\n",
              "a:visited.sk-estimator-doc-link {\n",
              "  float: right;\n",
              "  font-size: smaller;\n",
              "  line-height: 1em;\n",
              "  font-family: monospace;\n",
              "  background-color: var(--sklearn-color-background);\n",
              "  border-radius: 1em;\n",
              "  height: 1em;\n",
              "  width: 1em;\n",
              "  text-decoration: none !important;\n",
              "  margin-left: 1ex;\n",
              "  /* unfitted */\n",
              "  border: var(--sklearn-color-unfitted-level-1) 1pt solid;\n",
              "  color: var(--sklearn-color-unfitted-level-1);\n",
              "}\n",
              "\n",
              ".sk-estimator-doc-link.fitted,\n",
              "a:link.sk-estimator-doc-link.fitted,\n",
              "a:visited.sk-estimator-doc-link.fitted {\n",
              "  /* fitted */\n",
              "  border: var(--sklearn-color-fitted-level-1) 1pt solid;\n",
              "  color: var(--sklearn-color-fitted-level-1);\n",
              "}\n",
              "\n",
              "/* On hover */\n",
              "div.sk-estimator:hover .sk-estimator-doc-link:hover,\n",
              ".sk-estimator-doc-link:hover,\n",
              "div.sk-label-container:hover .sk-estimator-doc-link:hover,\n",
              ".sk-estimator-doc-link:hover {\n",
              "  /* unfitted */\n",
              "  background-color: var(--sklearn-color-unfitted-level-3);\n",
              "  color: var(--sklearn-color-background);\n",
              "  text-decoration: none;\n",
              "}\n",
              "\n",
              "div.sk-estimator.fitted:hover .sk-estimator-doc-link.fitted:hover,\n",
              ".sk-estimator-doc-link.fitted:hover,\n",
              "div.sk-label-container:hover .sk-estimator-doc-link.fitted:hover,\n",
              ".sk-estimator-doc-link.fitted:hover {\n",
              "  /* fitted */\n",
              "  background-color: var(--sklearn-color-fitted-level-3);\n",
              "  color: var(--sklearn-color-background);\n",
              "  text-decoration: none;\n",
              "}\n",
              "\n",
              "/* Span, style for the box shown on hovering the info icon */\n",
              ".sk-estimator-doc-link span {\n",
              "  display: none;\n",
              "  z-index: 9999;\n",
              "  position: relative;\n",
              "  font-weight: normal;\n",
              "  right: .2ex;\n",
              "  padding: .5ex;\n",
              "  margin: .5ex;\n",
              "  width: min-content;\n",
              "  min-width: 20ex;\n",
              "  max-width: 50ex;\n",
              "  color: var(--sklearn-color-text);\n",
              "  box-shadow: 2pt 2pt 4pt #999;\n",
              "  /* unfitted */\n",
              "  background: var(--sklearn-color-unfitted-level-0);\n",
              "  border: .5pt solid var(--sklearn-color-unfitted-level-3);\n",
              "}\n",
              "\n",
              ".sk-estimator-doc-link.fitted span {\n",
              "  /* fitted */\n",
              "  background: var(--sklearn-color-fitted-level-0);\n",
              "  border: var(--sklearn-color-fitted-level-3);\n",
              "}\n",
              "\n",
              ".sk-estimator-doc-link:hover span {\n",
              "  display: block;\n",
              "}\n",
              "\n",
              "/* \"?\"-specific style due to the `<a>` HTML tag */\n",
              "\n",
              "#sk-container-id-1 a.estimator_doc_link {\n",
              "  float: right;\n",
              "  font-size: 1rem;\n",
              "  line-height: 1em;\n",
              "  font-family: monospace;\n",
              "  background-color: var(--sklearn-color-background);\n",
              "  border-radius: 1rem;\n",
              "  height: 1rem;\n",
              "  width: 1rem;\n",
              "  text-decoration: none;\n",
              "  /* unfitted */\n",
              "  color: var(--sklearn-color-unfitted-level-1);\n",
              "  border: var(--sklearn-color-unfitted-level-1) 1pt solid;\n",
              "}\n",
              "\n",
              "#sk-container-id-1 a.estimator_doc_link.fitted {\n",
              "  /* fitted */\n",
              "  border: var(--sklearn-color-fitted-level-1) 1pt solid;\n",
              "  color: var(--sklearn-color-fitted-level-1);\n",
              "}\n",
              "\n",
              "/* On hover */\n",
              "#sk-container-id-1 a.estimator_doc_link:hover {\n",
              "  /* unfitted */\n",
              "  background-color: var(--sklearn-color-unfitted-level-3);\n",
              "  color: var(--sklearn-color-background);\n",
              "  text-decoration: none;\n",
              "}\n",
              "\n",
              "#sk-container-id-1 a.estimator_doc_link.fitted:hover {\n",
              "  /* fitted */\n",
              "  background-color: var(--sklearn-color-fitted-level-3);\n",
              "}\n",
              "</style><div id=\"sk-container-id-1\" class=\"sk-top-container\"><div class=\"sk-text-repr-fallback\"><pre>ColumnTransformer(force_int_remainder_cols=False, n_jobs=-1,\n",
              "                  remainder=&#x27;passthrough&#x27;,\n",
              "                  transformers=[(&#x27;scale&#x27;, MinMaxScaler(),\n",
              "                                 [&#x27;age&#x27;, &#x27;ratings&#x27;, &#x27;pickup_time_minutes&#x27;,\n",
              "                                  &#x27;distance&#x27;]),\n",
              "                                (&#x27;nominal_encode&#x27;,\n",
              "                                 OneHotEncoder(drop=&#x27;first&#x27;,\n",
              "                                               handle_unknown=&#x27;ignore&#x27;,\n",
              "                                               sparse_output=False),\n",
              "                                 [&#x27;weather&#x27;, &#x27;type_of_order&#x27;, &#x27;type_of_vehicle&#x27;,\n",
              "                                  &#x27;festival&#x27;, &#x27;city_type&#x27;, &#x27;is_weekend&#x27;,\n",
              "                                  &#x27;order_time_of_day&#x27;]),\n",
              "                                (&#x27;ordinal_encode&#x27;,\n",
              "                                 OrdinalEncoder(categories=[[&#x27;low&#x27;, &#x27;medium&#x27;,\n",
              "                                                             &#x27;high&#x27;, &#x27;jam&#x27;],\n",
              "                                                            [&#x27;short&#x27;, &#x27;medium&#x27;,\n",
              "                                                             &#x27;long&#x27;,\n",
              "                                                             &#x27;very_long&#x27;]],\n",
              "                                                encoded_missing_value=-999,\n",
              "                                                handle_unknown=&#x27;use_encoded_value&#x27;,\n",
              "                                                unknown_value=-1),\n",
              "                                 [&#x27;traffic&#x27;, &#x27;distance_type&#x27;])],\n",
              "                  verbose_feature_names_out=False)</pre><b>In a Jupyter environment, please rerun this cell to show the HTML representation or trust the notebook. <br />On GitHub, the HTML representation is unable to render, please try loading this page with nbviewer.org.</b></div><div class=\"sk-container\" hidden><div class=\"sk-item sk-dashed-wrapped\"><div class=\"sk-label-container\"><div class=\"sk-label  sk-toggleable\"><input class=\"sk-toggleable__control sk-hidden--visually\" id=\"sk-estimator-id-1\" type=\"checkbox\" ><label for=\"sk-estimator-id-1\" class=\"sk-toggleable__label  sk-toggleable__label-arrow \">&nbsp;&nbsp;ColumnTransformer<a class=\"sk-estimator-doc-link \" rel=\"noreferrer\" target=\"_blank\" href=\"https://scikit-learn.org/1.5/modules/generated/sklearn.compose.ColumnTransformer.html\">?<span>Documentation for ColumnTransformer</span></a><span class=\"sk-estimator-doc-link \">i<span>Not fitted</span></span></label><div class=\"sk-toggleable__content \"><pre>ColumnTransformer(force_int_remainder_cols=False, n_jobs=-1,\n",
              "                  remainder=&#x27;passthrough&#x27;,\n",
              "                  transformers=[(&#x27;scale&#x27;, MinMaxScaler(),\n",
              "                                 [&#x27;age&#x27;, &#x27;ratings&#x27;, &#x27;pickup_time_minutes&#x27;,\n",
              "                                  &#x27;distance&#x27;]),\n",
              "                                (&#x27;nominal_encode&#x27;,\n",
              "                                 OneHotEncoder(drop=&#x27;first&#x27;,\n",
              "                                               handle_unknown=&#x27;ignore&#x27;,\n",
              "                                               sparse_output=False),\n",
              "                                 [&#x27;weather&#x27;, &#x27;type_of_order&#x27;, &#x27;type_of_vehicle&#x27;,\n",
              "                                  &#x27;festival&#x27;, &#x27;city_type&#x27;, &#x27;is_weekend&#x27;,\n",
              "                                  &#x27;order_time_of_day&#x27;]),\n",
              "                                (&#x27;ordinal_encode&#x27;,\n",
              "                                 OrdinalEncoder(categories=[[&#x27;low&#x27;, &#x27;medium&#x27;,\n",
              "                                                             &#x27;high&#x27;, &#x27;jam&#x27;],\n",
              "                                                            [&#x27;short&#x27;, &#x27;medium&#x27;,\n",
              "                                                             &#x27;long&#x27;,\n",
              "                                                             &#x27;very_long&#x27;]],\n",
              "                                                encoded_missing_value=-999,\n",
              "                                                handle_unknown=&#x27;use_encoded_value&#x27;,\n",
              "                                                unknown_value=-1),\n",
              "                                 [&#x27;traffic&#x27;, &#x27;distance_type&#x27;])],\n",
              "                  verbose_feature_names_out=False)</pre></div> </div></div><div class=\"sk-parallel\"><div class=\"sk-parallel-item\"><div class=\"sk-item\"><div class=\"sk-label-container\"><div class=\"sk-label  sk-toggleable\"><input class=\"sk-toggleable__control sk-hidden--visually\" id=\"sk-estimator-id-2\" type=\"checkbox\" ><label for=\"sk-estimator-id-2\" class=\"sk-toggleable__label  sk-toggleable__label-arrow \">scale</label><div class=\"sk-toggleable__content \"><pre>[&#x27;age&#x27;, &#x27;ratings&#x27;, &#x27;pickup_time_minutes&#x27;, &#x27;distance&#x27;]</pre></div> </div></div><div class=\"sk-serial\"><div class=\"sk-item\"><div class=\"sk-estimator  sk-toggleable\"><input class=\"sk-toggleable__control sk-hidden--visually\" id=\"sk-estimator-id-3\" type=\"checkbox\" ><label for=\"sk-estimator-id-3\" class=\"sk-toggleable__label  sk-toggleable__label-arrow \">&nbsp;MinMaxScaler<a class=\"sk-estimator-doc-link \" rel=\"noreferrer\" target=\"_blank\" href=\"https://scikit-learn.org/1.5/modules/generated/sklearn.preprocessing.MinMaxScaler.html\">?<span>Documentation for MinMaxScaler</span></a></label><div class=\"sk-toggleable__content \"><pre>MinMaxScaler()</pre></div> </div></div></div></div></div><div class=\"sk-parallel-item\"><div class=\"sk-item\"><div class=\"sk-label-container\"><div class=\"sk-label  sk-toggleable\"><input class=\"sk-toggleable__control sk-hidden--visually\" id=\"sk-estimator-id-4\" type=\"checkbox\" ><label for=\"sk-estimator-id-4\" class=\"sk-toggleable__label  sk-toggleable__label-arrow \">nominal_encode</label><div class=\"sk-toggleable__content \"><pre>[&#x27;weather&#x27;, &#x27;type_of_order&#x27;, &#x27;type_of_vehicle&#x27;, &#x27;festival&#x27;, &#x27;city_type&#x27;, &#x27;is_weekend&#x27;, &#x27;order_time_of_day&#x27;]</pre></div> </div></div><div class=\"sk-serial\"><div class=\"sk-item\"><div class=\"sk-estimator  sk-toggleable\"><input class=\"sk-toggleable__control sk-hidden--visually\" id=\"sk-estimator-id-5\" type=\"checkbox\" ><label for=\"sk-estimator-id-5\" class=\"sk-toggleable__label  sk-toggleable__label-arrow \">&nbsp;OneHotEncoder<a class=\"sk-estimator-doc-link \" rel=\"noreferrer\" target=\"_blank\" href=\"https://scikit-learn.org/1.5/modules/generated/sklearn.preprocessing.OneHotEncoder.html\">?<span>Documentation for OneHotEncoder</span></a></label><div class=\"sk-toggleable__content \"><pre>OneHotEncoder(drop=&#x27;first&#x27;, handle_unknown=&#x27;ignore&#x27;, sparse_output=False)</pre></div> </div></div></div></div></div><div class=\"sk-parallel-item\"><div class=\"sk-item\"><div class=\"sk-label-container\"><div class=\"sk-label  sk-toggleable\"><input class=\"sk-toggleable__control sk-hidden--visually\" id=\"sk-estimator-id-6\" type=\"checkbox\" ><label for=\"sk-estimator-id-6\" class=\"sk-toggleable__label  sk-toggleable__label-arrow \">ordinal_encode</label><div class=\"sk-toggleable__content \"><pre>[&#x27;traffic&#x27;, &#x27;distance_type&#x27;]</pre></div> </div></div><div class=\"sk-serial\"><div class=\"sk-item\"><div class=\"sk-estimator  sk-toggleable\"><input class=\"sk-toggleable__control sk-hidden--visually\" id=\"sk-estimator-id-7\" type=\"checkbox\" ><label for=\"sk-estimator-id-7\" class=\"sk-toggleable__label  sk-toggleable__label-arrow \">&nbsp;OrdinalEncoder<a class=\"sk-estimator-doc-link \" rel=\"noreferrer\" target=\"_blank\" href=\"https://scikit-learn.org/1.5/modules/generated/sklearn.preprocessing.OrdinalEncoder.html\">?<span>Documentation for OrdinalEncoder</span></a></label><div class=\"sk-toggleable__content \"><pre>OrdinalEncoder(categories=[[&#x27;low&#x27;, &#x27;medium&#x27;, &#x27;high&#x27;, &#x27;jam&#x27;],\n",
              "                           [&#x27;short&#x27;, &#x27;medium&#x27;, &#x27;long&#x27;, &#x27;very_long&#x27;]],\n",
              "               encoded_missing_value=-999, handle_unknown=&#x27;use_encoded_value&#x27;,\n",
              "               unknown_value=-1)</pre></div> </div></div></div></div></div><div class=\"sk-parallel-item\"><div class=\"sk-item\"><div class=\"sk-label-container\"><div class=\"sk-label  sk-toggleable\"><input class=\"sk-toggleable__control sk-hidden--visually\" id=\"sk-estimator-id-8\" type=\"checkbox\" ><label for=\"sk-estimator-id-8\" class=\"sk-toggleable__label  sk-toggleable__label-arrow \">remainder</label><div class=\"sk-toggleable__content \"><pre></pre></div> </div></div><div class=\"sk-serial\"><div class=\"sk-item\"><div class=\"sk-estimator  sk-toggleable\"><input class=\"sk-toggleable__control sk-hidden--visually\" id=\"sk-estimator-id-9\" type=\"checkbox\" ><label for=\"sk-estimator-id-9\" class=\"sk-toggleable__label  sk-toggleable__label-arrow \">passthrough</label><div class=\"sk-toggleable__content \"><pre>passthrough</pre></div> </div></div></div></div></div></div></div></div></div>"
            ],
            "text/plain": [
              "ColumnTransformer(force_int_remainder_cols=False, n_jobs=-1,\n",
              "                  remainder='passthrough',\n",
              "                  transformers=[('scale', MinMaxScaler(),\n",
              "                                 ['age', 'ratings', 'pickup_time_minutes',\n",
              "                                  'distance']),\n",
              "                                ('nominal_encode',\n",
              "                                 OneHotEncoder(drop='first',\n",
              "                                               handle_unknown='ignore',\n",
              "                                               sparse_output=False),\n",
              "                                 ['weather', 'type_of_order', 'type_of_vehicle',\n",
              "                                  'festival', 'city_type', 'is_weekend',\n",
              "                                  'order_time_of_day']),\n",
              "                                ('ordinal_encode',\n",
              "                                 OrdinalEncoder(categories=[['low', 'medium',\n",
              "                                                             'high', 'jam'],\n",
              "                                                            ['short', 'medium',\n",
              "                                                             'long',\n",
              "                                                             'very_long']],\n",
              "                                                encoded_missing_value=-999,\n",
              "                                                handle_unknown='use_encoded_value',\n",
              "                                                unknown_value=-1),\n",
              "                                 ['traffic', 'distance_type'])],\n",
              "                  verbose_feature_names_out=False)"
            ]
          },
          "execution_count": 28,
          "metadata": {},
          "output_type": "execute_result"
        }
      ],
      "source": [
        "# build a preprocessor\n",
        "\n",
        "preprocessor = ColumnTransformer(transformers=[\n",
        "    (\"scale\", MinMaxScaler(), num_cols),\n",
        "    (\"nominal_encode\", OneHotEncoder(drop=\"first\",handle_unknown=\"ignore\",\n",
        "                                     sparse_output=False), nominal_cat_cols),\n",
        "    (\"ordinal_encode\", OrdinalEncoder(categories=[traffic_order,distance_type_order],\n",
        "                                      encoded_missing_value=-999,\n",
        "                                      handle_unknown=\"use_encoded_value\",\n",
        "                                      unknown_value=-1), ordinal_cat_cols)\n",
        "],remainder=\"passthrough\",n_jobs=-1,force_int_remainder_cols=False,verbose_feature_names_out=False)\n",
        "\n",
        "\n",
        "preprocessor"
      ]
    },
    {
      "cell_type": "code",
      "execution_count": 29,
      "metadata": {
        "colab": {
          "base_uri": "https://localhost:8080/",
          "height": 180
        },
        "id": "n7uZVB6seYc_",
        "outputId": "9ff753c4-63b9-4bfe-bd2e-36b0cf7ee90d"
      },
      "outputs": [
        {
          "data": {
            "text/html": [
              "<style>#sk-container-id-2 {\n",
              "  /* Definition of color scheme common for light and dark mode */\n",
              "  --sklearn-color-text: black;\n",
              "  --sklearn-color-line: gray;\n",
              "  /* Definition of color scheme for unfitted estimators */\n",
              "  --sklearn-color-unfitted-level-0: #fff5e6;\n",
              "  --sklearn-color-unfitted-level-1: #f6e4d2;\n",
              "  --sklearn-color-unfitted-level-2: #ffe0b3;\n",
              "  --sklearn-color-unfitted-level-3: chocolate;\n",
              "  /* Definition of color scheme for fitted estimators */\n",
              "  --sklearn-color-fitted-level-0: #f0f8ff;\n",
              "  --sklearn-color-fitted-level-1: #d4ebff;\n",
              "  --sklearn-color-fitted-level-2: #b3dbfd;\n",
              "  --sklearn-color-fitted-level-3: cornflowerblue;\n",
              "\n",
              "  /* Specific color for light theme */\n",
              "  --sklearn-color-text-on-default-background: var(--sg-text-color, var(--theme-code-foreground, var(--jp-content-font-color1, black)));\n",
              "  --sklearn-color-background: var(--sg-background-color, var(--theme-background, var(--jp-layout-color0, white)));\n",
              "  --sklearn-color-border-box: var(--sg-text-color, var(--theme-code-foreground, var(--jp-content-font-color1, black)));\n",
              "  --sklearn-color-icon: #696969;\n",
              "\n",
              "  @media (prefers-color-scheme: dark) {\n",
              "    /* Redefinition of color scheme for dark theme */\n",
              "    --sklearn-color-text-on-default-background: var(--sg-text-color, var(--theme-code-foreground, var(--jp-content-font-color1, white)));\n",
              "    --sklearn-color-background: var(--sg-background-color, var(--theme-background, var(--jp-layout-color0, #111)));\n",
              "    --sklearn-color-border-box: var(--sg-text-color, var(--theme-code-foreground, var(--jp-content-font-color1, white)));\n",
              "    --sklearn-color-icon: #878787;\n",
              "  }\n",
              "}\n",
              "\n",
              "#sk-container-id-2 {\n",
              "  color: var(--sklearn-color-text);\n",
              "}\n",
              "\n",
              "#sk-container-id-2 pre {\n",
              "  padding: 0;\n",
              "}\n",
              "\n",
              "#sk-container-id-2 input.sk-hidden--visually {\n",
              "  border: 0;\n",
              "  clip: rect(1px 1px 1px 1px);\n",
              "  clip: rect(1px, 1px, 1px, 1px);\n",
              "  height: 1px;\n",
              "  margin: -1px;\n",
              "  overflow: hidden;\n",
              "  padding: 0;\n",
              "  position: absolute;\n",
              "  width: 1px;\n",
              "}\n",
              "\n",
              "#sk-container-id-2 div.sk-dashed-wrapped {\n",
              "  border: 1px dashed var(--sklearn-color-line);\n",
              "  margin: 0 0.4em 0.5em 0.4em;\n",
              "  box-sizing: border-box;\n",
              "  padding-bottom: 0.4em;\n",
              "  background-color: var(--sklearn-color-background);\n",
              "}\n",
              "\n",
              "#sk-container-id-2 div.sk-container {\n",
              "  /* jupyter's `normalize.less` sets `[hidden] { display: none; }`\n",
              "     but bootstrap.min.css set `[hidden] { display: none !important; }`\n",
              "     so we also need the `!important` here to be able to override the\n",
              "     default hidden behavior on the sphinx rendered scikit-learn.org.\n",
              "     See: https://github.com/scikit-learn/scikit-learn/issues/21755 */\n",
              "  display: inline-block !important;\n",
              "  position: relative;\n",
              "}\n",
              "\n",
              "#sk-container-id-2 div.sk-text-repr-fallback {\n",
              "  display: none;\n",
              "}\n",
              "\n",
              "div.sk-parallel-item,\n",
              "div.sk-serial,\n",
              "div.sk-item {\n",
              "  /* draw centered vertical line to link estimators */\n",
              "  background-image: linear-gradient(var(--sklearn-color-text-on-default-background), var(--sklearn-color-text-on-default-background));\n",
              "  background-size: 2px 100%;\n",
              "  background-repeat: no-repeat;\n",
              "  background-position: center center;\n",
              "}\n",
              "\n",
              "/* Parallel-specific style estimator block */\n",
              "\n",
              "#sk-container-id-2 div.sk-parallel-item::after {\n",
              "  content: \"\";\n",
              "  width: 100%;\n",
              "  border-bottom: 2px solid var(--sklearn-color-text-on-default-background);\n",
              "  flex-grow: 1;\n",
              "}\n",
              "\n",
              "#sk-container-id-2 div.sk-parallel {\n",
              "  display: flex;\n",
              "  align-items: stretch;\n",
              "  justify-content: center;\n",
              "  background-color: var(--sklearn-color-background);\n",
              "  position: relative;\n",
              "}\n",
              "\n",
              "#sk-container-id-2 div.sk-parallel-item {\n",
              "  display: flex;\n",
              "  flex-direction: column;\n",
              "}\n",
              "\n",
              "#sk-container-id-2 div.sk-parallel-item:first-child::after {\n",
              "  align-self: flex-end;\n",
              "  width: 50%;\n",
              "}\n",
              "\n",
              "#sk-container-id-2 div.sk-parallel-item:last-child::after {\n",
              "  align-self: flex-start;\n",
              "  width: 50%;\n",
              "}\n",
              "\n",
              "#sk-container-id-2 div.sk-parallel-item:only-child::after {\n",
              "  width: 0;\n",
              "}\n",
              "\n",
              "/* Serial-specific style estimator block */\n",
              "\n",
              "#sk-container-id-2 div.sk-serial {\n",
              "  display: flex;\n",
              "  flex-direction: column;\n",
              "  align-items: center;\n",
              "  background-color: var(--sklearn-color-background);\n",
              "  padding-right: 1em;\n",
              "  padding-left: 1em;\n",
              "}\n",
              "\n",
              "\n",
              "/* Toggleable style: style used for estimator/Pipeline/ColumnTransformer box that is\n",
              "clickable and can be expanded/collapsed.\n",
              "- Pipeline and ColumnTransformer use this feature and define the default style\n",
              "- Estimators will overwrite some part of the style using the `sk-estimator` class\n",
              "*/\n",
              "\n",
              "/* Pipeline and ColumnTransformer style (default) */\n",
              "\n",
              "#sk-container-id-2 div.sk-toggleable {\n",
              "  /* Default theme specific background. It is overwritten whether we have a\n",
              "  specific estimator or a Pipeline/ColumnTransformer */\n",
              "  background-color: var(--sklearn-color-background);\n",
              "}\n",
              "\n",
              "/* Toggleable label */\n",
              "#sk-container-id-2 label.sk-toggleable__label {\n",
              "  cursor: pointer;\n",
              "  display: block;\n",
              "  width: 100%;\n",
              "  margin-bottom: 0;\n",
              "  padding: 0.5em;\n",
              "  box-sizing: border-box;\n",
              "  text-align: center;\n",
              "}\n",
              "\n",
              "#sk-container-id-2 label.sk-toggleable__label-arrow:before {\n",
              "  /* Arrow on the left of the label */\n",
              "  content: \"▸\";\n",
              "  float: left;\n",
              "  margin-right: 0.25em;\n",
              "  color: var(--sklearn-color-icon);\n",
              "}\n",
              "\n",
              "#sk-container-id-2 label.sk-toggleable__label-arrow:hover:before {\n",
              "  color: var(--sklearn-color-text);\n",
              "}\n",
              "\n",
              "/* Toggleable content - dropdown */\n",
              "\n",
              "#sk-container-id-2 div.sk-toggleable__content {\n",
              "  max-height: 0;\n",
              "  max-width: 0;\n",
              "  overflow: hidden;\n",
              "  text-align: left;\n",
              "  /* unfitted */\n",
              "  background-color: var(--sklearn-color-unfitted-level-0);\n",
              "}\n",
              "\n",
              "#sk-container-id-2 div.sk-toggleable__content.fitted {\n",
              "  /* fitted */\n",
              "  background-color: var(--sklearn-color-fitted-level-0);\n",
              "}\n",
              "\n",
              "#sk-container-id-2 div.sk-toggleable__content pre {\n",
              "  margin: 0.2em;\n",
              "  border-radius: 0.25em;\n",
              "  color: var(--sklearn-color-text);\n",
              "  /* unfitted */\n",
              "  background-color: var(--sklearn-color-unfitted-level-0);\n",
              "}\n",
              "\n",
              "#sk-container-id-2 div.sk-toggleable__content.fitted pre {\n",
              "  /* unfitted */\n",
              "  background-color: var(--sklearn-color-fitted-level-0);\n",
              "}\n",
              "\n",
              "#sk-container-id-2 input.sk-toggleable__control:checked~div.sk-toggleable__content {\n",
              "  /* Expand drop-down */\n",
              "  max-height: 200px;\n",
              "  max-width: 100%;\n",
              "  overflow: auto;\n",
              "}\n",
              "\n",
              "#sk-container-id-2 input.sk-toggleable__control:checked~label.sk-toggleable__label-arrow:before {\n",
              "  content: \"▾\";\n",
              "}\n",
              "\n",
              "/* Pipeline/ColumnTransformer-specific style */\n",
              "\n",
              "#sk-container-id-2 div.sk-label input.sk-toggleable__control:checked~label.sk-toggleable__label {\n",
              "  color: var(--sklearn-color-text);\n",
              "  background-color: var(--sklearn-color-unfitted-level-2);\n",
              "}\n",
              "\n",
              "#sk-container-id-2 div.sk-label.fitted input.sk-toggleable__control:checked~label.sk-toggleable__label {\n",
              "  background-color: var(--sklearn-color-fitted-level-2);\n",
              "}\n",
              "\n",
              "/* Estimator-specific style */\n",
              "\n",
              "/* Colorize estimator box */\n",
              "#sk-container-id-2 div.sk-estimator input.sk-toggleable__control:checked~label.sk-toggleable__label {\n",
              "  /* unfitted */\n",
              "  background-color: var(--sklearn-color-unfitted-level-2);\n",
              "}\n",
              "\n",
              "#sk-container-id-2 div.sk-estimator.fitted input.sk-toggleable__control:checked~label.sk-toggleable__label {\n",
              "  /* fitted */\n",
              "  background-color: var(--sklearn-color-fitted-level-2);\n",
              "}\n",
              "\n",
              "#sk-container-id-2 div.sk-label label.sk-toggleable__label,\n",
              "#sk-container-id-2 div.sk-label label {\n",
              "  /* The background is the default theme color */\n",
              "  color: var(--sklearn-color-text-on-default-background);\n",
              "}\n",
              "\n",
              "/* On hover, darken the color of the background */\n",
              "#sk-container-id-2 div.sk-label:hover label.sk-toggleable__label {\n",
              "  color: var(--sklearn-color-text);\n",
              "  background-color: var(--sklearn-color-unfitted-level-2);\n",
              "}\n",
              "\n",
              "/* Label box, darken color on hover, fitted */\n",
              "#sk-container-id-2 div.sk-label.fitted:hover label.sk-toggleable__label.fitted {\n",
              "  color: var(--sklearn-color-text);\n",
              "  background-color: var(--sklearn-color-fitted-level-2);\n",
              "}\n",
              "\n",
              "/* Estimator label */\n",
              "\n",
              "#sk-container-id-2 div.sk-label label {\n",
              "  font-family: monospace;\n",
              "  font-weight: bold;\n",
              "  display: inline-block;\n",
              "  line-height: 1.2em;\n",
              "}\n",
              "\n",
              "#sk-container-id-2 div.sk-label-container {\n",
              "  text-align: center;\n",
              "}\n",
              "\n",
              "/* Estimator-specific */\n",
              "#sk-container-id-2 div.sk-estimator {\n",
              "  font-family: monospace;\n",
              "  border: 1px dotted var(--sklearn-color-border-box);\n",
              "  border-radius: 0.25em;\n",
              "  box-sizing: border-box;\n",
              "  margin-bottom: 0.5em;\n",
              "  /* unfitted */\n",
              "  background-color: var(--sklearn-color-unfitted-level-0);\n",
              "}\n",
              "\n",
              "#sk-container-id-2 div.sk-estimator.fitted {\n",
              "  /* fitted */\n",
              "  background-color: var(--sklearn-color-fitted-level-0);\n",
              "}\n",
              "\n",
              "/* on hover */\n",
              "#sk-container-id-2 div.sk-estimator:hover {\n",
              "  /* unfitted */\n",
              "  background-color: var(--sklearn-color-unfitted-level-2);\n",
              "}\n",
              "\n",
              "#sk-container-id-2 div.sk-estimator.fitted:hover {\n",
              "  /* fitted */\n",
              "  background-color: var(--sklearn-color-fitted-level-2);\n",
              "}\n",
              "\n",
              "/* Specification for estimator info (e.g. \"i\" and \"?\") */\n",
              "\n",
              "/* Common style for \"i\" and \"?\" */\n",
              "\n",
              ".sk-estimator-doc-link,\n",
              "a:link.sk-estimator-doc-link,\n",
              "a:visited.sk-estimator-doc-link {\n",
              "  float: right;\n",
              "  font-size: smaller;\n",
              "  line-height: 1em;\n",
              "  font-family: monospace;\n",
              "  background-color: var(--sklearn-color-background);\n",
              "  border-radius: 1em;\n",
              "  height: 1em;\n",
              "  width: 1em;\n",
              "  text-decoration: none !important;\n",
              "  margin-left: 1ex;\n",
              "  /* unfitted */\n",
              "  border: var(--sklearn-color-unfitted-level-1) 1pt solid;\n",
              "  color: var(--sklearn-color-unfitted-level-1);\n",
              "}\n",
              "\n",
              ".sk-estimator-doc-link.fitted,\n",
              "a:link.sk-estimator-doc-link.fitted,\n",
              "a:visited.sk-estimator-doc-link.fitted {\n",
              "  /* fitted */\n",
              "  border: var(--sklearn-color-fitted-level-1) 1pt solid;\n",
              "  color: var(--sklearn-color-fitted-level-1);\n",
              "}\n",
              "\n",
              "/* On hover */\n",
              "div.sk-estimator:hover .sk-estimator-doc-link:hover,\n",
              ".sk-estimator-doc-link:hover,\n",
              "div.sk-label-container:hover .sk-estimator-doc-link:hover,\n",
              ".sk-estimator-doc-link:hover {\n",
              "  /* unfitted */\n",
              "  background-color: var(--sklearn-color-unfitted-level-3);\n",
              "  color: var(--sklearn-color-background);\n",
              "  text-decoration: none;\n",
              "}\n",
              "\n",
              "div.sk-estimator.fitted:hover .sk-estimator-doc-link.fitted:hover,\n",
              ".sk-estimator-doc-link.fitted:hover,\n",
              "div.sk-label-container:hover .sk-estimator-doc-link.fitted:hover,\n",
              ".sk-estimator-doc-link.fitted:hover {\n",
              "  /* fitted */\n",
              "  background-color: var(--sklearn-color-fitted-level-3);\n",
              "  color: var(--sklearn-color-background);\n",
              "  text-decoration: none;\n",
              "}\n",
              "\n",
              "/* Span, style for the box shown on hovering the info icon */\n",
              ".sk-estimator-doc-link span {\n",
              "  display: none;\n",
              "  z-index: 9999;\n",
              "  position: relative;\n",
              "  font-weight: normal;\n",
              "  right: .2ex;\n",
              "  padding: .5ex;\n",
              "  margin: .5ex;\n",
              "  width: min-content;\n",
              "  min-width: 20ex;\n",
              "  max-width: 50ex;\n",
              "  color: var(--sklearn-color-text);\n",
              "  box-shadow: 2pt 2pt 4pt #999;\n",
              "  /* unfitted */\n",
              "  background: var(--sklearn-color-unfitted-level-0);\n",
              "  border: .5pt solid var(--sklearn-color-unfitted-level-3);\n",
              "}\n",
              "\n",
              ".sk-estimator-doc-link.fitted span {\n",
              "  /* fitted */\n",
              "  background: var(--sklearn-color-fitted-level-0);\n",
              "  border: var(--sklearn-color-fitted-level-3);\n",
              "}\n",
              "\n",
              ".sk-estimator-doc-link:hover span {\n",
              "  display: block;\n",
              "}\n",
              "\n",
              "/* \"?\"-specific style due to the `<a>` HTML tag */\n",
              "\n",
              "#sk-container-id-2 a.estimator_doc_link {\n",
              "  float: right;\n",
              "  font-size: 1rem;\n",
              "  line-height: 1em;\n",
              "  font-family: monospace;\n",
              "  background-color: var(--sklearn-color-background);\n",
              "  border-radius: 1rem;\n",
              "  height: 1rem;\n",
              "  width: 1rem;\n",
              "  text-decoration: none;\n",
              "  /* unfitted */\n",
              "  color: var(--sklearn-color-unfitted-level-1);\n",
              "  border: var(--sklearn-color-unfitted-level-1) 1pt solid;\n",
              "}\n",
              "\n",
              "#sk-container-id-2 a.estimator_doc_link.fitted {\n",
              "  /* fitted */\n",
              "  border: var(--sklearn-color-fitted-level-1) 1pt solid;\n",
              "  color: var(--sklearn-color-fitted-level-1);\n",
              "}\n",
              "\n",
              "/* On hover */\n",
              "#sk-container-id-2 a.estimator_doc_link:hover {\n",
              "  /* unfitted */\n",
              "  background-color: var(--sklearn-color-unfitted-level-3);\n",
              "  color: var(--sklearn-color-background);\n",
              "  text-decoration: none;\n",
              "}\n",
              "\n",
              "#sk-container-id-2 a.estimator_doc_link.fitted:hover {\n",
              "  /* fitted */\n",
              "  background-color: var(--sklearn-color-fitted-level-3);\n",
              "}\n",
              "</style><div id=\"sk-container-id-2\" class=\"sk-top-container\"><div class=\"sk-text-repr-fallback\"><pre>Pipeline(steps=[(&#x27;preprocess&#x27;,\n",
              "                 ColumnTransformer(force_int_remainder_cols=False, n_jobs=-1,\n",
              "                                   remainder=&#x27;passthrough&#x27;,\n",
              "                                   transformers=[(&#x27;scale&#x27;, MinMaxScaler(),\n",
              "                                                  [&#x27;age&#x27;, &#x27;ratings&#x27;,\n",
              "                                                   &#x27;pickup_time_minutes&#x27;,\n",
              "                                                   &#x27;distance&#x27;]),\n",
              "                                                 (&#x27;nominal_encode&#x27;,\n",
              "                                                  OneHotEncoder(drop=&#x27;first&#x27;,\n",
              "                                                                handle_unknown=&#x27;ignore&#x27;,\n",
              "                                                                sparse_output=False),\n",
              "                                                  [&#x27;weather&#x27;, &#x27;type_of_order&#x27;,\n",
              "                                                   &#x27;type_of_vehicle&#x27;,\n",
              "                                                   &#x27;festival&#x27;, &#x27;city_type&#x27;,\n",
              "                                                   &#x27;is_weekend&#x27;,\n",
              "                                                   &#x27;order_time_of_day&#x27;]),\n",
              "                                                 (&#x27;ordinal_encode&#x27;,\n",
              "                                                  OrdinalEncoder(categories=[[&#x27;low&#x27;,\n",
              "                                                                              &#x27;medium&#x27;,\n",
              "                                                                              &#x27;high&#x27;,\n",
              "                                                                              &#x27;jam&#x27;],\n",
              "                                                                             [&#x27;short&#x27;,\n",
              "                                                                              &#x27;medium&#x27;,\n",
              "                                                                              &#x27;long&#x27;,\n",
              "                                                                              &#x27;very_long&#x27;]],\n",
              "                                                                 encoded_missing_value=-999,\n",
              "                                                                 handle_unknown=&#x27;use_encoded_value&#x27;,\n",
              "                                                                 unknown_value=-1),\n",
              "                                                  [&#x27;traffic&#x27;,\n",
              "                                                   &#x27;distance_type&#x27;])],\n",
              "                                   verbose_feature_names_out=False))])</pre><b>In a Jupyter environment, please rerun this cell to show the HTML representation or trust the notebook. <br />On GitHub, the HTML representation is unable to render, please try loading this page with nbviewer.org.</b></div><div class=\"sk-container\" hidden><div class=\"sk-item sk-dashed-wrapped\"><div class=\"sk-label-container\"><div class=\"sk-label  sk-toggleable\"><input class=\"sk-toggleable__control sk-hidden--visually\" id=\"sk-estimator-id-10\" type=\"checkbox\" ><label for=\"sk-estimator-id-10\" class=\"sk-toggleable__label  sk-toggleable__label-arrow \">&nbsp;&nbsp;Pipeline<a class=\"sk-estimator-doc-link \" rel=\"noreferrer\" target=\"_blank\" href=\"https://scikit-learn.org/1.5/modules/generated/sklearn.pipeline.Pipeline.html\">?<span>Documentation for Pipeline</span></a><span class=\"sk-estimator-doc-link \">i<span>Not fitted</span></span></label><div class=\"sk-toggleable__content \"><pre>Pipeline(steps=[(&#x27;preprocess&#x27;,\n",
              "                 ColumnTransformer(force_int_remainder_cols=False, n_jobs=-1,\n",
              "                                   remainder=&#x27;passthrough&#x27;,\n",
              "                                   transformers=[(&#x27;scale&#x27;, MinMaxScaler(),\n",
              "                                                  [&#x27;age&#x27;, &#x27;ratings&#x27;,\n",
              "                                                   &#x27;pickup_time_minutes&#x27;,\n",
              "                                                   &#x27;distance&#x27;]),\n",
              "                                                 (&#x27;nominal_encode&#x27;,\n",
              "                                                  OneHotEncoder(drop=&#x27;first&#x27;,\n",
              "                                                                handle_unknown=&#x27;ignore&#x27;,\n",
              "                                                                sparse_output=False),\n",
              "                                                  [&#x27;weather&#x27;, &#x27;type_of_order&#x27;,\n",
              "                                                   &#x27;type_of_vehicle&#x27;,\n",
              "                                                   &#x27;festival&#x27;, &#x27;city_type&#x27;,\n",
              "                                                   &#x27;is_weekend&#x27;,\n",
              "                                                   &#x27;order_time_of_day&#x27;]),\n",
              "                                                 (&#x27;ordinal_encode&#x27;,\n",
              "                                                  OrdinalEncoder(categories=[[&#x27;low&#x27;,\n",
              "                                                                              &#x27;medium&#x27;,\n",
              "                                                                              &#x27;high&#x27;,\n",
              "                                                                              &#x27;jam&#x27;],\n",
              "                                                                             [&#x27;short&#x27;,\n",
              "                                                                              &#x27;medium&#x27;,\n",
              "                                                                              &#x27;long&#x27;,\n",
              "                                                                              &#x27;very_long&#x27;]],\n",
              "                                                                 encoded_missing_value=-999,\n",
              "                                                                 handle_unknown=&#x27;use_encoded_value&#x27;,\n",
              "                                                                 unknown_value=-1),\n",
              "                                                  [&#x27;traffic&#x27;,\n",
              "                                                   &#x27;distance_type&#x27;])],\n",
              "                                   verbose_feature_names_out=False))])</pre></div> </div></div><div class=\"sk-serial\"><div class=\"sk-item sk-dashed-wrapped\"><div class=\"sk-label-container\"><div class=\"sk-label  sk-toggleable\"><input class=\"sk-toggleable__control sk-hidden--visually\" id=\"sk-estimator-id-11\" type=\"checkbox\" ><label for=\"sk-estimator-id-11\" class=\"sk-toggleable__label  sk-toggleable__label-arrow \">&nbsp;preprocess: ColumnTransformer<a class=\"sk-estimator-doc-link \" rel=\"noreferrer\" target=\"_blank\" href=\"https://scikit-learn.org/1.5/modules/generated/sklearn.compose.ColumnTransformer.html\">?<span>Documentation for preprocess: ColumnTransformer</span></a></label><div class=\"sk-toggleable__content \"><pre>ColumnTransformer(force_int_remainder_cols=False, n_jobs=-1,\n",
              "                  remainder=&#x27;passthrough&#x27;,\n",
              "                  transformers=[(&#x27;scale&#x27;, MinMaxScaler(),\n",
              "                                 [&#x27;age&#x27;, &#x27;ratings&#x27;, &#x27;pickup_time_minutes&#x27;,\n",
              "                                  &#x27;distance&#x27;]),\n",
              "                                (&#x27;nominal_encode&#x27;,\n",
              "                                 OneHotEncoder(drop=&#x27;first&#x27;,\n",
              "                                               handle_unknown=&#x27;ignore&#x27;,\n",
              "                                               sparse_output=False),\n",
              "                                 [&#x27;weather&#x27;, &#x27;type_of_order&#x27;, &#x27;type_of_vehicle&#x27;,\n",
              "                                  &#x27;festival&#x27;, &#x27;city_type&#x27;, &#x27;is_weekend&#x27;,\n",
              "                                  &#x27;order_time_of_day&#x27;]),\n",
              "                                (&#x27;ordinal_encode&#x27;,\n",
              "                                 OrdinalEncoder(categories=[[&#x27;low&#x27;, &#x27;medium&#x27;,\n",
              "                                                             &#x27;high&#x27;, &#x27;jam&#x27;],\n",
              "                                                            [&#x27;short&#x27;, &#x27;medium&#x27;,\n",
              "                                                             &#x27;long&#x27;,\n",
              "                                                             &#x27;very_long&#x27;]],\n",
              "                                                encoded_missing_value=-999,\n",
              "                                                handle_unknown=&#x27;use_encoded_value&#x27;,\n",
              "                                                unknown_value=-1),\n",
              "                                 [&#x27;traffic&#x27;, &#x27;distance_type&#x27;])],\n",
              "                  verbose_feature_names_out=False)</pre></div> </div></div><div class=\"sk-parallel\"><div class=\"sk-parallel-item\"><div class=\"sk-item\"><div class=\"sk-label-container\"><div class=\"sk-label  sk-toggleable\"><input class=\"sk-toggleable__control sk-hidden--visually\" id=\"sk-estimator-id-12\" type=\"checkbox\" ><label for=\"sk-estimator-id-12\" class=\"sk-toggleable__label  sk-toggleable__label-arrow \">scale</label><div class=\"sk-toggleable__content \"><pre>[&#x27;age&#x27;, &#x27;ratings&#x27;, &#x27;pickup_time_minutes&#x27;, &#x27;distance&#x27;]</pre></div> </div></div><div class=\"sk-serial\"><div class=\"sk-item\"><div class=\"sk-estimator  sk-toggleable\"><input class=\"sk-toggleable__control sk-hidden--visually\" id=\"sk-estimator-id-13\" type=\"checkbox\" ><label for=\"sk-estimator-id-13\" class=\"sk-toggleable__label  sk-toggleable__label-arrow \">&nbsp;MinMaxScaler<a class=\"sk-estimator-doc-link \" rel=\"noreferrer\" target=\"_blank\" href=\"https://scikit-learn.org/1.5/modules/generated/sklearn.preprocessing.MinMaxScaler.html\">?<span>Documentation for MinMaxScaler</span></a></label><div class=\"sk-toggleable__content \"><pre>MinMaxScaler()</pre></div> </div></div></div></div></div><div class=\"sk-parallel-item\"><div class=\"sk-item\"><div class=\"sk-label-container\"><div class=\"sk-label  sk-toggleable\"><input class=\"sk-toggleable__control sk-hidden--visually\" id=\"sk-estimator-id-14\" type=\"checkbox\" ><label for=\"sk-estimator-id-14\" class=\"sk-toggleable__label  sk-toggleable__label-arrow \">nominal_encode</label><div class=\"sk-toggleable__content \"><pre>[&#x27;weather&#x27;, &#x27;type_of_order&#x27;, &#x27;type_of_vehicle&#x27;, &#x27;festival&#x27;, &#x27;city_type&#x27;, &#x27;is_weekend&#x27;, &#x27;order_time_of_day&#x27;]</pre></div> </div></div><div class=\"sk-serial\"><div class=\"sk-item\"><div class=\"sk-estimator  sk-toggleable\"><input class=\"sk-toggleable__control sk-hidden--visually\" id=\"sk-estimator-id-15\" type=\"checkbox\" ><label for=\"sk-estimator-id-15\" class=\"sk-toggleable__label  sk-toggleable__label-arrow \">&nbsp;OneHotEncoder<a class=\"sk-estimator-doc-link \" rel=\"noreferrer\" target=\"_blank\" href=\"https://scikit-learn.org/1.5/modules/generated/sklearn.preprocessing.OneHotEncoder.html\">?<span>Documentation for OneHotEncoder</span></a></label><div class=\"sk-toggleable__content \"><pre>OneHotEncoder(drop=&#x27;first&#x27;, handle_unknown=&#x27;ignore&#x27;, sparse_output=False)</pre></div> </div></div></div></div></div><div class=\"sk-parallel-item\"><div class=\"sk-item\"><div class=\"sk-label-container\"><div class=\"sk-label  sk-toggleable\"><input class=\"sk-toggleable__control sk-hidden--visually\" id=\"sk-estimator-id-16\" type=\"checkbox\" ><label for=\"sk-estimator-id-16\" class=\"sk-toggleable__label  sk-toggleable__label-arrow \">ordinal_encode</label><div class=\"sk-toggleable__content \"><pre>[&#x27;traffic&#x27;, &#x27;distance_type&#x27;]</pre></div> </div></div><div class=\"sk-serial\"><div class=\"sk-item\"><div class=\"sk-estimator  sk-toggleable\"><input class=\"sk-toggleable__control sk-hidden--visually\" id=\"sk-estimator-id-17\" type=\"checkbox\" ><label for=\"sk-estimator-id-17\" class=\"sk-toggleable__label  sk-toggleable__label-arrow \">&nbsp;OrdinalEncoder<a class=\"sk-estimator-doc-link \" rel=\"noreferrer\" target=\"_blank\" href=\"https://scikit-learn.org/1.5/modules/generated/sklearn.preprocessing.OrdinalEncoder.html\">?<span>Documentation for OrdinalEncoder</span></a></label><div class=\"sk-toggleable__content \"><pre>OrdinalEncoder(categories=[[&#x27;low&#x27;, &#x27;medium&#x27;, &#x27;high&#x27;, &#x27;jam&#x27;],\n",
              "                           [&#x27;short&#x27;, &#x27;medium&#x27;, &#x27;long&#x27;, &#x27;very_long&#x27;]],\n",
              "               encoded_missing_value=-999, handle_unknown=&#x27;use_encoded_value&#x27;,\n",
              "               unknown_value=-1)</pre></div> </div></div></div></div></div><div class=\"sk-parallel-item\"><div class=\"sk-item\"><div class=\"sk-label-container\"><div class=\"sk-label  sk-toggleable\"><input class=\"sk-toggleable__control sk-hidden--visually\" id=\"sk-estimator-id-18\" type=\"checkbox\" ><label for=\"sk-estimator-id-18\" class=\"sk-toggleable__label  sk-toggleable__label-arrow \">remainder</label><div class=\"sk-toggleable__content \"><pre></pre></div> </div></div><div class=\"sk-serial\"><div class=\"sk-item\"><div class=\"sk-estimator  sk-toggleable\"><input class=\"sk-toggleable__control sk-hidden--visually\" id=\"sk-estimator-id-19\" type=\"checkbox\" ><label for=\"sk-estimator-id-19\" class=\"sk-toggleable__label  sk-toggleable__label-arrow \">passthrough</label><div class=\"sk-toggleable__content \"><pre>passthrough</pre></div> </div></div></div></div></div></div></div></div></div></div></div>"
            ],
            "text/plain": [
              "Pipeline(steps=[('preprocess',\n",
              "                 ColumnTransformer(force_int_remainder_cols=False, n_jobs=-1,\n",
              "                                   remainder='passthrough',\n",
              "                                   transformers=[('scale', MinMaxScaler(),\n",
              "                                                  ['age', 'ratings',\n",
              "                                                   'pickup_time_minutes',\n",
              "                                                   'distance']),\n",
              "                                                 ('nominal_encode',\n",
              "                                                  OneHotEncoder(drop='first',\n",
              "                                                                handle_unknown='ignore',\n",
              "                                                                sparse_output=False),\n",
              "                                                  ['weather', 'type_of_order',\n",
              "                                                   'type_of_vehicle',\n",
              "                                                   'festival', 'city_type',\n",
              "                                                   'is_weekend',\n",
              "                                                   'order_time_of_day']),\n",
              "                                                 ('ordinal_encode',\n",
              "                                                  OrdinalEncoder(categories=[['low',\n",
              "                                                                              'medium',\n",
              "                                                                              'high',\n",
              "                                                                              'jam'],\n",
              "                                                                             ['short',\n",
              "                                                                              'medium',\n",
              "                                                                              'long',\n",
              "                                                                              'very_long']],\n",
              "                                                                 encoded_missing_value=-999,\n",
              "                                                                 handle_unknown='use_encoded_value',\n",
              "                                                                 unknown_value=-1),\n",
              "                                                  ['traffic',\n",
              "                                                   'distance_type'])],\n",
              "                                   verbose_feature_names_out=False))])"
            ]
          },
          "execution_count": 29,
          "metadata": {},
          "output_type": "execute_result"
        }
      ],
      "source": [
        "# build the pipeline\n",
        "\n",
        "processing_pipeline = Pipeline(steps=[\n",
        "                                # (\"simple_imputer\",simple_imputer),\n",
        "                                (\"preprocess\",preprocessor)\n",
        "                                # (\"knn_imputer\",knn_imputer)\n",
        "                            ])\n",
        "\n",
        "processing_pipeline"
      ]
    },
    {
      "cell_type": "code",
      "execution_count": 30,
      "metadata": {
        "id": "tVRPCAe3NXfL"
      },
      "outputs": [],
      "source": [
        "# do data preprocessing\n",
        "\n",
        "X_train_trans = processing_pipeline.fit_transform(X_train)\n",
        "\n",
        "X_test_trans = processing_pipeline.transform(X_test)"
      ]
    },
    {
      "cell_type": "code",
      "execution_count": 31,
      "metadata": {
        "colab": {
          "base_uri": "https://localhost:8080/",
          "height": 461
        },
        "id": "l2-_1Nsa6aVO",
        "outputId": "ad9c5e04-6872-4b6a-8938-952cbc6d9352"
      },
      "outputs": [
        {
          "data": {
            "text/html": [
              "<div>\n",
              "<style scoped>\n",
              "    .dataframe tbody tr th:only-of-type {\n",
              "        vertical-align: middle;\n",
              "    }\n",
              "\n",
              "    .dataframe tbody tr th {\n",
              "        vertical-align: top;\n",
              "    }\n",
              "\n",
              "    .dataframe thead th {\n",
              "        text-align: right;\n",
              "    }\n",
              "</style>\n",
              "<table border=\"1\" class=\"dataframe\">\n",
              "  <thead>\n",
              "    <tr style=\"text-align: right;\">\n",
              "      <th></th>\n",
              "      <th>age</th>\n",
              "      <th>ratings</th>\n",
              "      <th>pickup_time_minutes</th>\n",
              "      <th>distance</th>\n",
              "      <th>weather_fog</th>\n",
              "      <th>weather_sandstorms</th>\n",
              "      <th>weather_stormy</th>\n",
              "      <th>weather_sunny</th>\n",
              "      <th>weather_windy</th>\n",
              "      <th>type_of_order_drinks</th>\n",
              "      <th>...</th>\n",
              "      <th>city_type_semi-urban</th>\n",
              "      <th>city_type_urban</th>\n",
              "      <th>is_weekend_1</th>\n",
              "      <th>order_time_of_day_evening</th>\n",
              "      <th>order_time_of_day_morning</th>\n",
              "      <th>order_time_of_day_night</th>\n",
              "      <th>traffic</th>\n",
              "      <th>distance_type</th>\n",
              "      <th>vehicle_condition</th>\n",
              "      <th>multiple_deliveries</th>\n",
              "    </tr>\n",
              "  </thead>\n",
              "  <tbody>\n",
              "    <tr>\n",
              "      <th>8708</th>\n",
              "      <td>0.473684</td>\n",
              "      <td>0.56</td>\n",
              "      <td>1.0</td>\n",
              "      <td>0.404165</td>\n",
              "      <td>0.0</td>\n",
              "      <td>0.0</td>\n",
              "      <td>0.0</td>\n",
              "      <td>1.0</td>\n",
              "      <td>0.0</td>\n",
              "      <td>1.0</td>\n",
              "      <td>...</td>\n",
              "      <td>1.0</td>\n",
              "      <td>0.0</td>\n",
              "      <td>0.0</td>\n",
              "      <td>0.0</td>\n",
              "      <td>0.0</td>\n",
              "      <td>1.0</td>\n",
              "      <td>3.0</td>\n",
              "      <td>1.0</td>\n",
              "      <td>0</td>\n",
              "      <td>2.0</td>\n",
              "    </tr>\n",
              "    <tr>\n",
              "      <th>25198</th>\n",
              "      <td>1.000000</td>\n",
              "      <td>0.76</td>\n",
              "      <td>0.0</td>\n",
              "      <td>0.154044</td>\n",
              "      <td>0.0</td>\n",
              "      <td>1.0</td>\n",
              "      <td>0.0</td>\n",
              "      <td>0.0</td>\n",
              "      <td>0.0</td>\n",
              "      <td>0.0</td>\n",
              "      <td>...</td>\n",
              "      <td>0.0</td>\n",
              "      <td>0.0</td>\n",
              "      <td>1.0</td>\n",
              "      <td>0.0</td>\n",
              "      <td>0.0</td>\n",
              "      <td>0.0</td>\n",
              "      <td>1.0</td>\n",
              "      <td>0.0</td>\n",
              "      <td>0</td>\n",
              "      <td>1.0</td>\n",
              "    </tr>\n",
              "    <tr>\n",
              "      <th>34049</th>\n",
              "      <td>0.473684</td>\n",
              "      <td>0.80</td>\n",
              "      <td>0.5</td>\n",
              "      <td>0.002461</td>\n",
              "      <td>0.0</td>\n",
              "      <td>0.0</td>\n",
              "      <td>0.0</td>\n",
              "      <td>1.0</td>\n",
              "      <td>0.0</td>\n",
              "      <td>0.0</td>\n",
              "      <td>...</td>\n",
              "      <td>0.0</td>\n",
              "      <td>1.0</td>\n",
              "      <td>0.0</td>\n",
              "      <td>0.0</td>\n",
              "      <td>1.0</td>\n",
              "      <td>0.0</td>\n",
              "      <td>2.0</td>\n",
              "      <td>0.0</td>\n",
              "      <td>1</td>\n",
              "      <td>0.0</td>\n",
              "    </tr>\n",
              "    <tr>\n",
              "      <th>25987</th>\n",
              "      <td>1.000000</td>\n",
              "      <td>0.92</td>\n",
              "      <td>1.0</td>\n",
              "      <td>0.460411</td>\n",
              "      <td>0.0</td>\n",
              "      <td>1.0</td>\n",
              "      <td>0.0</td>\n",
              "      <td>0.0</td>\n",
              "      <td>0.0</td>\n",
              "      <td>0.0</td>\n",
              "      <td>...</td>\n",
              "      <td>0.0</td>\n",
              "      <td>0.0</td>\n",
              "      <td>1.0</td>\n",
              "      <td>0.0</td>\n",
              "      <td>0.0</td>\n",
              "      <td>1.0</td>\n",
              "      <td>0.0</td>\n",
              "      <td>2.0</td>\n",
              "      <td>0</td>\n",
              "      <td>1.0</td>\n",
              "    </tr>\n",
              "    <tr>\n",
              "      <th>37121</th>\n",
              "      <td>0.526316</td>\n",
              "      <td>0.76</td>\n",
              "      <td>0.5</td>\n",
              "      <td>0.243676</td>\n",
              "      <td>0.0</td>\n",
              "      <td>0.0</td>\n",
              "      <td>0.0</td>\n",
              "      <td>0.0</td>\n",
              "      <td>1.0</td>\n",
              "      <td>0.0</td>\n",
              "      <td>...</td>\n",
              "      <td>0.0</td>\n",
              "      <td>0.0</td>\n",
              "      <td>1.0</td>\n",
              "      <td>0.0</td>\n",
              "      <td>0.0</td>\n",
              "      <td>0.0</td>\n",
              "      <td>1.0</td>\n",
              "      <td>1.0</td>\n",
              "      <td>1</td>\n",
              "      <td>1.0</td>\n",
              "    </tr>\n",
              "    <tr>\n",
              "      <th>...</th>\n",
              "      <td>...</td>\n",
              "      <td>...</td>\n",
              "      <td>...</td>\n",
              "      <td>...</td>\n",
              "      <td>...</td>\n",
              "      <td>...</td>\n",
              "      <td>...</td>\n",
              "      <td>...</td>\n",
              "      <td>...</td>\n",
              "      <td>...</td>\n",
              "      <td>...</td>\n",
              "      <td>...</td>\n",
              "      <td>...</td>\n",
              "      <td>...</td>\n",
              "      <td>...</td>\n",
              "      <td>...</td>\n",
              "      <td>...</td>\n",
              "      <td>...</td>\n",
              "      <td>...</td>\n",
              "      <td>...</td>\n",
              "      <td>...</td>\n",
              "    </tr>\n",
              "    <tr>\n",
              "      <th>20239</th>\n",
              "      <td>0.578947</td>\n",
              "      <td>0.92</td>\n",
              "      <td>0.5</td>\n",
              "      <td>0.451895</td>\n",
              "      <td>0.0</td>\n",
              "      <td>0.0</td>\n",
              "      <td>0.0</td>\n",
              "      <td>1.0</td>\n",
              "      <td>0.0</td>\n",
              "      <td>0.0</td>\n",
              "      <td>...</td>\n",
              "      <td>0.0</td>\n",
              "      <td>0.0</td>\n",
              "      <td>1.0</td>\n",
              "      <td>1.0</td>\n",
              "      <td>0.0</td>\n",
              "      <td>0.0</td>\n",
              "      <td>3.0</td>\n",
              "      <td>2.0</td>\n",
              "      <td>0</td>\n",
              "      <td>0.0</td>\n",
              "    </tr>\n",
              "    <tr>\n",
              "      <th>7590</th>\n",
              "      <td>0.052632</td>\n",
              "      <td>1.00</td>\n",
              "      <td>1.0</td>\n",
              "      <td>0.612270</td>\n",
              "      <td>0.0</td>\n",
              "      <td>1.0</td>\n",
              "      <td>0.0</td>\n",
              "      <td>0.0</td>\n",
              "      <td>0.0</td>\n",
              "      <td>0.0</td>\n",
              "      <td>...</td>\n",
              "      <td>0.0</td>\n",
              "      <td>0.0</td>\n",
              "      <td>1.0</td>\n",
              "      <td>1.0</td>\n",
              "      <td>0.0</td>\n",
              "      <td>0.0</td>\n",
              "      <td>1.0</td>\n",
              "      <td>2.0</td>\n",
              "      <td>1</td>\n",
              "      <td>1.0</td>\n",
              "    </tr>\n",
              "    <tr>\n",
              "      <th>13610</th>\n",
              "      <td>0.526316</td>\n",
              "      <td>0.92</td>\n",
              "      <td>0.0</td>\n",
              "      <td>0.322877</td>\n",
              "      <td>0.0</td>\n",
              "      <td>0.0</td>\n",
              "      <td>0.0</td>\n",
              "      <td>0.0</td>\n",
              "      <td>0.0</td>\n",
              "      <td>0.0</td>\n",
              "      <td>...</td>\n",
              "      <td>0.0</td>\n",
              "      <td>0.0</td>\n",
              "      <td>1.0</td>\n",
              "      <td>0.0</td>\n",
              "      <td>0.0</td>\n",
              "      <td>0.0</td>\n",
              "      <td>1.0</td>\n",
              "      <td>1.0</td>\n",
              "      <td>1</td>\n",
              "      <td>0.0</td>\n",
              "    </tr>\n",
              "    <tr>\n",
              "      <th>1045</th>\n",
              "      <td>0.947368</td>\n",
              "      <td>0.96</td>\n",
              "      <td>0.5</td>\n",
              "      <td>0.004486</td>\n",
              "      <td>0.0</td>\n",
              "      <td>0.0</td>\n",
              "      <td>0.0</td>\n",
              "      <td>1.0</td>\n",
              "      <td>0.0</td>\n",
              "      <td>0.0</td>\n",
              "      <td>...</td>\n",
              "      <td>0.0</td>\n",
              "      <td>1.0</td>\n",
              "      <td>1.0</td>\n",
              "      <td>0.0</td>\n",
              "      <td>1.0</td>\n",
              "      <td>0.0</td>\n",
              "      <td>0.0</td>\n",
              "      <td>0.0</td>\n",
              "      <td>0</td>\n",
              "      <td>1.0</td>\n",
              "    </tr>\n",
              "    <tr>\n",
              "      <th>18968</th>\n",
              "      <td>0.684211</td>\n",
              "      <td>0.96</td>\n",
              "      <td>0.0</td>\n",
              "      <td>0.481978</td>\n",
              "      <td>0.0</td>\n",
              "      <td>0.0</td>\n",
              "      <td>0.0</td>\n",
              "      <td>0.0</td>\n",
              "      <td>1.0</td>\n",
              "      <td>0.0</td>\n",
              "      <td>...</td>\n",
              "      <td>0.0</td>\n",
              "      <td>1.0</td>\n",
              "      <td>0.0</td>\n",
              "      <td>0.0</td>\n",
              "      <td>0.0</td>\n",
              "      <td>1.0</td>\n",
              "      <td>0.0</td>\n",
              "      <td>2.0</td>\n",
              "      <td>2</td>\n",
              "      <td>1.0</td>\n",
              "    </tr>\n",
              "  </tbody>\n",
              "</table>\n",
              "<p>30156 rows × 25 columns</p>\n",
              "</div>"
            ],
            "text/plain": [
              "            age  ratings  pickup_time_minutes  distance  weather_fog  \\\n",
              "8708   0.473684     0.56                  1.0  0.404165          0.0   \n",
              "25198  1.000000     0.76                  0.0  0.154044          0.0   \n",
              "34049  0.473684     0.80                  0.5  0.002461          0.0   \n",
              "25987  1.000000     0.92                  1.0  0.460411          0.0   \n",
              "37121  0.526316     0.76                  0.5  0.243676          0.0   \n",
              "...         ...      ...                  ...       ...          ...   \n",
              "20239  0.578947     0.92                  0.5  0.451895          0.0   \n",
              "7590   0.052632     1.00                  1.0  0.612270          0.0   \n",
              "13610  0.526316     0.92                  0.0  0.322877          0.0   \n",
              "1045   0.947368     0.96                  0.5  0.004486          0.0   \n",
              "18968  0.684211     0.96                  0.0  0.481978          0.0   \n",
              "\n",
              "       weather_sandstorms  weather_stormy  weather_sunny  weather_windy  \\\n",
              "8708                  0.0             0.0            1.0            0.0   \n",
              "25198                 1.0             0.0            0.0            0.0   \n",
              "34049                 0.0             0.0            1.0            0.0   \n",
              "25987                 1.0             0.0            0.0            0.0   \n",
              "37121                 0.0             0.0            0.0            1.0   \n",
              "...                   ...             ...            ...            ...   \n",
              "20239                 0.0             0.0            1.0            0.0   \n",
              "7590                  1.0             0.0            0.0            0.0   \n",
              "13610                 0.0             0.0            0.0            0.0   \n",
              "1045                  0.0             0.0            1.0            0.0   \n",
              "18968                 0.0             0.0            0.0            1.0   \n",
              "\n",
              "       type_of_order_drinks  ...  city_type_semi-urban  city_type_urban  \\\n",
              "8708                    1.0  ...                   1.0              0.0   \n",
              "25198                   0.0  ...                   0.0              0.0   \n",
              "34049                   0.0  ...                   0.0              1.0   \n",
              "25987                   0.0  ...                   0.0              0.0   \n",
              "37121                   0.0  ...                   0.0              0.0   \n",
              "...                     ...  ...                   ...              ...   \n",
              "20239                   0.0  ...                   0.0              0.0   \n",
              "7590                    0.0  ...                   0.0              0.0   \n",
              "13610                   0.0  ...                   0.0              0.0   \n",
              "1045                    0.0  ...                   0.0              1.0   \n",
              "18968                   0.0  ...                   0.0              1.0   \n",
              "\n",
              "       is_weekend_1  order_time_of_day_evening  order_time_of_day_morning  \\\n",
              "8708            0.0                        0.0                        0.0   \n",
              "25198           1.0                        0.0                        0.0   \n",
              "34049           0.0                        0.0                        1.0   \n",
              "25987           1.0                        0.0                        0.0   \n",
              "37121           1.0                        0.0                        0.0   \n",
              "...             ...                        ...                        ...   \n",
              "20239           1.0                        1.0                        0.0   \n",
              "7590            1.0                        1.0                        0.0   \n",
              "13610           1.0                        0.0                        0.0   \n",
              "1045            1.0                        0.0                        1.0   \n",
              "18968           0.0                        0.0                        0.0   \n",
              "\n",
              "       order_time_of_day_night  traffic  distance_type  vehicle_condition  \\\n",
              "8708                       1.0      3.0            1.0                  0   \n",
              "25198                      0.0      1.0            0.0                  0   \n",
              "34049                      0.0      2.0            0.0                  1   \n",
              "25987                      1.0      0.0            2.0                  0   \n",
              "37121                      0.0      1.0            1.0                  1   \n",
              "...                        ...      ...            ...                ...   \n",
              "20239                      0.0      3.0            2.0                  0   \n",
              "7590                       0.0      1.0            2.0                  1   \n",
              "13610                      0.0      1.0            1.0                  1   \n",
              "1045                       0.0      0.0            0.0                  0   \n",
              "18968                      1.0      0.0            2.0                  2   \n",
              "\n",
              "       multiple_deliveries  \n",
              "8708                   2.0  \n",
              "25198                  1.0  \n",
              "34049                  0.0  \n",
              "25987                  1.0  \n",
              "37121                  1.0  \n",
              "...                    ...  \n",
              "20239                  0.0  \n",
              "7590                   1.0  \n",
              "13610                  0.0  \n",
              "1045                   1.0  \n",
              "18968                  1.0  \n",
              "\n",
              "[30156 rows x 25 columns]"
            ]
          },
          "execution_count": 31,
          "metadata": {},
          "output_type": "execute_result"
        }
      ],
      "source": [
        "X_train_trans"
      ]
    },
    {
      "cell_type": "code",
      "execution_count": 32,
      "metadata": {
        "id": "vvAmK7Wfq8rV"
      },
      "outputs": [],
      "source": [
        "from sklearn.linear_model import LinearRegression\n",
        "from sklearn.tree import DecisionTreeRegressor\n",
        "from sklearn.neighbors import KNeighborsRegressor\n",
        "from sklearn.ensemble import RandomForestRegressor\n",
        "from lightgbm import LGBMRegressor\n",
        "import optuna\n",
        "from sklearn.metrics import mean_absolute_error"
      ]
    },
    {
      "cell_type": "code",
      "execution_count": 33,
      "metadata": {
        "id": "7-i3qhXbteRD"
      },
      "outputs": [],
      "source": [
        "from sklearn.metrics import r2_score, mean_absolute_error\n",
        "from sklearn.model_selection import cross_val_score\n",
        "from sklearn.compose import TransformedTargetRegressor\n",
        "from sklearn.ensemble import StackingRegressor"
      ]
    },
    {
      "cell_type": "code",
      "execution_count": 34,
      "metadata": {
        "id": "UvNzl_q2G20K"
      },
      "outputs": [],
      "source": [
        "# build the best models\n",
        "\n",
        "best_rf_params = {'n_estimators': 479,\n",
        " 'criterion': 'squared_error',\n",
        " 'max_depth': 17,\n",
        " 'max_features': None,\n",
        " 'min_samples_split': 9,\n",
        " 'min_samples_leaf': 2,\n",
        " 'max_samples': 0.6603673526197067}\n",
        "\n",
        "best_lgbm_params = {'n_estimators': 154,\n",
        " 'max_depth': 27,\n",
        " 'learning_rate': 0.22234435854395157,\n",
        " 'subsample': 0.7592213724048168,\n",
        " 'min_child_weight': 20,\n",
        " 'min_split_gain': 0.004604680609280751,\n",
        " 'reg_lambda': 97.81002379097947}\n",
        "\n",
        "best_rf = RandomForestRegressor(**best_rf_params)\n",
        "best_lgbm = LGBMRegressor(**best_lgbm_params)"
      ]
    },
    {
      "cell_type": "code",
      "execution_count": 35,
      "metadata": {
        "id": "RvZDCzGZrGQK"
      },
      "outputs": [],
      "source": [
        "def objective(trial):\n",
        "    with mlflow.start_run(nested=True):\n",
        "        meta_model_name = trial.suggest_categorical(\"model\",[\"LR\",\"KNN\",\"DT\"])\n",
        "\n",
        "        if meta_model_name == \"LR\":\n",
        "            meta = LinearRegression()\n",
        "\n",
        "        elif meta_model_name == \"KNN\":\n",
        "            n_neighbors_knn = trial.suggest_int(\"n_neighbors_knn\",1,15)\n",
        "            weights_knn = trial.suggest_categorical(\"weights_knn\",[\"uniform\",\"distance\"])\n",
        "            meta = KNeighborsRegressor(n_neighbors=n_neighbors_knn,\n",
        "                                        weights=weights_knn,n_jobs=-1)\n",
        "\n",
        "        elif meta_model_name == \"DT\":\n",
        "            max_depth_dt = trial.suggest_int(\"max_depth_dt\",1,10)\n",
        "            min_samples_split_dt = trial.suggest_int(\"min_samples_split_dt\",2,10)\n",
        "            min_samples_leaf_dt = trial.suggest_int(\"min_samples_leaf_dt\",1,10)\n",
        "            meta = DecisionTreeRegressor(max_depth=max_depth_dt,\n",
        "                                        min_samples_split=min_samples_split_dt,\n",
        "                                        min_samples_leaf=min_samples_leaf_dt,\n",
        "                                        random_state=42)\n",
        "\n",
        "        # log meta model name\n",
        "        mlflow.log_param(\"meta_model_name\",meta_model_name)\n",
        "\n",
        "        # stacking regressor\n",
        "        stacking_reg = StackingRegressor(estimators=[(\"rf\",best_rf),\n",
        "                                                    (\"lgbm\",best_lgbm)],\n",
        "                                        final_estimator=meta,\n",
        "                                        cv=5,n_jobs=-1)\n",
        "\n",
        "        # build transformed regressor\n",
        "        model = TransformedTargetRegressor(regressor=stacking_reg,\n",
        "                                            transformer=pt)\n",
        "\n",
        "        # train the model\n",
        "        model.fit(X_train_trans,y_train)\n",
        "\n",
        "        # get the predictions\n",
        "        y_pred_test = model.predict(X_test_trans)\n",
        "\n",
        "        # mean absoulte error\n",
        "        error = mean_absolute_error(y_test,y_pred_test)\n",
        "\n",
        "        # log error\n",
        "        mlflow.log_metric(\"MAE\",error)\n",
        "\n",
        "        return error"
      ]
    },
    {
      "cell_type": "code",
      "execution_count": 36,
      "metadata": {
        "colab": {
          "base_uri": "https://localhost:8080/",
          "height": 1000,
          "referenced_widgets": [
            "2c4387b480724e9793ffdc00f147e5cc",
            "f217ce87bcc047bc8d3b81aa13fbdc3f",
            "41ed1597e6b74a0fa642066656a9172a",
            "182ca831b7ca4eccbfb6b32b7b0a3c75",
            "6c88635aa0374cf39b7761c64db311c3",
            "62c77ad10c85467c81c8158508abb3b2",
            "5edf8a7b4d3b4dc697449879a45d12e6",
            "5a066db0ea7f4e198e28aa1772bb0868",
            "171ae20d738941e0bef22bcfdf99b5b1",
            "3cd0b804460149a1973a4bb1785a1b64",
            "8d3a836fea1645a0949bca5c959fbbf6"
          ]
        },
        "id": "yKs32EWWs42v",
        "outputId": "a7bd1d91-1b25-4949-832d-9abbbb1477e5"
      },
      "outputs": [
        {
          "name": "stderr",
          "output_type": "stream",
          "text": [
            "[I 2025-02-13 12:55:10,273] A new study created in memory with name: no-name-0ecae2f3-7aff-4d1d-b72f-9503bb9e7183\n"
          ]
        },
        {
          "data": {
            "application/vnd.jupyter.widget-view+json": {
              "model_id": "ebccc0213006495f9c5555845b143817",
              "version_major": 2,
              "version_minor": 0
            },
            "text/plain": [
              "  0%|          | 0/20 [00:00<?, ?it/s]"
            ]
          },
          "metadata": {},
          "output_type": "display_data"
        },
        {
          "name": "stdout",
          "output_type": "stream",
          "text": [
            "🏃 View run selective-asp-148 at: https://dagshub.com/aryan0147/Capstone-Project-3.mlflow/#/experiments/4/runs/373a03ebc08241579406d4202f39be10\n",
            "🧪 View experiment at: https://dagshub.com/aryan0147/Capstone-Project-3.mlflow/#/experiments/4\n",
            "[I 2025-02-13 12:58:50,626] Trial 9 finished with value: 3.0558568876253984 and parameters: {'model': 'DT', 'max_depth_dt': 8, 'min_samples_split_dt': 4, 'min_samples_leaf_dt': 2}. Best is trial 9 with value: 3.0558568876253984.\n",
            "🏃 View run beautiful-deer-346 at: https://dagshub.com/aryan0147/Capstone-Project-3.mlflow/#/experiments/4/runs/d3258c07b5cf4ca69a4180a5632b8e9e\n",
            "🧪 View experiment at: https://dagshub.com/aryan0147/Capstone-Project-3.mlflow/#/experiments/4\n",
            "🏃 View run unruly-jay-37 at: https://dagshub.com/aryan0147/Capstone-Project-3.mlflow/#/experiments/4/runs/9296fe0e8b3147f795c4205f15a3ea85\n",
            "🧪 View experiment at: https://dagshub.com/aryan0147/Capstone-Project-3.mlflow/#/experiments/4\n",
            "[I 2025-02-13 12:58:51,808] Trial 3 finished with value: 3.0533632936543684 and parameters: {'model': 'DT', 'max_depth_dt': 8, 'min_samples_split_dt': 7, 'min_samples_leaf_dt': 7}. Best is trial 3 with value: 3.0533632936543684.\n",
            "[I 2025-02-13 12:58:51,818] Trial 4 finished with value: 3.300272060239962 and parameters: {'model': 'KNN', 'n_neighbors_knn': 4, 'weights_knn': 'uniform'}. Best is trial 3 with value: 3.0533632936543684.\n",
            "🏃 View run bedecked-horse-252 at: https://dagshub.com/aryan0147/Capstone-Project-3.mlflow/#/experiments/4/runs/9d15e6690ab34eb7b9f94818df5c369f\n",
            "🧪 View experiment at: https://dagshub.com/aryan0147/Capstone-Project-3.mlflow/#/experiments/4\n",
            "[I 2025-02-13 12:58:59,445] Trial 5 finished with value: 3.1530024073163947 and parameters: {'model': 'KNN', 'n_neighbors_knn': 15, 'weights_knn': 'distance'}. Best is trial 3 with value: 3.0533632936543684.\n",
            "🏃 View run rumbling-shark-424 at: https://dagshub.com/aryan0147/Capstone-Project-3.mlflow/#/experiments/4/runs/da57fd55a70a467ea43a0d41716f1da1\n",
            "🧪 View experiment at: https://dagshub.com/aryan0147/Capstone-Project-3.mlflow/#/experiments/4\n",
            "🏃 View run popular-stork-453 at: https://dagshub.com/aryan0147/Capstone-Project-3.mlflow/#/experiments/4/runs/73e254e2728d49618944fd9ede4d4eff\n",
            "🧪 View experiment at: https://dagshub.com/aryan0147/Capstone-Project-3.mlflow/#/experiments/4\n",
            "[I 2025-02-13 13:00:32,788] Trial 11 finished with value: 3.0171732279919024 and parameters: {'model': 'LR'}. Best is trial 11 with value: 3.0171732279919024.\n",
            "[I 2025-02-13 13:00:33,016] Trial 0 finished with value: 3.1748779488935144 and parameters: {'model': 'DT', 'max_depth_dt': 3, 'min_samples_split_dt': 5, 'min_samples_leaf_dt': 3}. Best is trial 11 with value: 3.0171732279919024.\n",
            "🏃 View run thoughtful-bee-354 at: https://dagshub.com/aryan0147/Capstone-Project-3.mlflow/#/experiments/4/runs/372f1f68981f4d0abbb945b80dbd5a92\n",
            "🧪 View experiment at: https://dagshub.com/aryan0147/Capstone-Project-3.mlflow/#/experiments/4\n",
            "[I 2025-02-13 13:00:54,786] Trial 2 finished with value: 3.0134722016172764 and parameters: {'model': 'LR'}. Best is trial 2 with value: 3.0134722016172764.\n",
            "🏃 View run abrasive-bat-974 at: https://dagshub.com/aryan0147/Capstone-Project-3.mlflow/#/experiments/4/runs/cdee648cf4554f9fa81774427f2a0ae6\n",
            "🧪 View experiment at: https://dagshub.com/aryan0147/Capstone-Project-3.mlflow/#/experiments/4\n",
            "[I 2025-02-13 13:01:16,514] Trial 6 finished with value: 3.3131150422264466 and parameters: {'model': 'KNN', 'n_neighbors_knn': 5, 'weights_knn': 'distance'}. Best is trial 2 with value: 3.0134722016172764.\n",
            "🏃 View run amazing-flea-695 at: https://dagshub.com/aryan0147/Capstone-Project-3.mlflow/#/experiments/4/runs/6a819f21793140dc9248de6c96cd2abb\n",
            "🧪 View experiment at: https://dagshub.com/aryan0147/Capstone-Project-3.mlflow/#/experiments/4\n",
            "[I 2025-02-13 13:01:17,994] Trial 8 finished with value: 4.9103380233632 and parameters: {'model': 'DT', 'max_depth_dt': 1, 'min_samples_split_dt': 3, 'min_samples_leaf_dt': 3}. Best is trial 2 with value: 3.0134722016172764.\n",
            "🏃 View run glamorous-lamb-927 at: https://dagshub.com/aryan0147/Capstone-Project-3.mlflow/#/experiments/4/runs/330645cb800f424aaa359896d9d77d86\n",
            "🧪 View experiment at: https://dagshub.com/aryan0147/Capstone-Project-3.mlflow/#/experiments/4\n",
            "[I 2025-02-13 13:01:18,925] Trial 7 finished with value: 3.0708240611768383 and parameters: {'model': 'DT', 'max_depth_dt': 4, 'min_samples_split_dt': 2, 'min_samples_leaf_dt': 10}. Best is trial 2 with value: 3.0134722016172764.\n",
            "🏃 View run nimble-frog-764 at: https://dagshub.com/aryan0147/Capstone-Project-3.mlflow/#/experiments/4/runs/85148504cec943339dcf144462921a5f\n",
            "🧪 View experiment at: https://dagshub.com/aryan0147/Capstone-Project-3.mlflow/#/experiments/4\n",
            "[I 2025-02-13 13:01:30,675] Trial 1 finished with value: 3.026140464603743 and parameters: {'model': 'DT', 'max_depth_dt': 7, 'min_samples_split_dt': 5, 'min_samples_leaf_dt': 9}. Best is trial 2 with value: 3.0134722016172764.\n",
            "🏃 View run gaudy-dolphin-73 at: https://dagshub.com/aryan0147/Capstone-Project-3.mlflow/#/experiments/4/runs/a3f4be7219c34accbd4d87e0ee2da656\n",
            "🧪 View experiment at: https://dagshub.com/aryan0147/Capstone-Project-3.mlflow/#/experiments/4\n",
            "[I 2025-02-13 13:01:45,174] Trial 10 finished with value: 3.015343640419071 and parameters: {'model': 'LR'}. Best is trial 2 with value: 3.0134722016172764.\n",
            "🏃 View run clumsy-moose-117 at: https://dagshub.com/aryan0147/Capstone-Project-3.mlflow/#/experiments/4/runs/65a40a58fe9347d18b25bdc9449c6da5\n",
            "🧪 View experiment at: https://dagshub.com/aryan0147/Capstone-Project-3.mlflow/#/experiments/4\n",
            "[I 2025-02-13 13:05:32,778] Trial 12 finished with value: 3.0149419800086585 and parameters: {'model': 'LR'}. Best is trial 2 with value: 3.0134722016172764.\n",
            "🏃 View run gentle-shrew-97 at: https://dagshub.com/aryan0147/Capstone-Project-3.mlflow/#/experiments/4/runs/8ecfc86a6ea842c69393b61c4d22a823\n",
            "🧪 View experiment at: https://dagshub.com/aryan0147/Capstone-Project-3.mlflow/#/experiments/4\n",
            "[I 2025-02-13 13:05:34,068] Trial 14 finished with value: 3.0164723748947724 and parameters: {'model': 'LR'}. Best is trial 2 with value: 3.0134722016172764.\n",
            "🏃 View run enchanting-shoat-958 at: https://dagshub.com/aryan0147/Capstone-Project-3.mlflow/#/experiments/4/runs/4666deae8b8e4a40a4ee52c7591151b1\n",
            "🧪 View experiment at: https://dagshub.com/aryan0147/Capstone-Project-3.mlflow/#/experiments/4\n",
            "[I 2025-02-13 13:05:34,646] Trial 13 finished with value: 3.1408823830650565 and parameters: {'model': 'KNN', 'n_neighbors_knn': 13, 'weights_knn': 'distance'}. Best is trial 2 with value: 3.0134722016172764.\n",
            "🏃 View run bold-bird-254 at: https://dagshub.com/aryan0147/Capstone-Project-3.mlflow/#/experiments/4/runs/ba91033b361c4cc9bc89ecf9b2ad800e\n",
            "🧪 View experiment at: https://dagshub.com/aryan0147/Capstone-Project-3.mlflow/#/experiments/4\n",
            "🏃 View run masked-shrike-501 at: https://dagshub.com/aryan0147/Capstone-Project-3.mlflow/#/experiments/4/runs/d2401b658a95411faf5d5163f13f5002\n",
            "🧪 View experiment at: https://dagshub.com/aryan0147/Capstone-Project-3.mlflow/#/experiments/4\n",
            "[I 2025-02-13 13:05:36,021] Trial 16 finished with value: 3.183950692014967 and parameters: {'model': 'KNN', 'n_neighbors_knn': 6, 'weights_knn': 'uniform'}. Best is trial 2 with value: 3.0134722016172764.\n",
            "🏃 View run dapper-robin-620 at: https://dagshub.com/aryan0147/Capstone-Project-3.mlflow/#/experiments/4/runs/ba576a084307476b93569e31812a96cc\n",
            "🧪 View experiment at: https://dagshub.com/aryan0147/Capstone-Project-3.mlflow/#/experiments/4\n",
            "[I 2025-02-13 13:05:38,098] Trial 15 finished with value: 3.295246604357955 and parameters: {'model': 'KNN', 'n_neighbors_knn': 5, 'weights_knn': 'distance'}. Best is trial 2 with value: 3.0134722016172764.\n",
            "[I 2025-02-13 13:05:40,000] Trial 18 finished with value: 3.016959159913774 and parameters: {'model': 'LR'}. Best is trial 2 with value: 3.0134722016172764.\n",
            "🏃 View run unruly-frog-449 at: https://dagshub.com/aryan0147/Capstone-Project-3.mlflow/#/experiments/4/runs/3909f3e4bf924331b553dba55c899cdc\n",
            "🧪 View experiment at: https://dagshub.com/aryan0147/Capstone-Project-3.mlflow/#/experiments/4\n",
            "[I 2025-02-13 13:05:42,006] Trial 19 finished with value: 3.5888454306161175 and parameters: {'model': 'KNN', 'n_neighbors_knn': 2, 'weights_knn': 'uniform'}. Best is trial 2 with value: 3.0134722016172764.\n",
            "🏃 View run invincible-eel-16 at: https://dagshub.com/aryan0147/Capstone-Project-3.mlflow/#/experiments/4/runs/d2791fa3d7464716b10be3b8c2be7c6e\n",
            "🧪 View experiment at: https://dagshub.com/aryan0147/Capstone-Project-3.mlflow/#/experiments/4\n",
            "[I 2025-02-13 13:05:56,601] Trial 17 finished with value: 3.0453999725253937 and parameters: {'model': 'DT', 'max_depth_dt': 8, 'min_samples_split_dt': 5, 'min_samples_leaf_dt': 7}. Best is trial 2 with value: 3.0134722016172764.\n",
            "🏃 View run best_model at: https://dagshub.com/aryan0147/Capstone-Project-3.mlflow/#/experiments/4/runs/3a325f326b424eedb79734e8245fdaa7\n",
            "🧪 View experiment at: https://dagshub.com/aryan0147/Capstone-Project-3.mlflow/#/experiments/4\n"
          ]
        }
      ],
      "source": [
        "# create optuna study\n",
        "study = optuna.create_study(direction=\"minimize\")\n",
        "\n",
        "with mlflow.start_run(run_name=\"best_model\"):\n",
        "    # optimize the objective function\n",
        "    study.optimize(objective,n_trials=20,n_jobs=-1,show_progress_bar=True)\n",
        "\n",
        "    # log the best parameters\n",
        "    mlflow.log_params(study.best_params)\n",
        "\n",
        "    # log the best score\n",
        "    mlflow.log_metric(\"best_score\",study.best_value)"
      ]
    },
    {
      "cell_type": "code",
      "execution_count": 38,
      "metadata": {
        "colab": {
          "base_uri": "https://localhost:8080/"
        },
        "id": "grjxczsHftoc",
        "outputId": "e2249315-f827-4fef-9a37-84b573afbd03"
      },
      "outputs": [
        {
          "data": {
            "text/plain": [
              "{'model': 'LR'}"
            ]
          },
          "execution_count": 38,
          "metadata": {},
          "output_type": "execute_result"
        }
      ],
      "source": [
        "# best parameter value\n",
        "\n",
        "best_params = study.best_params\n",
        "\n",
        "best_params"
      ]
    },
    {
      "cell_type": "code",
      "execution_count": 39,
      "metadata": {
        "colab": {
          "base_uri": "https://localhost:8080/",
          "height": 209
        },
        "id": "rx40mWBepwcC",
        "outputId": "3988eaad-f897-48af-9e39-54cdeada4c20"
      },
      "outputs": [
        {
          "data": {
            "text/plain": [
              "params_model\n",
              "DT     7\n",
              "KNN    7\n",
              "LR     6\n",
              "Name: count, dtype: int64"
            ]
          },
          "execution_count": 39,
          "metadata": {},
          "output_type": "execute_result"
        }
      ],
      "source": [
        "# parameter value counts\n",
        "\n",
        "study.trials_dataframe()[\"params_model\"].value_counts()"
      ]
    },
    {
      "cell_type": "code",
      "execution_count": 40,
      "metadata": {
        "colab": {
          "base_uri": "https://localhost:8080/",
          "height": 209
        },
        "id": "gQVB14pPqEio",
        "outputId": "e366d33a-7bbb-48d4-f370-06881a07337a"
      },
      "outputs": [
        {
          "data": {
            "text/plain": [
              "params_model\n",
              "LR     3.015727\n",
              "KNN    3.282188\n",
              "DT     3.333829\n",
              "Name: value, dtype: float64"
            ]
          },
          "execution_count": 40,
          "metadata": {},
          "output_type": "execute_result"
        }
      ],
      "source": [
        "# mean scores for each meta estimator type\n",
        "\n",
        "study.trials_dataframe().groupby(by=\"params_model\")['value'].mean().sort_values()"
      ]
    },
    {
      "cell_type": "code",
      "execution_count": 41,
      "metadata": {
        "colab": {
          "base_uri": "https://localhost:8080/"
        },
        "id": "56OTolVRfzTd",
        "outputId": "40eb2753-c476-4a56-bb7f-38a93bb34f48"
      },
      "outputs": [
        {
          "data": {
            "text/plain": [
              "3.0134722016172764"
            ]
          },
          "execution_count": 41,
          "metadata": {},
          "output_type": "execute_result"
        }
      ],
      "source": [
        "# best score\n",
        "\n",
        "study.best_value"
      ]
    },
    {
      "cell_type": "code",
      "execution_count": 42,
      "metadata": {
        "colab": {
          "base_uri": "https://localhost:8080/",
          "height": 542
        },
        "id": "XGuyq81b7GI4",
        "outputId": "0311a5eb-79a9-41f5-bf49-b5338e4ede57"
      },
      "outputs": [
        {
          "data": {
            "application/vnd.plotly.v1+json": {
              "config": {
                "plotlyServerURL": "https://plot.ly"
              },
              "data": [
                {
                  "mode": "markers",
                  "name": "Objective Value",
                  "type": "scatter",
                  "x": [
                    0,
                    1,
                    2,
                    3,
                    4,
                    5,
                    6,
                    7,
                    8,
                    9,
                    10,
                    11,
                    12,
                    13,
                    14,
                    15,
                    16,
                    17,
                    18,
                    19
                  ],
                  "y": [
                    3.1748779488935144,
                    3.026140464603743,
                    3.0134722016172764,
                    3.0533632936543684,
                    3.300272060239962,
                    3.1530024073163947,
                    3.3131150422264466,
                    3.0708240611768383,
                    4.9103380233632,
                    3.0558568876253984,
                    3.015343640419071,
                    3.0171732279919024,
                    3.0149419800086585,
                    3.1408823830650565,
                    3.0164723748947724,
                    3.295246604357955,
                    3.183950692014967,
                    3.0453999725253937,
                    3.016959159913774,
                    3.5888454306161175
                  ]
                },
                {
                  "mode": "lines",
                  "name": "Best Value",
                  "type": "scatter",
                  "x": [
                    0,
                    1,
                    2,
                    3,
                    4,
                    5,
                    6,
                    7,
                    8,
                    9,
                    10,
                    11,
                    12,
                    13,
                    14,
                    15,
                    16,
                    17,
                    18,
                    19
                  ],
                  "y": [
                    3.1748779488935144,
                    3.026140464603743,
                    3.0134722016172764,
                    3.0134722016172764,
                    3.0134722016172764,
                    3.0134722016172764,
                    3.0134722016172764,
                    3.0134722016172764,
                    3.0134722016172764,
                    3.0134722016172764,
                    3.0134722016172764,
                    3.0134722016172764,
                    3.0134722016172764,
                    3.0134722016172764,
                    3.0134722016172764,
                    3.0134722016172764,
                    3.0134722016172764,
                    3.0134722016172764,
                    3.0134722016172764,
                    3.0134722016172764
                  ]
                },
                {
                  "marker": {
                    "color": "#cccccc"
                  },
                  "mode": "markers",
                  "name": "Infeasible Trial",
                  "showlegend": false,
                  "type": "scatter",
                  "x": [],
                  "y": []
                }
              ],
              "layout": {
                "template": {
                  "data": {
                    "bar": [
                      {
                        "error_x": {
                          "color": "#2a3f5f"
                        },
                        "error_y": {
                          "color": "#2a3f5f"
                        },
                        "marker": {
                          "line": {
                            "color": "#E5ECF6",
                            "width": 0.5
                          },
                          "pattern": {
                            "fillmode": "overlay",
                            "size": 10,
                            "solidity": 0.2
                          }
                        },
                        "type": "bar"
                      }
                    ],
                    "barpolar": [
                      {
                        "marker": {
                          "line": {
                            "color": "#E5ECF6",
                            "width": 0.5
                          },
                          "pattern": {
                            "fillmode": "overlay",
                            "size": 10,
                            "solidity": 0.2
                          }
                        },
                        "type": "barpolar"
                      }
                    ],
                    "carpet": [
                      {
                        "aaxis": {
                          "endlinecolor": "#2a3f5f",
                          "gridcolor": "white",
                          "linecolor": "white",
                          "minorgridcolor": "white",
                          "startlinecolor": "#2a3f5f"
                        },
                        "baxis": {
                          "endlinecolor": "#2a3f5f",
                          "gridcolor": "white",
                          "linecolor": "white",
                          "minorgridcolor": "white",
                          "startlinecolor": "#2a3f5f"
                        },
                        "type": "carpet"
                      }
                    ],
                    "choropleth": [
                      {
                        "colorbar": {
                          "outlinewidth": 0,
                          "ticks": ""
                        },
                        "type": "choropleth"
                      }
                    ],
                    "contour": [
                      {
                        "colorbar": {
                          "outlinewidth": 0,
                          "ticks": ""
                        },
                        "colorscale": [
                          [
                            0,
                            "#0d0887"
                          ],
                          [
                            0.1111111111111111,
                            "#46039f"
                          ],
                          [
                            0.2222222222222222,
                            "#7201a8"
                          ],
                          [
                            0.3333333333333333,
                            "#9c179e"
                          ],
                          [
                            0.4444444444444444,
                            "#bd3786"
                          ],
                          [
                            0.5555555555555556,
                            "#d8576b"
                          ],
                          [
                            0.6666666666666666,
                            "#ed7953"
                          ],
                          [
                            0.7777777777777778,
                            "#fb9f3a"
                          ],
                          [
                            0.8888888888888888,
                            "#fdca26"
                          ],
                          [
                            1,
                            "#f0f921"
                          ]
                        ],
                        "type": "contour"
                      }
                    ],
                    "contourcarpet": [
                      {
                        "colorbar": {
                          "outlinewidth": 0,
                          "ticks": ""
                        },
                        "type": "contourcarpet"
                      }
                    ],
                    "heatmap": [
                      {
                        "colorbar": {
                          "outlinewidth": 0,
                          "ticks": ""
                        },
                        "colorscale": [
                          [
                            0,
                            "#0d0887"
                          ],
                          [
                            0.1111111111111111,
                            "#46039f"
                          ],
                          [
                            0.2222222222222222,
                            "#7201a8"
                          ],
                          [
                            0.3333333333333333,
                            "#9c179e"
                          ],
                          [
                            0.4444444444444444,
                            "#bd3786"
                          ],
                          [
                            0.5555555555555556,
                            "#d8576b"
                          ],
                          [
                            0.6666666666666666,
                            "#ed7953"
                          ],
                          [
                            0.7777777777777778,
                            "#fb9f3a"
                          ],
                          [
                            0.8888888888888888,
                            "#fdca26"
                          ],
                          [
                            1,
                            "#f0f921"
                          ]
                        ],
                        "type": "heatmap"
                      }
                    ],
                    "heatmapgl": [
                      {
                        "colorbar": {
                          "outlinewidth": 0,
                          "ticks": ""
                        },
                        "colorscale": [
                          [
                            0,
                            "#0d0887"
                          ],
                          [
                            0.1111111111111111,
                            "#46039f"
                          ],
                          [
                            0.2222222222222222,
                            "#7201a8"
                          ],
                          [
                            0.3333333333333333,
                            "#9c179e"
                          ],
                          [
                            0.4444444444444444,
                            "#bd3786"
                          ],
                          [
                            0.5555555555555556,
                            "#d8576b"
                          ],
                          [
                            0.6666666666666666,
                            "#ed7953"
                          ],
                          [
                            0.7777777777777778,
                            "#fb9f3a"
                          ],
                          [
                            0.8888888888888888,
                            "#fdca26"
                          ],
                          [
                            1,
                            "#f0f921"
                          ]
                        ],
                        "type": "heatmapgl"
                      }
                    ],
                    "histogram": [
                      {
                        "marker": {
                          "pattern": {
                            "fillmode": "overlay",
                            "size": 10,
                            "solidity": 0.2
                          }
                        },
                        "type": "histogram"
                      }
                    ],
                    "histogram2d": [
                      {
                        "colorbar": {
                          "outlinewidth": 0,
                          "ticks": ""
                        },
                        "colorscale": [
                          [
                            0,
                            "#0d0887"
                          ],
                          [
                            0.1111111111111111,
                            "#46039f"
                          ],
                          [
                            0.2222222222222222,
                            "#7201a8"
                          ],
                          [
                            0.3333333333333333,
                            "#9c179e"
                          ],
                          [
                            0.4444444444444444,
                            "#bd3786"
                          ],
                          [
                            0.5555555555555556,
                            "#d8576b"
                          ],
                          [
                            0.6666666666666666,
                            "#ed7953"
                          ],
                          [
                            0.7777777777777778,
                            "#fb9f3a"
                          ],
                          [
                            0.8888888888888888,
                            "#fdca26"
                          ],
                          [
                            1,
                            "#f0f921"
                          ]
                        ],
                        "type": "histogram2d"
                      }
                    ],
                    "histogram2dcontour": [
                      {
                        "colorbar": {
                          "outlinewidth": 0,
                          "ticks": ""
                        },
                        "colorscale": [
                          [
                            0,
                            "#0d0887"
                          ],
                          [
                            0.1111111111111111,
                            "#46039f"
                          ],
                          [
                            0.2222222222222222,
                            "#7201a8"
                          ],
                          [
                            0.3333333333333333,
                            "#9c179e"
                          ],
                          [
                            0.4444444444444444,
                            "#bd3786"
                          ],
                          [
                            0.5555555555555556,
                            "#d8576b"
                          ],
                          [
                            0.6666666666666666,
                            "#ed7953"
                          ],
                          [
                            0.7777777777777778,
                            "#fb9f3a"
                          ],
                          [
                            0.8888888888888888,
                            "#fdca26"
                          ],
                          [
                            1,
                            "#f0f921"
                          ]
                        ],
                        "type": "histogram2dcontour"
                      }
                    ],
                    "mesh3d": [
                      {
                        "colorbar": {
                          "outlinewidth": 0,
                          "ticks": ""
                        },
                        "type": "mesh3d"
                      }
                    ],
                    "parcoords": [
                      {
                        "line": {
                          "colorbar": {
                            "outlinewidth": 0,
                            "ticks": ""
                          }
                        },
                        "type": "parcoords"
                      }
                    ],
                    "pie": [
                      {
                        "automargin": true,
                        "type": "pie"
                      }
                    ],
                    "scatter": [
                      {
                        "fillpattern": {
                          "fillmode": "overlay",
                          "size": 10,
                          "solidity": 0.2
                        },
                        "type": "scatter"
                      }
                    ],
                    "scatter3d": [
                      {
                        "line": {
                          "colorbar": {
                            "outlinewidth": 0,
                            "ticks": ""
                          }
                        },
                        "marker": {
                          "colorbar": {
                            "outlinewidth": 0,
                            "ticks": ""
                          }
                        },
                        "type": "scatter3d"
                      }
                    ],
                    "scattercarpet": [
                      {
                        "marker": {
                          "colorbar": {
                            "outlinewidth": 0,
                            "ticks": ""
                          }
                        },
                        "type": "scattercarpet"
                      }
                    ],
                    "scattergeo": [
                      {
                        "marker": {
                          "colorbar": {
                            "outlinewidth": 0,
                            "ticks": ""
                          }
                        },
                        "type": "scattergeo"
                      }
                    ],
                    "scattergl": [
                      {
                        "marker": {
                          "colorbar": {
                            "outlinewidth": 0,
                            "ticks": ""
                          }
                        },
                        "type": "scattergl"
                      }
                    ],
                    "scattermapbox": [
                      {
                        "marker": {
                          "colorbar": {
                            "outlinewidth": 0,
                            "ticks": ""
                          }
                        },
                        "type": "scattermapbox"
                      }
                    ],
                    "scatterpolar": [
                      {
                        "marker": {
                          "colorbar": {
                            "outlinewidth": 0,
                            "ticks": ""
                          }
                        },
                        "type": "scatterpolar"
                      }
                    ],
                    "scatterpolargl": [
                      {
                        "marker": {
                          "colorbar": {
                            "outlinewidth": 0,
                            "ticks": ""
                          }
                        },
                        "type": "scatterpolargl"
                      }
                    ],
                    "scatterternary": [
                      {
                        "marker": {
                          "colorbar": {
                            "outlinewidth": 0,
                            "ticks": ""
                          }
                        },
                        "type": "scatterternary"
                      }
                    ],
                    "surface": [
                      {
                        "colorbar": {
                          "outlinewidth": 0,
                          "ticks": ""
                        },
                        "colorscale": [
                          [
                            0,
                            "#0d0887"
                          ],
                          [
                            0.1111111111111111,
                            "#46039f"
                          ],
                          [
                            0.2222222222222222,
                            "#7201a8"
                          ],
                          [
                            0.3333333333333333,
                            "#9c179e"
                          ],
                          [
                            0.4444444444444444,
                            "#bd3786"
                          ],
                          [
                            0.5555555555555556,
                            "#d8576b"
                          ],
                          [
                            0.6666666666666666,
                            "#ed7953"
                          ],
                          [
                            0.7777777777777778,
                            "#fb9f3a"
                          ],
                          [
                            0.8888888888888888,
                            "#fdca26"
                          ],
                          [
                            1,
                            "#f0f921"
                          ]
                        ],
                        "type": "surface"
                      }
                    ],
                    "table": [
                      {
                        "cells": {
                          "fill": {
                            "color": "#EBF0F8"
                          },
                          "line": {
                            "color": "white"
                          }
                        },
                        "header": {
                          "fill": {
                            "color": "#C8D4E3"
                          },
                          "line": {
                            "color": "white"
                          }
                        },
                        "type": "table"
                      }
                    ]
                  },
                  "layout": {
                    "annotationdefaults": {
                      "arrowcolor": "#2a3f5f",
                      "arrowhead": 0,
                      "arrowwidth": 1
                    },
                    "autotypenumbers": "strict",
                    "coloraxis": {
                      "colorbar": {
                        "outlinewidth": 0,
                        "ticks": ""
                      }
                    },
                    "colorscale": {
                      "diverging": [
                        [
                          0,
                          "#8e0152"
                        ],
                        [
                          0.1,
                          "#c51b7d"
                        ],
                        [
                          0.2,
                          "#de77ae"
                        ],
                        [
                          0.3,
                          "#f1b6da"
                        ],
                        [
                          0.4,
                          "#fde0ef"
                        ],
                        [
                          0.5,
                          "#f7f7f7"
                        ],
                        [
                          0.6,
                          "#e6f5d0"
                        ],
                        [
                          0.7,
                          "#b8e186"
                        ],
                        [
                          0.8,
                          "#7fbc41"
                        ],
                        [
                          0.9,
                          "#4d9221"
                        ],
                        [
                          1,
                          "#276419"
                        ]
                      ],
                      "sequential": [
                        [
                          0,
                          "#0d0887"
                        ],
                        [
                          0.1111111111111111,
                          "#46039f"
                        ],
                        [
                          0.2222222222222222,
                          "#7201a8"
                        ],
                        [
                          0.3333333333333333,
                          "#9c179e"
                        ],
                        [
                          0.4444444444444444,
                          "#bd3786"
                        ],
                        [
                          0.5555555555555556,
                          "#d8576b"
                        ],
                        [
                          0.6666666666666666,
                          "#ed7953"
                        ],
                        [
                          0.7777777777777778,
                          "#fb9f3a"
                        ],
                        [
                          0.8888888888888888,
                          "#fdca26"
                        ],
                        [
                          1,
                          "#f0f921"
                        ]
                      ],
                      "sequentialminus": [
                        [
                          0,
                          "#0d0887"
                        ],
                        [
                          0.1111111111111111,
                          "#46039f"
                        ],
                        [
                          0.2222222222222222,
                          "#7201a8"
                        ],
                        [
                          0.3333333333333333,
                          "#9c179e"
                        ],
                        [
                          0.4444444444444444,
                          "#bd3786"
                        ],
                        [
                          0.5555555555555556,
                          "#d8576b"
                        ],
                        [
                          0.6666666666666666,
                          "#ed7953"
                        ],
                        [
                          0.7777777777777778,
                          "#fb9f3a"
                        ],
                        [
                          0.8888888888888888,
                          "#fdca26"
                        ],
                        [
                          1,
                          "#f0f921"
                        ]
                      ]
                    },
                    "colorway": [
                      "#636efa",
                      "#EF553B",
                      "#00cc96",
                      "#ab63fa",
                      "#FFA15A",
                      "#19d3f3",
                      "#FF6692",
                      "#B6E880",
                      "#FF97FF",
                      "#FECB52"
                    ],
                    "font": {
                      "color": "#2a3f5f"
                    },
                    "geo": {
                      "bgcolor": "white",
                      "lakecolor": "white",
                      "landcolor": "#E5ECF6",
                      "showlakes": true,
                      "showland": true,
                      "subunitcolor": "white"
                    },
                    "hoverlabel": {
                      "align": "left"
                    },
                    "hovermode": "closest",
                    "mapbox": {
                      "style": "light"
                    },
                    "paper_bgcolor": "white",
                    "plot_bgcolor": "#E5ECF6",
                    "polar": {
                      "angularaxis": {
                        "gridcolor": "white",
                        "linecolor": "white",
                        "ticks": ""
                      },
                      "bgcolor": "#E5ECF6",
                      "radialaxis": {
                        "gridcolor": "white",
                        "linecolor": "white",
                        "ticks": ""
                      }
                    },
                    "scene": {
                      "xaxis": {
                        "backgroundcolor": "#E5ECF6",
                        "gridcolor": "white",
                        "gridwidth": 2,
                        "linecolor": "white",
                        "showbackground": true,
                        "ticks": "",
                        "zerolinecolor": "white"
                      },
                      "yaxis": {
                        "backgroundcolor": "#E5ECF6",
                        "gridcolor": "white",
                        "gridwidth": 2,
                        "linecolor": "white",
                        "showbackground": true,
                        "ticks": "",
                        "zerolinecolor": "white"
                      },
                      "zaxis": {
                        "backgroundcolor": "#E5ECF6",
                        "gridcolor": "white",
                        "gridwidth": 2,
                        "linecolor": "white",
                        "showbackground": true,
                        "ticks": "",
                        "zerolinecolor": "white"
                      }
                    },
                    "shapedefaults": {
                      "line": {
                        "color": "#2a3f5f"
                      }
                    },
                    "ternary": {
                      "aaxis": {
                        "gridcolor": "white",
                        "linecolor": "white",
                        "ticks": ""
                      },
                      "baxis": {
                        "gridcolor": "white",
                        "linecolor": "white",
                        "ticks": ""
                      },
                      "bgcolor": "#E5ECF6",
                      "caxis": {
                        "gridcolor": "white",
                        "linecolor": "white",
                        "ticks": ""
                      }
                    },
                    "title": {
                      "x": 0.05
                    },
                    "xaxis": {
                      "automargin": true,
                      "gridcolor": "white",
                      "linecolor": "white",
                      "ticks": "",
                      "title": {
                        "standoff": 15
                      },
                      "zerolinecolor": "white",
                      "zerolinewidth": 2
                    },
                    "yaxis": {
                      "automargin": true,
                      "gridcolor": "white",
                      "linecolor": "white",
                      "ticks": "",
                      "title": {
                        "standoff": 15
                      },
                      "zerolinecolor": "white",
                      "zerolinewidth": 2
                    }
                  }
                },
                "title": {
                  "text": "Optimization History Plot"
                },
                "xaxis": {
                  "title": {
                    "text": "Trial"
                  }
                },
                "yaxis": {
                  "title": {
                    "text": "Objective Value"
                  }
                }
              }
            }
          },
          "metadata": {},
          "output_type": "display_data"
        }
      ],
      "source": [
        "# optimization history plot\n",
        "\n",
        "optuna.visualization.plot_optimization_history(study)"
      ]
    },
    {
      "cell_type": "code",
      "execution_count": 43,
      "metadata": {
        "colab": {
          "base_uri": "https://localhost:8080/",
          "height": 542
        },
        "id": "Cb2IFC1Nqwf9",
        "outputId": "ee90d944-f457-4e0a-eb01-8af70b38a187"
      },
      "outputs": [
        {
          "data": {
            "application/vnd.plotly.v1+json": {
              "config": {
                "plotlyServerURL": "https://plot.ly"
              },
              "data": [
                {
                  "dimensions": [
                    {
                      "label": "Objective Value",
                      "range": [
                        3.0134722016172764,
                        4.9103380233632
                      ],
                      "values": [
                        3.1748779488935144,
                        3.026140464603743,
                        3.0134722016172764,
                        3.0533632936543684,
                        3.300272060239962,
                        3.1530024073163947,
                        3.3131150422264466,
                        3.0708240611768383,
                        4.9103380233632,
                        3.0558568876253984,
                        3.015343640419071,
                        3.0171732279919024,
                        3.0149419800086585,
                        3.1408823830650565,
                        3.0164723748947724,
                        3.295246604357955,
                        3.183950692014967,
                        3.0453999725253937,
                        3.016959159913774,
                        3.5888454306161175
                      ]
                    },
                    {
                      "label": "model",
                      "range": [
                        0,
                        2
                      ],
                      "ticktext": [
                        "DT",
                        "LR",
                        "KNN"
                      ],
                      "tickvals": [
                        0,
                        1,
                        2
                      ],
                      "values": [
                        0,
                        0,
                        1,
                        0,
                        2,
                        2,
                        2,
                        0,
                        0,
                        0,
                        1,
                        1,
                        1,
                        2,
                        1,
                        2,
                        2,
                        0,
                        1,
                        2
                      ]
                    }
                  ],
                  "labelangle": 30,
                  "labelside": "bottom",
                  "line": {
                    "color": [
                      3.1748779488935144,
                      3.026140464603743,
                      3.0134722016172764,
                      3.0533632936543684,
                      3.300272060239962,
                      3.1530024073163947,
                      3.3131150422264466,
                      3.0708240611768383,
                      4.9103380233632,
                      3.0558568876253984,
                      3.015343640419071,
                      3.0171732279919024,
                      3.0149419800086585,
                      3.1408823830650565,
                      3.0164723748947724,
                      3.295246604357955,
                      3.183950692014967,
                      3.0453999725253937,
                      3.016959159913774,
                      3.5888454306161175
                    ],
                    "colorbar": {
                      "title": {
                        "text": "Objective Value"
                      }
                    },
                    "colorscale": [
                      [
                        0,
                        "rgb(247,251,255)"
                      ],
                      [
                        0.125,
                        "rgb(222,235,247)"
                      ],
                      [
                        0.25,
                        "rgb(198,219,239)"
                      ],
                      [
                        0.375,
                        "rgb(158,202,225)"
                      ],
                      [
                        0.5,
                        "rgb(107,174,214)"
                      ],
                      [
                        0.625,
                        "rgb(66,146,198)"
                      ],
                      [
                        0.75,
                        "rgb(33,113,181)"
                      ],
                      [
                        0.875,
                        "rgb(8,81,156)"
                      ],
                      [
                        1,
                        "rgb(8,48,107)"
                      ]
                    ],
                    "reversescale": true,
                    "showscale": true
                  },
                  "type": "parcoords"
                }
              ],
              "layout": {
                "template": {
                  "data": {
                    "bar": [
                      {
                        "error_x": {
                          "color": "#2a3f5f"
                        },
                        "error_y": {
                          "color": "#2a3f5f"
                        },
                        "marker": {
                          "line": {
                            "color": "#E5ECF6",
                            "width": 0.5
                          },
                          "pattern": {
                            "fillmode": "overlay",
                            "size": 10,
                            "solidity": 0.2
                          }
                        },
                        "type": "bar"
                      }
                    ],
                    "barpolar": [
                      {
                        "marker": {
                          "line": {
                            "color": "#E5ECF6",
                            "width": 0.5
                          },
                          "pattern": {
                            "fillmode": "overlay",
                            "size": 10,
                            "solidity": 0.2
                          }
                        },
                        "type": "barpolar"
                      }
                    ],
                    "carpet": [
                      {
                        "aaxis": {
                          "endlinecolor": "#2a3f5f",
                          "gridcolor": "white",
                          "linecolor": "white",
                          "minorgridcolor": "white",
                          "startlinecolor": "#2a3f5f"
                        },
                        "baxis": {
                          "endlinecolor": "#2a3f5f",
                          "gridcolor": "white",
                          "linecolor": "white",
                          "minorgridcolor": "white",
                          "startlinecolor": "#2a3f5f"
                        },
                        "type": "carpet"
                      }
                    ],
                    "choropleth": [
                      {
                        "colorbar": {
                          "outlinewidth": 0,
                          "ticks": ""
                        },
                        "type": "choropleth"
                      }
                    ],
                    "contour": [
                      {
                        "colorbar": {
                          "outlinewidth": 0,
                          "ticks": ""
                        },
                        "colorscale": [
                          [
                            0,
                            "#0d0887"
                          ],
                          [
                            0.1111111111111111,
                            "#46039f"
                          ],
                          [
                            0.2222222222222222,
                            "#7201a8"
                          ],
                          [
                            0.3333333333333333,
                            "#9c179e"
                          ],
                          [
                            0.4444444444444444,
                            "#bd3786"
                          ],
                          [
                            0.5555555555555556,
                            "#d8576b"
                          ],
                          [
                            0.6666666666666666,
                            "#ed7953"
                          ],
                          [
                            0.7777777777777778,
                            "#fb9f3a"
                          ],
                          [
                            0.8888888888888888,
                            "#fdca26"
                          ],
                          [
                            1,
                            "#f0f921"
                          ]
                        ],
                        "type": "contour"
                      }
                    ],
                    "contourcarpet": [
                      {
                        "colorbar": {
                          "outlinewidth": 0,
                          "ticks": ""
                        },
                        "type": "contourcarpet"
                      }
                    ],
                    "heatmap": [
                      {
                        "colorbar": {
                          "outlinewidth": 0,
                          "ticks": ""
                        },
                        "colorscale": [
                          [
                            0,
                            "#0d0887"
                          ],
                          [
                            0.1111111111111111,
                            "#46039f"
                          ],
                          [
                            0.2222222222222222,
                            "#7201a8"
                          ],
                          [
                            0.3333333333333333,
                            "#9c179e"
                          ],
                          [
                            0.4444444444444444,
                            "#bd3786"
                          ],
                          [
                            0.5555555555555556,
                            "#d8576b"
                          ],
                          [
                            0.6666666666666666,
                            "#ed7953"
                          ],
                          [
                            0.7777777777777778,
                            "#fb9f3a"
                          ],
                          [
                            0.8888888888888888,
                            "#fdca26"
                          ],
                          [
                            1,
                            "#f0f921"
                          ]
                        ],
                        "type": "heatmap"
                      }
                    ],
                    "heatmapgl": [
                      {
                        "colorbar": {
                          "outlinewidth": 0,
                          "ticks": ""
                        },
                        "colorscale": [
                          [
                            0,
                            "#0d0887"
                          ],
                          [
                            0.1111111111111111,
                            "#46039f"
                          ],
                          [
                            0.2222222222222222,
                            "#7201a8"
                          ],
                          [
                            0.3333333333333333,
                            "#9c179e"
                          ],
                          [
                            0.4444444444444444,
                            "#bd3786"
                          ],
                          [
                            0.5555555555555556,
                            "#d8576b"
                          ],
                          [
                            0.6666666666666666,
                            "#ed7953"
                          ],
                          [
                            0.7777777777777778,
                            "#fb9f3a"
                          ],
                          [
                            0.8888888888888888,
                            "#fdca26"
                          ],
                          [
                            1,
                            "#f0f921"
                          ]
                        ],
                        "type": "heatmapgl"
                      }
                    ],
                    "histogram": [
                      {
                        "marker": {
                          "pattern": {
                            "fillmode": "overlay",
                            "size": 10,
                            "solidity": 0.2
                          }
                        },
                        "type": "histogram"
                      }
                    ],
                    "histogram2d": [
                      {
                        "colorbar": {
                          "outlinewidth": 0,
                          "ticks": ""
                        },
                        "colorscale": [
                          [
                            0,
                            "#0d0887"
                          ],
                          [
                            0.1111111111111111,
                            "#46039f"
                          ],
                          [
                            0.2222222222222222,
                            "#7201a8"
                          ],
                          [
                            0.3333333333333333,
                            "#9c179e"
                          ],
                          [
                            0.4444444444444444,
                            "#bd3786"
                          ],
                          [
                            0.5555555555555556,
                            "#d8576b"
                          ],
                          [
                            0.6666666666666666,
                            "#ed7953"
                          ],
                          [
                            0.7777777777777778,
                            "#fb9f3a"
                          ],
                          [
                            0.8888888888888888,
                            "#fdca26"
                          ],
                          [
                            1,
                            "#f0f921"
                          ]
                        ],
                        "type": "histogram2d"
                      }
                    ],
                    "histogram2dcontour": [
                      {
                        "colorbar": {
                          "outlinewidth": 0,
                          "ticks": ""
                        },
                        "colorscale": [
                          [
                            0,
                            "#0d0887"
                          ],
                          [
                            0.1111111111111111,
                            "#46039f"
                          ],
                          [
                            0.2222222222222222,
                            "#7201a8"
                          ],
                          [
                            0.3333333333333333,
                            "#9c179e"
                          ],
                          [
                            0.4444444444444444,
                            "#bd3786"
                          ],
                          [
                            0.5555555555555556,
                            "#d8576b"
                          ],
                          [
                            0.6666666666666666,
                            "#ed7953"
                          ],
                          [
                            0.7777777777777778,
                            "#fb9f3a"
                          ],
                          [
                            0.8888888888888888,
                            "#fdca26"
                          ],
                          [
                            1,
                            "#f0f921"
                          ]
                        ],
                        "type": "histogram2dcontour"
                      }
                    ],
                    "mesh3d": [
                      {
                        "colorbar": {
                          "outlinewidth": 0,
                          "ticks": ""
                        },
                        "type": "mesh3d"
                      }
                    ],
                    "parcoords": [
                      {
                        "line": {
                          "colorbar": {
                            "outlinewidth": 0,
                            "ticks": ""
                          }
                        },
                        "type": "parcoords"
                      }
                    ],
                    "pie": [
                      {
                        "automargin": true,
                        "type": "pie"
                      }
                    ],
                    "scatter": [
                      {
                        "fillpattern": {
                          "fillmode": "overlay",
                          "size": 10,
                          "solidity": 0.2
                        },
                        "type": "scatter"
                      }
                    ],
                    "scatter3d": [
                      {
                        "line": {
                          "colorbar": {
                            "outlinewidth": 0,
                            "ticks": ""
                          }
                        },
                        "marker": {
                          "colorbar": {
                            "outlinewidth": 0,
                            "ticks": ""
                          }
                        },
                        "type": "scatter3d"
                      }
                    ],
                    "scattercarpet": [
                      {
                        "marker": {
                          "colorbar": {
                            "outlinewidth": 0,
                            "ticks": ""
                          }
                        },
                        "type": "scattercarpet"
                      }
                    ],
                    "scattergeo": [
                      {
                        "marker": {
                          "colorbar": {
                            "outlinewidth": 0,
                            "ticks": ""
                          }
                        },
                        "type": "scattergeo"
                      }
                    ],
                    "scattergl": [
                      {
                        "marker": {
                          "colorbar": {
                            "outlinewidth": 0,
                            "ticks": ""
                          }
                        },
                        "type": "scattergl"
                      }
                    ],
                    "scattermapbox": [
                      {
                        "marker": {
                          "colorbar": {
                            "outlinewidth": 0,
                            "ticks": ""
                          }
                        },
                        "type": "scattermapbox"
                      }
                    ],
                    "scatterpolar": [
                      {
                        "marker": {
                          "colorbar": {
                            "outlinewidth": 0,
                            "ticks": ""
                          }
                        },
                        "type": "scatterpolar"
                      }
                    ],
                    "scatterpolargl": [
                      {
                        "marker": {
                          "colorbar": {
                            "outlinewidth": 0,
                            "ticks": ""
                          }
                        },
                        "type": "scatterpolargl"
                      }
                    ],
                    "scatterternary": [
                      {
                        "marker": {
                          "colorbar": {
                            "outlinewidth": 0,
                            "ticks": ""
                          }
                        },
                        "type": "scatterternary"
                      }
                    ],
                    "surface": [
                      {
                        "colorbar": {
                          "outlinewidth": 0,
                          "ticks": ""
                        },
                        "colorscale": [
                          [
                            0,
                            "#0d0887"
                          ],
                          [
                            0.1111111111111111,
                            "#46039f"
                          ],
                          [
                            0.2222222222222222,
                            "#7201a8"
                          ],
                          [
                            0.3333333333333333,
                            "#9c179e"
                          ],
                          [
                            0.4444444444444444,
                            "#bd3786"
                          ],
                          [
                            0.5555555555555556,
                            "#d8576b"
                          ],
                          [
                            0.6666666666666666,
                            "#ed7953"
                          ],
                          [
                            0.7777777777777778,
                            "#fb9f3a"
                          ],
                          [
                            0.8888888888888888,
                            "#fdca26"
                          ],
                          [
                            1,
                            "#f0f921"
                          ]
                        ],
                        "type": "surface"
                      }
                    ],
                    "table": [
                      {
                        "cells": {
                          "fill": {
                            "color": "#EBF0F8"
                          },
                          "line": {
                            "color": "white"
                          }
                        },
                        "header": {
                          "fill": {
                            "color": "#C8D4E3"
                          },
                          "line": {
                            "color": "white"
                          }
                        },
                        "type": "table"
                      }
                    ]
                  },
                  "layout": {
                    "annotationdefaults": {
                      "arrowcolor": "#2a3f5f",
                      "arrowhead": 0,
                      "arrowwidth": 1
                    },
                    "autotypenumbers": "strict",
                    "coloraxis": {
                      "colorbar": {
                        "outlinewidth": 0,
                        "ticks": ""
                      }
                    },
                    "colorscale": {
                      "diverging": [
                        [
                          0,
                          "#8e0152"
                        ],
                        [
                          0.1,
                          "#c51b7d"
                        ],
                        [
                          0.2,
                          "#de77ae"
                        ],
                        [
                          0.3,
                          "#f1b6da"
                        ],
                        [
                          0.4,
                          "#fde0ef"
                        ],
                        [
                          0.5,
                          "#f7f7f7"
                        ],
                        [
                          0.6,
                          "#e6f5d0"
                        ],
                        [
                          0.7,
                          "#b8e186"
                        ],
                        [
                          0.8,
                          "#7fbc41"
                        ],
                        [
                          0.9,
                          "#4d9221"
                        ],
                        [
                          1,
                          "#276419"
                        ]
                      ],
                      "sequential": [
                        [
                          0,
                          "#0d0887"
                        ],
                        [
                          0.1111111111111111,
                          "#46039f"
                        ],
                        [
                          0.2222222222222222,
                          "#7201a8"
                        ],
                        [
                          0.3333333333333333,
                          "#9c179e"
                        ],
                        [
                          0.4444444444444444,
                          "#bd3786"
                        ],
                        [
                          0.5555555555555556,
                          "#d8576b"
                        ],
                        [
                          0.6666666666666666,
                          "#ed7953"
                        ],
                        [
                          0.7777777777777778,
                          "#fb9f3a"
                        ],
                        [
                          0.8888888888888888,
                          "#fdca26"
                        ],
                        [
                          1,
                          "#f0f921"
                        ]
                      ],
                      "sequentialminus": [
                        [
                          0,
                          "#0d0887"
                        ],
                        [
                          0.1111111111111111,
                          "#46039f"
                        ],
                        [
                          0.2222222222222222,
                          "#7201a8"
                        ],
                        [
                          0.3333333333333333,
                          "#9c179e"
                        ],
                        [
                          0.4444444444444444,
                          "#bd3786"
                        ],
                        [
                          0.5555555555555556,
                          "#d8576b"
                        ],
                        [
                          0.6666666666666666,
                          "#ed7953"
                        ],
                        [
                          0.7777777777777778,
                          "#fb9f3a"
                        ],
                        [
                          0.8888888888888888,
                          "#fdca26"
                        ],
                        [
                          1,
                          "#f0f921"
                        ]
                      ]
                    },
                    "colorway": [
                      "#636efa",
                      "#EF553B",
                      "#00cc96",
                      "#ab63fa",
                      "#FFA15A",
                      "#19d3f3",
                      "#FF6692",
                      "#B6E880",
                      "#FF97FF",
                      "#FECB52"
                    ],
                    "font": {
                      "color": "#2a3f5f"
                    },
                    "geo": {
                      "bgcolor": "white",
                      "lakecolor": "white",
                      "landcolor": "#E5ECF6",
                      "showlakes": true,
                      "showland": true,
                      "subunitcolor": "white"
                    },
                    "hoverlabel": {
                      "align": "left"
                    },
                    "hovermode": "closest",
                    "mapbox": {
                      "style": "light"
                    },
                    "paper_bgcolor": "white",
                    "plot_bgcolor": "#E5ECF6",
                    "polar": {
                      "angularaxis": {
                        "gridcolor": "white",
                        "linecolor": "white",
                        "ticks": ""
                      },
                      "bgcolor": "#E5ECF6",
                      "radialaxis": {
                        "gridcolor": "white",
                        "linecolor": "white",
                        "ticks": ""
                      }
                    },
                    "scene": {
                      "xaxis": {
                        "backgroundcolor": "#E5ECF6",
                        "gridcolor": "white",
                        "gridwidth": 2,
                        "linecolor": "white",
                        "showbackground": true,
                        "ticks": "",
                        "zerolinecolor": "white"
                      },
                      "yaxis": {
                        "backgroundcolor": "#E5ECF6",
                        "gridcolor": "white",
                        "gridwidth": 2,
                        "linecolor": "white",
                        "showbackground": true,
                        "ticks": "",
                        "zerolinecolor": "white"
                      },
                      "zaxis": {
                        "backgroundcolor": "#E5ECF6",
                        "gridcolor": "white",
                        "gridwidth": 2,
                        "linecolor": "white",
                        "showbackground": true,
                        "ticks": "",
                        "zerolinecolor": "white"
                      }
                    },
                    "shapedefaults": {
                      "line": {
                        "color": "#2a3f5f"
                      }
                    },
                    "ternary": {
                      "aaxis": {
                        "gridcolor": "white",
                        "linecolor": "white",
                        "ticks": ""
                      },
                      "baxis": {
                        "gridcolor": "white",
                        "linecolor": "white",
                        "ticks": ""
                      },
                      "bgcolor": "#E5ECF6",
                      "caxis": {
                        "gridcolor": "white",
                        "linecolor": "white",
                        "ticks": ""
                      }
                    },
                    "title": {
                      "x": 0.05
                    },
                    "xaxis": {
                      "automargin": true,
                      "gridcolor": "white",
                      "linecolor": "white",
                      "ticks": "",
                      "title": {
                        "standoff": 15
                      },
                      "zerolinecolor": "white",
                      "zerolinewidth": 2
                    },
                    "yaxis": {
                      "automargin": true,
                      "gridcolor": "white",
                      "linecolor": "white",
                      "ticks": "",
                      "title": {
                        "standoff": 15
                      },
                      "zerolinecolor": "white",
                      "zerolinewidth": 2
                    }
                  }
                },
                "title": {
                  "text": "Parallel Coordinate Plot"
                }
              }
            }
          },
          "metadata": {},
          "output_type": "display_data"
        }
      ],
      "source": [
        "# parallel coord plot\n",
        "\n",
        "optuna.visualization.plot_parallel_coordinate(study,params=[\"model\"])"
      ]
    },
    {
      "cell_type": "code",
      "execution_count": null,
      "metadata": {
        "id": "elN4odJKq1dm"
      },
      "outputs": [],
      "source": []
    }
  ],
  "metadata": {
    "colab": {
      "provenance": []
    },
    "kernelspec": {
      "display_name": "base",
      "language": "python",
      "name": "python3"
    },
    "language_info": {
      "codemirror_mode": {
        "name": "ipython",
        "version": 3
      },
      "file_extension": ".py",
      "mimetype": "text/x-python",
      "name": "python",
      "nbconvert_exporter": "python",
      "pygments_lexer": "ipython3",
      "version": "3.12.7"
    },
    "widgets": {
      "application/vnd.jupyter.widget-state+json": {
        "171ae20d738941e0bef22bcfdf99b5b1": {
          "model_module": "@jupyter-widgets/controls",
          "model_module_version": "1.5.0",
          "model_name": "ProgressStyleModel",
          "state": {
            "_model_module": "@jupyter-widgets/controls",
            "_model_module_version": "1.5.0",
            "_model_name": "ProgressStyleModel",
            "_view_count": null,
            "_view_module": "@jupyter-widgets/base",
            "_view_module_version": "1.2.0",
            "_view_name": "StyleView",
            "bar_color": null,
            "description_width": ""
          }
        },
        "182ca831b7ca4eccbfb6b32b7b0a3c75": {
          "model_module": "@jupyter-widgets/controls",
          "model_module_version": "1.5.0",
          "model_name": "HTMLModel",
          "state": {
            "_dom_classes": [],
            "_model_module": "@jupyter-widgets/controls",
            "_model_module_version": "1.5.0",
            "_model_name": "HTMLModel",
            "_view_count": null,
            "_view_module": "@jupyter-widgets/controls",
            "_view_module_version": "1.5.0",
            "_view_name": "HTMLView",
            "description": "",
            "description_tooltip": null,
            "layout": "IPY_MODEL_3cd0b804460149a1973a4bb1785a1b64",
            "placeholder": "​",
            "style": "IPY_MODEL_8d3a836fea1645a0949bca5c959fbbf6",
            "value": " 20/20 [1:11:15&lt;00:00, 175.24s/it]"
          }
        },
        "2c4387b480724e9793ffdc00f147e5cc": {
          "model_module": "@jupyter-widgets/controls",
          "model_module_version": "1.5.0",
          "model_name": "HBoxModel",
          "state": {
            "_dom_classes": [],
            "_model_module": "@jupyter-widgets/controls",
            "_model_module_version": "1.5.0",
            "_model_name": "HBoxModel",
            "_view_count": null,
            "_view_module": "@jupyter-widgets/controls",
            "_view_module_version": "1.5.0",
            "_view_name": "HBoxView",
            "box_style": "",
            "children": [
              "IPY_MODEL_f217ce87bcc047bc8d3b81aa13fbdc3f",
              "IPY_MODEL_41ed1597e6b74a0fa642066656a9172a",
              "IPY_MODEL_182ca831b7ca4eccbfb6b32b7b0a3c75"
            ],
            "layout": "IPY_MODEL_6c88635aa0374cf39b7761c64db311c3"
          }
        },
        "3cd0b804460149a1973a4bb1785a1b64": {
          "model_module": "@jupyter-widgets/base",
          "model_module_version": "1.2.0",
          "model_name": "LayoutModel",
          "state": {
            "_model_module": "@jupyter-widgets/base",
            "_model_module_version": "1.2.0",
            "_model_name": "LayoutModel",
            "_view_count": null,
            "_view_module": "@jupyter-widgets/base",
            "_view_module_version": "1.2.0",
            "_view_name": "LayoutView",
            "align_content": null,
            "align_items": null,
            "align_self": null,
            "border": null,
            "bottom": null,
            "display": null,
            "flex": null,
            "flex_flow": null,
            "grid_area": null,
            "grid_auto_columns": null,
            "grid_auto_flow": null,
            "grid_auto_rows": null,
            "grid_column": null,
            "grid_gap": null,
            "grid_row": null,
            "grid_template_areas": null,
            "grid_template_columns": null,
            "grid_template_rows": null,
            "height": null,
            "justify_content": null,
            "justify_items": null,
            "left": null,
            "margin": null,
            "max_height": null,
            "max_width": null,
            "min_height": null,
            "min_width": null,
            "object_fit": null,
            "object_position": null,
            "order": null,
            "overflow": null,
            "overflow_x": null,
            "overflow_y": null,
            "padding": null,
            "right": null,
            "top": null,
            "visibility": null,
            "width": null
          }
        },
        "41ed1597e6b74a0fa642066656a9172a": {
          "model_module": "@jupyter-widgets/controls",
          "model_module_version": "1.5.0",
          "model_name": "FloatProgressModel",
          "state": {
            "_dom_classes": [],
            "_model_module": "@jupyter-widgets/controls",
            "_model_module_version": "1.5.0",
            "_model_name": "FloatProgressModel",
            "_view_count": null,
            "_view_module": "@jupyter-widgets/controls",
            "_view_module_version": "1.5.0",
            "_view_name": "ProgressView",
            "bar_style": "success",
            "description": "",
            "description_tooltip": null,
            "layout": "IPY_MODEL_5a066db0ea7f4e198e28aa1772bb0868",
            "max": 20,
            "min": 0,
            "orientation": "horizontal",
            "style": "IPY_MODEL_171ae20d738941e0bef22bcfdf99b5b1",
            "value": 20
          }
        },
        "5a066db0ea7f4e198e28aa1772bb0868": {
          "model_module": "@jupyter-widgets/base",
          "model_module_version": "1.2.0",
          "model_name": "LayoutModel",
          "state": {
            "_model_module": "@jupyter-widgets/base",
            "_model_module_version": "1.2.0",
            "_model_name": "LayoutModel",
            "_view_count": null,
            "_view_module": "@jupyter-widgets/base",
            "_view_module_version": "1.2.0",
            "_view_name": "LayoutView",
            "align_content": null,
            "align_items": null,
            "align_self": null,
            "border": null,
            "bottom": null,
            "display": null,
            "flex": null,
            "flex_flow": null,
            "grid_area": null,
            "grid_auto_columns": null,
            "grid_auto_flow": null,
            "grid_auto_rows": null,
            "grid_column": null,
            "grid_gap": null,
            "grid_row": null,
            "grid_template_areas": null,
            "grid_template_columns": null,
            "grid_template_rows": null,
            "height": null,
            "justify_content": null,
            "justify_items": null,
            "left": null,
            "margin": null,
            "max_height": null,
            "max_width": null,
            "min_height": null,
            "min_width": null,
            "object_fit": null,
            "object_position": null,
            "order": null,
            "overflow": null,
            "overflow_x": null,
            "overflow_y": null,
            "padding": null,
            "right": null,
            "top": null,
            "visibility": null,
            "width": null
          }
        },
        "5edf8a7b4d3b4dc697449879a45d12e6": {
          "model_module": "@jupyter-widgets/controls",
          "model_module_version": "1.5.0",
          "model_name": "DescriptionStyleModel",
          "state": {
            "_model_module": "@jupyter-widgets/controls",
            "_model_module_version": "1.5.0",
            "_model_name": "DescriptionStyleModel",
            "_view_count": null,
            "_view_module": "@jupyter-widgets/base",
            "_view_module_version": "1.2.0",
            "_view_name": "StyleView",
            "description_width": ""
          }
        },
        "62c77ad10c85467c81c8158508abb3b2": {
          "model_module": "@jupyter-widgets/base",
          "model_module_version": "1.2.0",
          "model_name": "LayoutModel",
          "state": {
            "_model_module": "@jupyter-widgets/base",
            "_model_module_version": "1.2.0",
            "_model_name": "LayoutModel",
            "_view_count": null,
            "_view_module": "@jupyter-widgets/base",
            "_view_module_version": "1.2.0",
            "_view_name": "LayoutView",
            "align_content": null,
            "align_items": null,
            "align_self": null,
            "border": null,
            "bottom": null,
            "display": null,
            "flex": null,
            "flex_flow": null,
            "grid_area": null,
            "grid_auto_columns": null,
            "grid_auto_flow": null,
            "grid_auto_rows": null,
            "grid_column": null,
            "grid_gap": null,
            "grid_row": null,
            "grid_template_areas": null,
            "grid_template_columns": null,
            "grid_template_rows": null,
            "height": null,
            "justify_content": null,
            "justify_items": null,
            "left": null,
            "margin": null,
            "max_height": null,
            "max_width": null,
            "min_height": null,
            "min_width": null,
            "object_fit": null,
            "object_position": null,
            "order": null,
            "overflow": null,
            "overflow_x": null,
            "overflow_y": null,
            "padding": null,
            "right": null,
            "top": null,
            "visibility": null,
            "width": null
          }
        },
        "6c88635aa0374cf39b7761c64db311c3": {
          "model_module": "@jupyter-widgets/base",
          "model_module_version": "1.2.0",
          "model_name": "LayoutModel",
          "state": {
            "_model_module": "@jupyter-widgets/base",
            "_model_module_version": "1.2.0",
            "_model_name": "LayoutModel",
            "_view_count": null,
            "_view_module": "@jupyter-widgets/base",
            "_view_module_version": "1.2.0",
            "_view_name": "LayoutView",
            "align_content": null,
            "align_items": null,
            "align_self": null,
            "border": null,
            "bottom": null,
            "display": null,
            "flex": null,
            "flex_flow": null,
            "grid_area": null,
            "grid_auto_columns": null,
            "grid_auto_flow": null,
            "grid_auto_rows": null,
            "grid_column": null,
            "grid_gap": null,
            "grid_row": null,
            "grid_template_areas": null,
            "grid_template_columns": null,
            "grid_template_rows": null,
            "height": null,
            "justify_content": null,
            "justify_items": null,
            "left": null,
            "margin": null,
            "max_height": null,
            "max_width": null,
            "min_height": null,
            "min_width": null,
            "object_fit": null,
            "object_position": null,
            "order": null,
            "overflow": null,
            "overflow_x": null,
            "overflow_y": null,
            "padding": null,
            "right": null,
            "top": null,
            "visibility": null,
            "width": null
          }
        },
        "8d3a836fea1645a0949bca5c959fbbf6": {
          "model_module": "@jupyter-widgets/controls",
          "model_module_version": "1.5.0",
          "model_name": "DescriptionStyleModel",
          "state": {
            "_model_module": "@jupyter-widgets/controls",
            "_model_module_version": "1.5.0",
            "_model_name": "DescriptionStyleModel",
            "_view_count": null,
            "_view_module": "@jupyter-widgets/base",
            "_view_module_version": "1.2.0",
            "_view_name": "StyleView",
            "description_width": ""
          }
        },
        "f217ce87bcc047bc8d3b81aa13fbdc3f": {
          "model_module": "@jupyter-widgets/controls",
          "model_module_version": "1.5.0",
          "model_name": "HTMLModel",
          "state": {
            "_dom_classes": [],
            "_model_module": "@jupyter-widgets/controls",
            "_model_module_version": "1.5.0",
            "_model_name": "HTMLModel",
            "_view_count": null,
            "_view_module": "@jupyter-widgets/controls",
            "_view_module_version": "1.5.0",
            "_view_name": "HTMLView",
            "description": "",
            "description_tooltip": null,
            "layout": "IPY_MODEL_62c77ad10c85467c81c8158508abb3b2",
            "placeholder": "​",
            "style": "IPY_MODEL_5edf8a7b4d3b4dc697449879a45d12e6",
            "value": "Best trial: 0. Best value: 3.01477: 100%"
          }
        }
      }
    }
  },
  "nbformat": 4,
  "nbformat_minor": 0
}
